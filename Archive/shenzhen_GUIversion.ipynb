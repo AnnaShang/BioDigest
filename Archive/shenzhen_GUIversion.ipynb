{
 "cells": [
  {
   "cell_type": "code",
   "execution_count": 11,
   "metadata": {},
   "outputs": [],
   "source": [
    "import pandas as pd\n",
    "import numpy as np\n",
    "import matplotlib.pyplot as plt\n",
    "from sklearn.model_selection import train_test_split\n",
    "from sklearn import datasets, linear_model\n",
    "from sklearn.metrics import mean_squared_error, r2_score\n",
    "import statsmodels.api as sm\n",
    "from statsmodels.formula.api import ols\n",
    "from sklearn.linear_model import perceptron\n",
    "from sklearn.neighbors import KNeighborsClassifier\n",
    "from sklearn.ensemble import RandomForestClassifier\n",
    "from sklearn.linear_model import LogisticRegression\n",
    "from sklearn import metrics\n",
    "%matplotlib inline"
   ]
  },
  {
   "cell_type": "markdown",
   "metadata": {},
   "source": [
    "# Data Cleaning"
   ]
  },
  {
   "cell_type": "code",
   "execution_count": 12,
   "metadata": {},
   "outputs": [
    {
     "name": "stdout",
     "output_type": "stream",
     "text": [
      "Index(['Unnamed: 0', 'Year', 'Month', 'Day', 'Kitchen_waste_',\n",
      "       'Fruit_and_vegetable_waste_', 'Bread_Paste_', 'Waste_oil_',\n",
      "       'Total_Waste_', 'Diesel_waste_water_', 'Flour_and_waste_oil_',\n",
      "       'Kitchen_waste_paste_', 'acid_feed', 'acid_discharge', 'anaerobic_feed',\n",
      "       'anaerobic_cumuprod', 'anaerobic_dailyoutput'],\n",
      "      dtype='object')\n"
     ]
    },
    {
     "data": {
      "text/html": [
       "<div>\n",
       "<style>\n",
       "    .dataframe thead tr:only-child th {\n",
       "        text-align: right;\n",
       "    }\n",
       "\n",
       "    .dataframe thead th {\n",
       "        text-align: left;\n",
       "    }\n",
       "\n",
       "    .dataframe tbody tr th {\n",
       "        vertical-align: top;\n",
       "    }\n",
       "</style>\n",
       "<table border=\"1\" class=\"dataframe\">\n",
       "  <thead>\n",
       "    <tr style=\"text-align: right;\">\n",
       "      <th></th>\n",
       "      <th>Kitchen_waste_</th>\n",
       "      <th>Fruit_and_vegetable_waste_</th>\n",
       "      <th>Bread_Paste_</th>\n",
       "      <th>Waste_oil_</th>\n",
       "      <th>Total_Waste_</th>\n",
       "      <th>Diesel_waste_water_</th>\n",
       "      <th>Flour_and_waste_oil_</th>\n",
       "      <th>Kitchen_waste_paste_</th>\n",
       "      <th>acid_feed</th>\n",
       "      <th>acid_discharge</th>\n",
       "      <th>anaerobic_feed</th>\n",
       "      <th>anaerobic_cumuprod</th>\n",
       "      <th>anaerobic_dailyoutput</th>\n",
       "    </tr>\n",
       "  </thead>\n",
       "  <tbody>\n",
       "    <tr>\n",
       "      <th>0</th>\n",
       "      <td>92.03</td>\n",
       "      <td>0.0</td>\n",
       "      <td>7.95</td>\n",
       "      <td>13.54</td>\n",
       "      <td>99.98</td>\n",
       "      <td>54.0</td>\n",
       "      <td>17.0</td>\n",
       "      <td>167</td>\n",
       "      <td>135.0</td>\n",
       "      <td>200.0</td>\n",
       "      <td>200.0</td>\n",
       "      <td>464356.0</td>\n",
       "      <td>9295.0</td>\n",
       "    </tr>\n",
       "    <tr>\n",
       "      <th>1</th>\n",
       "      <td>78.43</td>\n",
       "      <td>0.0</td>\n",
       "      <td>13.30</td>\n",
       "      <td>16.10</td>\n",
       "      <td>91.73</td>\n",
       "      <td>36.0</td>\n",
       "      <td>8.0</td>\n",
       "      <td>100</td>\n",
       "      <td>91.0</td>\n",
       "      <td>155.0</td>\n",
       "      <td>155.0</td>\n",
       "      <td>472980.0</td>\n",
       "      <td>8624.0</td>\n",
       "    </tr>\n",
       "    <tr>\n",
       "      <th>2</th>\n",
       "      <td>81.84</td>\n",
       "      <td>0.0</td>\n",
       "      <td>8.35</td>\n",
       "      <td>6.60</td>\n",
       "      <td>90.19</td>\n",
       "      <td>22.0</td>\n",
       "      <td>34.0</td>\n",
       "      <td>120</td>\n",
       "      <td>50.0</td>\n",
       "      <td>160.0</td>\n",
       "      <td>160.0</td>\n",
       "      <td>481426.0</td>\n",
       "      <td>8446.0</td>\n",
       "    </tr>\n",
       "    <tr>\n",
       "      <th>3</th>\n",
       "      <td>81.05</td>\n",
       "      <td>0.0</td>\n",
       "      <td>9.10</td>\n",
       "      <td>17.48</td>\n",
       "      <td>90.15</td>\n",
       "      <td>22.0</td>\n",
       "      <td>20.0</td>\n",
       "      <td>92</td>\n",
       "      <td>95.0</td>\n",
       "      <td>150.0</td>\n",
       "      <td>150.0</td>\n",
       "      <td>490210.0</td>\n",
       "      <td>8784.0</td>\n",
       "    </tr>\n",
       "    <tr>\n",
       "      <th>4</th>\n",
       "      <td>36.86</td>\n",
       "      <td>0.0</td>\n",
       "      <td>9.40</td>\n",
       "      <td>12.47</td>\n",
       "      <td>46.26</td>\n",
       "      <td>44.0</td>\n",
       "      <td>35.0</td>\n",
       "      <td>122</td>\n",
       "      <td>9.0</td>\n",
       "      <td>150.0</td>\n",
       "      <td>150.0</td>\n",
       "      <td>497959.0</td>\n",
       "      <td>7749.0</td>\n",
       "    </tr>\n",
       "  </tbody>\n",
       "</table>\n",
       "</div>"
      ],
      "text/plain": [
       "   Kitchen_waste_  Fruit_and_vegetable_waste_  Bread_Paste_  Waste_oil_  \\\n",
       "0           92.03                         0.0          7.95       13.54   \n",
       "1           78.43                         0.0         13.30       16.10   \n",
       "2           81.84                         0.0          8.35        6.60   \n",
       "3           81.05                         0.0          9.10       17.48   \n",
       "4           36.86                         0.0          9.40       12.47   \n",
       "\n",
       "   Total_Waste_  Diesel_waste_water_  Flour_and_waste_oil_  \\\n",
       "0         99.98                 54.0                  17.0   \n",
       "1         91.73                 36.0                   8.0   \n",
       "2         90.19                 22.0                  34.0   \n",
       "3         90.15                 22.0                  20.0   \n",
       "4         46.26                 44.0                  35.0   \n",
       "\n",
       "   Kitchen_waste_paste_  acid_feed  acid_discharge  anaerobic_feed  \\\n",
       "0                   167      135.0           200.0           200.0   \n",
       "1                   100       91.0           155.0           155.0   \n",
       "2                   120       50.0           160.0           160.0   \n",
       "3                    92       95.0           150.0           150.0   \n",
       "4                   122        9.0           150.0           150.0   \n",
       "\n",
       "   anaerobic_cumuprod  anaerobic_dailyoutput  \n",
       "0            464356.0                 9295.0  \n",
       "1            472980.0                 8624.0  \n",
       "2            481426.0                 8446.0  \n",
       "3            490210.0                 8784.0  \n",
       "4            497959.0                 7749.0  "
      ]
     },
     "execution_count": 12,
     "metadata": {},
     "output_type": "execute_result"
    }
   ],
   "source": [
    "shenzhen = pd.read_csv(\"Shenzhen_useful.csv\")\n",
    "shenzhen['acid_feed'] = shenzhen['1_acidification_hydrolysis_tank_feed_'] \\\n",
    "                                             + shenzhen['2_acidification_hydrolysis_tank_feed_']\n",
    "shenzhen['acid_discharge']  = shenzhen['1_acidification_hydrolysis_tank_discharge_']\\\n",
    "                                             + shenzhen['2_acidification_hydrolysis_tank_discharge_']\n",
    "shenzhen['anaerobic_feed'] = shenzhen['1_Anaerobic_tank_slurry_feed_'] \\\n",
    "                                             + shenzhen['2_Anaerobic_tank_slurry_feed_']\n",
    "shenzhen['anaerobic_cumuprod'] = shenzhen['1_Anaerobic_tank_biogas_cumulative_production_'] \\\n",
    "                                             + shenzhen['2_anaerobic_tank_biogas_cumulative_production_']\n",
    "shenzhen['anaerobic_dailyoutput'] = shenzhen['1_anaerobic_tank_biogas_daily_output_'] \\\n",
    "                                             + shenzhen['2_anaerobic_tank_biogas_daily_output_']\n",
    "shenzhen = shenzhen.drop(['1_acidification_hydrolysis_tank_feed_','2_acidification_hydrolysis_tank_feed_',\\\n",
    "               '1_acidification_hydrolysis_tank_discharge_','2_acidification_hydrolysis_tank_discharge_',\\\n",
    "               '1_Anaerobic_tank_slurry_feed_','2_Anaerobic_tank_slurry_feed_',\\\n",
    "               '1_Anaerobic_tank_biogas_cumulative_production_','2_anaerobic_tank_biogas_cumulative_production_',\\\n",
    "               '1_anaerobic_tank_biogas_daily_output_','2_anaerobic_tank_biogas_daily_output_'],axis = 1)\n",
    "print(shenzhen.columns)\n",
    "shenzhen.head(20)\n",
    "shenzhen.acid_feed = shenzhen.acid_feed.shift(-15)\n",
    "shenzhen.acid_discharge = shenzhen.acid_discharge.shift(-15)\n",
    "shenzhen.anaerobic_feed = shenzhen.anaerobic_feed.shift(-15)\n",
    "shenzhen.anaerobic_cumuprod = shenzhen.anaerobic_cumuprod.shift(-15)\n",
    "shenzhen.anaerobic_dailyoutput = shenzhen.anaerobic_dailyoutput.shift(-15)\n",
    "shenzhen = shenzhen.drop(['Year','Month','Day'], axis=1)\n",
    "shenzhen = shenzhen.drop(['Unnamed: 0'], axis=1)\n",
    "shenzhen = shenzhen[:-15]\n",
    "shenzhen.head()"
   ]
  },
  {
   "cell_type": "markdown",
   "metadata": {},
   "source": [
    "# Preliminary Work"
   ]
  },
  {
   "cell_type": "code",
   "execution_count": 13,
   "metadata": {},
   "outputs": [
    {
     "name": "stderr",
     "output_type": "stream",
     "text": [
      "/Users/joyce/anaconda3/lib/python3.6/site-packages/ipykernel_launcher.py:4: SettingWithCopyWarning: \n",
      "A value is trying to be set on a copy of a slice from a DataFrame\n",
      "\n",
      "See the caveats in the documentation: http://pandas.pydata.org/pandas-docs/stable/indexing.html#indexing-view-versus-copy\n",
      "  after removing the cwd from sys.path.\n",
      "/Users/joyce/anaconda3/lib/python3.6/site-packages/ipykernel_launcher.py:6: SettingWithCopyWarning: \n",
      "A value is trying to be set on a copy of a slice from a DataFrame\n",
      "\n",
      "See the caveats in the documentation: http://pandas.pydata.org/pandas-docs/stable/indexing.html#indexing-view-versus-copy\n",
      "  \n",
      "/Users/joyce/anaconda3/lib/python3.6/site-packages/ipykernel_launcher.py:8: SettingWithCopyWarning: \n",
      "A value is trying to be set on a copy of a slice from a DataFrame\n",
      "\n",
      "See the caveats in the documentation: http://pandas.pydata.org/pandas-docs/stable/indexing.html#indexing-view-versus-copy\n",
      "  \n",
      "/Users/joyce/anaconda3/lib/python3.6/site-packages/ipykernel_launcher.py:10: SettingWithCopyWarning: \n",
      "A value is trying to be set on a copy of a slice from a DataFrame\n",
      "\n",
      "See the caveats in the documentation: http://pandas.pydata.org/pandas-docs/stable/indexing.html#indexing-view-versus-copy\n",
      "  # Remove the CWD from sys.path while we load stuff.\n"
     ]
    }
   ],
   "source": [
    "shenzhen['daymean'] = np.nan\n",
    "for index,row in shenzhen.iterrows():\n",
    "    if index == 0:\n",
    "        shenzhen.daymean[index] = shenzhen.anaerobic_dailyoutput[index]\n",
    "    elif index == 1:\n",
    "        shenzhen.daymean[index] = shenzhen.anaerobic_dailyoutput[index]\n",
    "    elif index == 2:\n",
    "        shenzhen.daymean[index] = shenzhen.anaerobic_dailyoutput[index]    \n",
    "    else:\n",
    "        shenzhen.daymean[index] = (shenzhen.daymean[index-1] + shenzhen.daymean[index-2] +\\\n",
    "                                   shenzhen.daymean[index-3])/3"
   ]
  },
  {
   "cell_type": "code",
   "execution_count": 14,
   "metadata": {
    "collapsed": true
   },
   "outputs": [],
   "source": [
    "shenzhen['anaerobic_dailyoutput']=pd.cut(shenzhen['anaerobic_dailyoutput'],bins = 3)\n",
    "shenzhen.anaerobic_dailyoutput = pd.factorize(shenzhen.anaerobic_dailyoutput)[0]"
   ]
  },
  {
   "cell_type": "code",
   "execution_count": 15,
   "metadata": {},
   "outputs": [
    {
     "name": "stderr",
     "output_type": "stream",
     "text": [
      "/Users/joyce/anaconda3/lib/python3.6/site-packages/ipykernel_launcher.py:6: RuntimeWarning: divide by zero encountered in log\n",
      "  \n"
     ]
    }
   ],
   "source": [
    "for col in shenzhen.columns[:10]:\n",
    "    shenzhen['1/'+col] = 1/(shenzhen[col])\n",
    "for col in shenzhen.columns[:10]:\n",
    "    shenzhen[col+\"**2\"] = (shenzhen[col])**2\n",
    "for col in shenzhen.columns[:10]:\n",
    "    shenzhen[col+\"log\"] = np.log(shenzhen[col])"
   ]
  },
  {
   "cell_type": "code",
   "execution_count": 16,
   "metadata": {
    "collapsed": true
   },
   "outputs": [],
   "source": [
    "shenzhen.replace(float('inf'), 0, inplace = True)\n",
    "shenzhen.replace(float('-inf'), 0, inplace = True)"
   ]
  },
  {
   "cell_type": "code",
   "execution_count": 17,
   "metadata": {},
   "outputs": [
    {
     "name": "stdout",
     "output_type": "stream",
     "text": [
      "train data len: 374\n",
      "test data len: 67\n"
     ]
    }
   ],
   "source": [
    "shenzhen_train, shenzhen_test = train_test_split(shenzhen, test_size=0.15)\n",
    "print('train data len:',len(shenzhen_train))\n",
    "print('test data len:',len(shenzhen_test))"
   ]
  },
  {
   "cell_type": "code",
   "execution_count": 18,
   "metadata": {
    "collapsed": true
   },
   "outputs": [],
   "source": [
    "# set the train and test data\n",
    "X_traincla = shenzhen_train[['Kitchen_waste_', 'Fruit_and_vegetable_waste_', 'Bread_Paste_',\\\n",
    "                             'Waste_oil_', 'Total_Waste_', 'Diesel_waste_water_',\\\n",
    "                             'Flour_and_waste_oil_', 'Kitchen_waste_paste_', 'acid_feed',\\\n",
    "                             'acid_discharge','daymean','1/Kitchen_waste_', '1/Fruit_and_vegetable_waste_',\\\n",
    "                             '1/Bread_Paste_', '1/Waste_oil_', '1/Total_Waste_',\\\n",
    "                             '1/Diesel_waste_water_', '1/Flour_and_waste_oil_',\\\n",
    "                             '1/Kitchen_waste_paste_', '1/acid_feed', '1/acid_discharge',\\\n",
    "                             'Kitchen_waste_**2', 'Fruit_and_vegetable_waste_**2', \\\n",
    "                             'Bread_Paste_**2','Waste_oil_**2', 'Total_Waste_**2', \\\n",
    "                             'Diesel_waste_water_**2','Flour_and_waste_oil_**2', \\\n",
    "                             'Kitchen_waste_paste_**2', 'acid_feed**2','acid_discharge**2',\\\n",
    "                             'Kitchen_waste_log','Fruit_and_vegetable_waste_log', \\\n",
    "                             'Bread_Paste_log', 'Waste_oil_log','Total_Waste_log', \\\n",
    "                             'Diesel_waste_water_log', 'Flour_and_waste_oil_log',\\\n",
    "                             'Kitchen_waste_paste_log', 'acid_feedlog', 'acid_dischargelog']]\n",
    "y_traincla = shenzhen_train.anaerobic_dailyoutput\n",
    "X_testcla = shenzhen_test[['Kitchen_waste_', 'Fruit_and_vegetable_waste_', 'Bread_Paste_',\\\n",
    "                             'Waste_oil_', 'Total_Waste_', 'Diesel_waste_water_',\\\n",
    "                             'Flour_and_waste_oil_', 'Kitchen_waste_paste_', 'acid_feed',\\\n",
    "                             'acid_discharge','daymean','1/Kitchen_waste_', '1/Fruit_and_vegetable_waste_',\\\n",
    "                             '1/Bread_Paste_', '1/Waste_oil_', '1/Total_Waste_',\\\n",
    "                             '1/Diesel_waste_water_', '1/Flour_and_waste_oil_',\\\n",
    "                             '1/Kitchen_waste_paste_', '1/acid_feed', '1/acid_discharge',\\\n",
    "                             'Kitchen_waste_**2', 'Fruit_and_vegetable_waste_**2', \\\n",
    "                             'Bread_Paste_**2','Waste_oil_**2', 'Total_Waste_**2', \\\n",
    "                             'Diesel_waste_water_**2','Flour_and_waste_oil_**2', \\\n",
    "                             'Kitchen_waste_paste_**2', 'acid_feed**2','acid_discharge**2',\\\n",
    "                             'Kitchen_waste_log','Fruit_and_vegetable_waste_log', \\\n",
    "                             'Bread_Paste_log', 'Waste_oil_log','Total_Waste_log', \\\n",
    "                             'Diesel_waste_water_log', 'Flour_and_waste_oil_log',\\\n",
    "                             'Kitchen_waste_paste_log', 'acid_feedlog', 'acid_dischargelog']]\n",
    "y_testcla = shenzhen_test.anaerobic_dailyoutput"
   ]
  },
  {
   "cell_type": "code",
   "execution_count": 19,
   "metadata": {},
   "outputs": [
    {
     "name": "stdout",
     "output_type": "stream",
     "text": [
      "Accuracy of Random Forest on train set: 1.00\n",
      "Accuracy of Random Forest on test set: 0.64\n"
     ]
    }
   ],
   "source": [
    "# random forest\n",
    "from sklearn.ensemble import RandomForestClassifier\n",
    "random_forest = RandomForestClassifier(n_estimators = 50)\n",
    "random_forest.fit(X_traincla, y_traincla)\n",
    "print('Accuracy of Random Forest on train set: {:.2f}'.format(random_forest.score(X_traincla, y_traincla)))\n",
    "print('Accuracy of Random Forest on test set: {:.2f}'.format(random_forest.score(X_testcla, y_testcla)))"
   ]
  },
  {
   "cell_type": "code",
   "execution_count": 20,
   "metadata": {},
   "outputs": [
    {
     "name": "stdout",
     "output_type": "stream",
     "text": [
      "Accuracy of XGboost on train set: 1.00\n",
      "Accuracy of XGboost on test set: 0.64\n"
     ]
    }
   ],
   "source": [
    "# apply models with best n_estimator = 30 and max_depth = 1\n",
    "from xgboost import XGBClassifier\n",
    "xgb1 = XGBClassifier(\n",
    " learning_rate =0.1,\n",
    " n_estimators=1000,\n",
    " max_depth=3,\n",
    " min_child_weight=5,\n",
    " gamma=0.2,\n",
    " subsample=0.8,\n",
    " colsample_bytree=0.8,\n",
    " objective= 'binary:logistic',\n",
    " nthread=8,\n",
    " scale_pos_weight=8,\n",
    " seed=27)\n",
    "xgb1.fit(X_traincla, y_traincla)\n",
    "y_pred_test = xgb1.predict(X_testcla)\n",
    "# calculate accuracy\n",
    "print('Accuracy of XGboost on train set: {:.2f}'.format(xgb1.score(X_traincla, y_traincla)))\n",
    "print('Accuracy of XGboost on test set: {:.2f}'.format(xgb1.score(X_testcla, y_testcla)))"
   ]
  },
  {
   "cell_type": "code",
   "execution_count": null,
   "metadata": {
    "collapsed": true
   },
   "outputs": [],
   "source": []
  },
  {
   "cell_type": "code",
   "execution_count": null,
   "metadata": {
    "collapsed": true
   },
   "outputs": [],
   "source": []
  },
  {
   "cell_type": "code",
   "execution_count": null,
   "metadata": {
    "collapsed": true
   },
   "outputs": [],
   "source": []
  }
 ],
 "metadata": {
  "kernelspec": {
   "display_name": "Python 3",
   "language": "python",
   "name": "python3"
  },
  "language_info": {
   "codemirror_mode": {
    "name": "ipython",
    "version": 3
   },
   "file_extension": ".py",
   "mimetype": "text/x-python",
   "name": "python",
   "nbconvert_exporter": "python",
   "pygments_lexer": "ipython3",
   "version": "3.6.3"
  }
 },
 "nbformat": 4,
 "nbformat_minor": 2
}
