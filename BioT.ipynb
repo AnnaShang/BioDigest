{
 "cells": [
  {
   "cell_type": "code",
   "execution_count": 4,
   "metadata": {
    "collapsed": true
   },
   "outputs": [],
   "source": [
    "import numpy as np\n",
    "import pandas as pd"
   ]
  },
  {
   "cell_type": "code",
   "execution_count": 6,
   "metadata": {},
   "outputs": [],
   "source": [
    "df = pd.read_csv('Shenzhen_Clean.csv')"
   ]
  },
  {
   "cell_type": "code",
   "execution_count": 11,
   "metadata": {},
   "outputs": [
    {
     "data": {
      "text/plain": [
       "(463, 53)"
      ]
     },
     "execution_count": 11,
     "metadata": {},
     "output_type": "execute_result"
    }
   ],
   "source": [
    "df.shape"
   ]
  },
  {
   "cell_type": "code",
   "execution_count": 9,
   "metadata": {},
   "outputs": [],
   "source": [
    "count_nan = len(df) - df.count()"
   ]
  },
  {
   "cell_type": "code",
   "execution_count": 13,
   "metadata": {},
   "outputs": [
    {
     "data": {
      "text/plain": [
       "Year                                                     7\n",
       "Month                                                    7\n",
       "Day                                                      7\n",
       "Month #                                                  7\n",
       "Day #                                                    7\n",
       "Week#                                                    7\n",
       "Kitchen waste (t)                                        7\n",
       "Fruit and vegetable waste (t)                            7\n",
       "Bread Paste (t)                                          7\n",
       "Waste oil (t)                                            7\n",
       "Total Waste (t)                                          7\n",
       "Daily landfilled amount (t)                              7\n",
       "Diesel waste water (m³)                                  7\n",
       "Flour and waste oil (m³)                                 7\n",
       "Kitchen waste paste (m³)                                 7\n",
       "Daily water consumption (m³)                             7\n",
       "Daily electricity consumption (kWh)                      7\n",
       "Insect medium with pulp (m³)                             7\n",
       "#1 acidification hydrolysis tank feed (m³)               7\n",
       "#1 acidification hydrolysis tank discharge (m³)          7\n",
       "#2 acidification hydrolysis tank feed (m³)               7\n",
       "#2 acidification hydrolysis tank discharge (m³)          7\n",
       "#1 Anaerobic tank slurry feed (m³)                       7\n",
       "#1 Anaerobic tank biogas cumulative production (m³)      7\n",
       "#1 anaerobic tank biogas daily output (m³)               7\n",
       "#2 Anaerobic tank slurry feed (m³)                       7\n",
       "#2 anaerobic tank biogas cumulative production (m³)      7\n",
       "#2 anaerobic tank biogas daily output (m³)               7\n",
       "Daily water consumption (m³)2                            7\n",
       "Daily electricity consumption (kWh)2                     7\n",
       "Boiler cumulative gas consumption (m³)                   7\n",
       "Boiler daily gas consumption (m³)                        7\n",
       "Total Biogas Production                                  7\n",
       "Torch burning time (min)                                 7\n",
       "Amount of flocculant (kg)                                7\n",
       "Water treatment amount (m³)                              7\n",
       "Digestate production (t)                                 7\n",
       "Daily electricity consumption (kWh)3                     7\n",
       "Water treatment capacity (m³)2                           7\n",
       "Emissions (m³)                                           7\n",
       "Dissolved Oxygen in Oxygen Pool (mg/L)                   7\n",
       "#1 Contact Oxidation Cell Dissolved Oxygen (mg/L)        7\n",
       "#2 Contact Oxidation Cell Dissolved Oxygen (mg/L)       21\n",
       "#3 Contact Oxidation Cell Dissolved Oxygen (mg/L)       21\n",
       "Daily electricity consumption (kWh)4                     7\n",
       "Circulating liquid PH value                              7\n",
       "Maximum tower temperature (℃)                          404\n",
       "Minimum tower temperature (℃)                          404\n",
       "Air intake H2S content (PPM)                           235\n",
       "Exhaust H2S content (PPM)                              187\n",
       "Daily water consumption (m³)3                          161\n",
       "TotalElecCons                                            7\n",
       "TotalWaterCons                                           7\n",
       "dtype: int64"
      ]
     },
     "execution_count": 13,
     "metadata": {},
     "output_type": "execute_result"
    }
   ],
   "source": [
    "count_nan"
   ]
  },
  {
   "cell_type": "code",
   "execution_count": null,
   "metadata": {
    "collapsed": true
   },
   "outputs": [],
   "source": []
  }
 ],
 "metadata": {
  "kernelspec": {
   "display_name": "Python 3",
   "language": "python",
   "name": "python3"
  },
  "language_info": {
   "codemirror_mode": {
    "name": "ipython",
    "version": 3
   },
   "file_extension": ".py",
   "mimetype": "text/x-python",
   "name": "python",
   "nbconvert_exporter": "python",
   "pygments_lexer": "ipython3",
   "version": "3.6.3"
  }
 },
 "nbformat": 4,
 "nbformat_minor": 2
}
