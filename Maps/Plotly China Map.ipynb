{
 "cells": [
  {
   "cell_type": "code",
   "execution_count": null,
   "metadata": {},
   "outputs": [],
   "source": []
  },
  {
   "cell_type": "code",
   "execution_count": 34,
   "metadata": {},
   "outputs": [],
   "source": [
    "import plotly.plotly as py\n",
    "import pandas as pd\n",
    "import numpy as np"
   ]
  },
  {
   "cell_type": "code",
   "execution_count": 35,
   "metadata": {},
   "outputs": [],
   "source": [
    "Lat_lon = np.array(Data['features'][0]['geometry']['coordinates'][0])"
   ]
  },
  {
   "cell_type": "code",
   "execution_count": 38,
   "metadata": {},
   "outputs": [],
   "source": [
    "Lat = Lat_lon[:,0]; Lon = Lat_lon[:,1]"
   ]
  },
  {
   "cell_type": "code",
   "execution_count": 59,
   "metadata": {},
   "outputs": [],
   "source": [
    "china_test = [ dict(\n",
    "        type = 'choropleth',\n",
    "        locationmode = 'china', locations = Lat_lon,\n",
    "        hoverinfo = 'text',\n",
    "        text = None,\n",
    "        )]"
   ]
  },
  {
   "cell_type": "code",
   "execution_count": 60,
   "metadata": {},
   "outputs": [
    {
     "data": {
      "text/plain": [
       "[{'hoverinfo': 'text',\n",
       "  'locationmode': 'china',\n",
       "  'locations': array([[ 96.416 ,  42.7588],\n",
       "         [ 96.416 ,  42.7148],\n",
       "         [ 95.9766,  42.4951],\n",
       "         [ 96.0645,  42.3193],\n",
       "         [ 96.2402,  42.2314],\n",
       "         [ 95.9766,  41.9238],\n",
       "         [ 95.2734,  41.6162],\n",
       "         [ 95.1855,  41.792 ],\n",
       "         [ 94.5703,  41.4844],\n",
       "         [ 94.043 ,  41.0889],\n",
       "         [ 93.8672,  40.6934],\n",
       "         [ 93.0762,  40.6494],\n",
       "         [ 92.6367,  39.6387],\n",
       "         [ 92.373 ,  39.3311],\n",
       "         [ 92.373 ,  39.1113],\n",
       "         [ 92.373 ,  39.0234],\n",
       "         [ 90.1758,  38.4961],\n",
       "         [ 90.3516,  38.2324],\n",
       "         [ 90.6152,  38.3203],\n",
       "         [ 90.5273,  37.8369],\n",
       "         [ 91.0547,  37.4414],\n",
       "         [ 91.3184,  37.0898],\n",
       "         [ 90.7031,  36.7822],\n",
       "         [ 90.791 ,  36.6064],\n",
       "         [ 91.0547,  36.5186],\n",
       "         [ 91.0547,  36.0791],\n",
       "         [ 90.8789,  36.0352],\n",
       "         [ 90.    ,  36.2549],\n",
       "         [ 89.9121,  36.0791],\n",
       "         [ 89.7363,  36.0791],\n",
       "         [ 89.209 ,  36.2988],\n",
       "         [ 88.7695,  36.3428],\n",
       "         [ 88.5938,  36.4746],\n",
       "         [ 87.3633,  36.4307],\n",
       "         [ 86.2207,  36.167 ],\n",
       "         [ 86.1328,  35.8594],\n",
       "         [ 85.6055,  35.6836],\n",
       "         [ 85.0781,  35.7275],\n",
       "         [ 84.1992,  35.376 ],\n",
       "         [ 83.1445,  35.4199],\n",
       "         [ 82.8809,  35.6836],\n",
       "         [ 82.4414,  35.7275],\n",
       "         [ 82.002 ,  35.332 ],\n",
       "         [ 81.6504,  35.2441],\n",
       "         [ 80.4199,  35.4199],\n",
       "         [ 80.2441,  35.2881],\n",
       "         [ 80.332 ,  35.1563],\n",
       "         [ 80.2441,  35.2002],\n",
       "         [ 79.8926,  34.8047],\n",
       "         [ 79.8047,  34.4971],\n",
       "         [ 79.1016,  34.4531],\n",
       "         [ 79.0137,  34.3213],\n",
       "         [ 78.2227,  34.7168],\n",
       "         [ 78.0469,  35.2441],\n",
       "         [ 78.0469,  35.5078],\n",
       "         [ 77.4316,  35.4639],\n",
       "         [ 76.8164,  35.6396],\n",
       "         [ 76.5527,  35.8594],\n",
       "         [ 76.2012,  35.8154],\n",
       "         [ 75.9375,  36.0352],\n",
       "         [ 76.0254,  36.4746],\n",
       "         [ 75.8496,  36.6943],\n",
       "         [ 75.498 ,  36.7383],\n",
       "         [ 75.4102,  36.958 ],\n",
       "         [ 75.0586,  37.002 ],\n",
       "         [ 74.8828,  36.9141],\n",
       "         [ 74.7949,  37.0459],\n",
       "         [ 74.5313,  37.0898],\n",
       "         [ 74.5313,  37.2217],\n",
       "         [ 74.8828,  37.2217],\n",
       "         [ 75.1465,  37.4414],\n",
       "         [ 74.8828,  37.5732],\n",
       "         [ 74.9707,  37.749 ],\n",
       "         [ 74.8828,  38.4521],\n",
       "         [ 74.3555,  38.6719],\n",
       "         [ 74.1797,  38.6719],\n",
       "         [ 74.0918,  38.54  ],\n",
       "         [ 73.8281,  38.584 ],\n",
       "         [ 73.7402,  38.8477],\n",
       "         [ 73.8281,  38.9795],\n",
       "         [ 73.4766,  39.375 ],\n",
       "         [ 73.916 ,  39.5068],\n",
       "         [ 73.916 ,  39.6826],\n",
       "         [ 73.8281,  39.7705],\n",
       "         [ 74.0039,  40.0342],\n",
       "         [ 74.8828,  40.3418],\n",
       "         [ 74.7949,  40.5176],\n",
       "         [ 75.2344,  40.4297],\n",
       "         [ 75.5859,  40.6494],\n",
       "         [ 75.7617,  40.2979],\n",
       "         [ 76.377 ,  40.3857],\n",
       "         [ 76.9043,  41.001 ],\n",
       "         [ 77.6074,  41.001 ],\n",
       "         [ 78.1348,  41.2207],\n",
       "         [ 78.1348,  41.3965],\n",
       "         [ 80.1563,  42.0557],\n",
       "         [ 80.2441,  42.2754],\n",
       "         [ 80.1563,  42.627 ],\n",
       "         [ 80.2441,  42.8467],\n",
       "         [ 80.5078,  42.8906],\n",
       "         [ 80.4199,  43.0664],\n",
       "         [ 80.7715,  43.1982],\n",
       "         [ 80.4199,  44.165 ],\n",
       "         [ 80.4199,  44.6045],\n",
       "         [ 79.9805,  44.8242],\n",
       "         [ 79.9805,  44.9561],\n",
       "         [ 81.7383,  45.3955],\n",
       "         [ 82.0898,  45.2197],\n",
       "         [ 82.5293,  45.2197],\n",
       "         [ 82.2656,  45.6592],\n",
       "         [ 83.0566,  47.2412],\n",
       "         [ 83.6719,  47.0215],\n",
       "         [ 84.7266,  47.0215],\n",
       "         [ 84.9023,  46.8896],\n",
       "         [ 85.5176,  47.0654],\n",
       "         [ 85.6934,  47.2852],\n",
       "         [ 85.5176,  48.1201],\n",
       "         [ 85.7813,  48.4277],\n",
       "         [ 86.5723,  48.5596],\n",
       "         [ 86.8359,  48.8232],\n",
       "         [ 86.748 ,  48.9551],\n",
       "         [ 86.8359,  49.1309],\n",
       "         [ 87.8027,  49.1748],\n",
       "         [ 87.8906,  48.999 ],\n",
       "         [ 87.7148,  48.9111],\n",
       "         [ 88.0664,  48.7354],\n",
       "         [ 87.9785,  48.6035],\n",
       "         [ 88.5059,  48.3838],\n",
       "         [ 88.6816,  48.1641],\n",
       "         [ 89.1211,  47.9883],\n",
       "         [ 89.5605,  48.0322],\n",
       "         [ 89.7363,  47.8564],\n",
       "         [ 90.0879,  47.8564],\n",
       "         [ 90.3516,  47.6807],\n",
       "         [ 90.5273,  47.2412],\n",
       "         [ 90.8789,  46.9775],\n",
       "         [ 91.0547,  46.582 ],\n",
       "         [ 90.8789,  46.3184],\n",
       "         [ 91.0547,  46.0107],\n",
       "         [ 90.7031,  45.7471],\n",
       "         [ 90.7031,  45.5273],\n",
       "         [ 90.8789,  45.2197],\n",
       "         [ 91.582 ,  45.0879],\n",
       "         [ 93.5156,  44.9561],\n",
       "         [ 94.7461,  44.3408],\n",
       "         [ 95.3613,  44.2969],\n",
       "         [ 95.3613,  44.0332],\n",
       "         [ 95.5371,  43.9014],\n",
       "         [ 95.8887,  43.2422],\n",
       "         [ 96.3281,  42.9346],\n",
       "         [ 96.416 ,  42.7588]]),\n",
       "  'text': None,\n",
       "  'type': 'choropleth'}]"
      ]
     },
     "execution_count": 60,
     "metadata": {},
     "output_type": "execute_result"
    }
   ],
   "source": [
    "china_test"
   ]
  },
  {
   "cell_type": "code",
   "execution_count": 61,
   "metadata": {},
   "outputs": [],
   "source": [
    "layout = dict(\n",
    "        title = 'China Test Map',\n",
    "        showlegend = False, \n",
    "        geo = dict(\n",
    "            scope='china',\n",
    "            projection=dict( type='azimuthal equal area' ),\n",
    "            showland = True,\n",
    "            landcolor = 'rgb(243, 243, 243)',\n",
    "            countrycolor = 'rgb(204, 204, 204)',\n",
    "        ),\n",
    "    )"
   ]
  },
  {
   "cell_type": "code",
   "execution_count": 62,
   "metadata": {},
   "outputs": [
    {
     "data": {
      "text/html": [
       "<iframe id=\"igraph\" scrolling=\"no\" style=\"border:none;\" seamless=\"seamless\" src=\"https://plot.ly/~djalota/2.embed\" height=\"525px\" width=\"100%\"></iframe>"
      ],
      "text/plain": [
       "<plotly.tools.PlotlyDisplay object>"
      ]
     },
     "execution_count": 62,
     "metadata": {},
     "output_type": "execute_result"
    }
   ],
   "source": [
    "fig = dict( data=china_test, layout=layout )\n",
    "py.iplot( fig, filename='china_test' )"
   ]
  },
  {
   "cell_type": "code",
   "execution_count": 43,
   "metadata": {},
   "outputs": [],
   "source": [
    "df = pd.read_csv('https://raw.githubusercontent.com/plotly/datasets/master/2014_world_gdp_with_codes.csv')"
   ]
  },
  {
   "cell_type": "code",
   "execution_count": 44,
   "metadata": {},
   "outputs": [
    {
     "data": {
      "text/plain": [
       "0      AFG\n",
       "1      ALB\n",
       "2      DZA\n",
       "3      ASM\n",
       "4      AND\n",
       "5      AGO\n",
       "6      AIA\n",
       "7      ATG\n",
       "8      ARG\n",
       "9      ARM\n",
       "10     ABW\n",
       "11     AUS\n",
       "12     AUT\n",
       "13     AZE\n",
       "14     BHM\n",
       "15     BHR\n",
       "16     BGD\n",
       "17     BRB\n",
       "18     BLR\n",
       "19     BEL\n",
       "20     BLZ\n",
       "21     BEN\n",
       "22     BMU\n",
       "23     BTN\n",
       "24     BOL\n",
       "25     BIH\n",
       "26     BWA\n",
       "27     BRA\n",
       "28     VGB\n",
       "29     BRN\n",
       "      ... \n",
       "192    SWE\n",
       "193    CHE\n",
       "194    SYR\n",
       "195    TWN\n",
       "196    TJK\n",
       "197    TZA\n",
       "198    THA\n",
       "199    TLS\n",
       "200    TGO\n",
       "201    TON\n",
       "202    TTO\n",
       "203    TUN\n",
       "204    TUR\n",
       "205    TKM\n",
       "206    TUV\n",
       "207    UGA\n",
       "208    UKR\n",
       "209    ARE\n",
       "210    GBR\n",
       "211    USA\n",
       "212    URY\n",
       "213    UZB\n",
       "214    VUT\n",
       "215    VEN\n",
       "216    VNM\n",
       "217    VGB\n",
       "218    WBG\n",
       "219    YEM\n",
       "220    ZMB\n",
       "221    ZWE\n",
       "Name: CODE, Length: 222, dtype: object"
      ]
     },
     "execution_count": 44,
     "metadata": {},
     "output_type": "execute_result"
    }
   ],
   "source": [
    "df['CODE']"
   ]
  },
  {
   "cell_type": "code",
   "execution_count": 91,
   "metadata": {},
   "outputs": [
    {
     "data": {
      "text/html": [
       "<iframe id=\"igraph\" scrolling=\"no\" style=\"border:none;\" seamless=\"seamless\" src=\"https://plot.ly/~djalota/4.embed\" height=\"600px\" width=\"100%\"></iframe>"
      ],
      "text/plain": [
       "<plotly.tools.PlotlyDisplay object>"
      ]
     },
     "execution_count": 91,
     "metadata": {},
     "output_type": "execute_result"
    }
   ],
   "source": [
    "import plotly.plotly as py\n",
    "import plotly.graph_objs as graph_objs\n",
    "\n",
    "mapbox_access_token = \"pk.eyJ1IjoiZGphbG90YSIsImEiOiJjamZvajZ3bTIxYzdtMzNwYmw5N290c3RpIn0.Ujni-U6c4MBMZTx_kOU6sg\"\n",
    "\n",
    "data = graph_objs.Data([\n",
    "    graph_objs.Scattermapbox(\n",
    "        lat=['39.95'],\n",
    "        lon=['116.44'],\n",
    "        mode='markers',\n",
    "    )\n",
    "])\n",
    "layout = graph_objs.Layout(\n",
    "    height=600,\n",
    "    autosize=True,\n",
    "    hovermode='closest',\n",
    "    mapbox=dict(\n",
    "        layers=[\n",
    "            dict(\n",
    "                sourcetype = 'geojson',\n",
    "                source = 'https://raw.githubusercontent.com/adilmoujahid/kaggle-talkingdata-visualization/master/input/geojson/china_provinces_en.json',\n",
    "                type = 'fill',\n",
    "                color = 'rgba(163,22,19,0.8)')],\n",
    "        accesstoken=mapbox_access_token,\n",
    "        bearing=0,\n",
    "        center=dict(\n",
    "            lat=39.95,\n",
    "            lon=116.44\n",
    "        ),\n",
    "        pitch=0,\n",
    "        zoom=5.2,\n",
    "        style='light'\n",
    "    ),\n",
    ")\n",
    "\n",
    "data2 = [ dict(\n",
    "        type='choropleth',\n",
    "        autocolorscale = False,\n",
    "        locations = Lat_lon,\n",
    "        locationmode = 'china',\n",
    "        #text = df['text'],\n",
    "        marker = dict(\n",
    "            line = dict (\n",
    "                color = 'rgb(255,255,255)',\n",
    "                width = 0.1\n",
    "            ) ),\n",
    "        colorbar = dict(\n",
    "            title = \"China Test\")\n",
    "        ) ]\n",
    "\n",
    "fig = dict(data=data, layout=layout)\n",
    "py.iplot(fig, filename='county-level-choropleths-python')"
   ]
  },
  {
   "cell_type": "code",
   "execution_count": 82,
   "metadata": {},
   "outputs": [],
   "source": [
    "df = pd.read_csv('Agricultural total production.csv')"
   ]
  },
  {
   "cell_type": "code",
   "execution_count": 97,
   "metadata": {},
   "outputs": [],
   "source": [
    "df2 = pd.read_csv('LocationGeo.xlsx - Sheet1.csv')"
   ]
  },
  {
   "cell_type": "code",
   "execution_count": 93,
   "metadata": {},
   "outputs": [],
   "source": [
    "import json"
   ]
  },
  {
   "cell_type": "code",
   "execution_count": 103,
   "metadata": {},
   "outputs": [],
   "source": [
    "df_js = df2.to_json(orient='index')"
   ]
  },
  {
   "cell_type": "code",
   "execution_count": 105,
   "metadata": {},
   "outputs": [],
   "source": [
    "with open('data.json', 'w') as outfile:\n",
    "    json.dump(df_js, outfile)"
   ]
  },
  {
   "cell_type": "code",
   "execution_count": null,
   "metadata": {},
   "outputs": [],
   "source": []
  },
  {
   "cell_type": "code",
   "execution_count": 110,
   "metadata": {},
   "outputs": [
    {
     "data": {
      "text/html": [
       "<iframe id=\"igraph\" scrolling=\"no\" style=\"border:none;\" seamless=\"seamless\" src=\"https://plot.ly/~djalota/4.embed\" height=\"600px\" width=\"100%\"></iframe>"
      ],
      "text/plain": [
       "<plotly.tools.PlotlyDisplay object>"
      ]
     },
     "execution_count": 110,
     "metadata": {},
     "output_type": "execute_result"
    }
   ],
   "source": [
    "import plotly.plotly as py\n",
    "import plotly.graph_objs as graph_objs\n",
    "\n",
    "mapbox_access_token = \"pk.eyJ1IjoiZGphbG90YSIsImEiOiJjamZvajZ3bTIxYzdtMzNwYmw5N290c3RpIn0.Ujni-U6c4MBMZTx_kOU6sg\"\n",
    "\n",
    "data = graph_objs.Data([\n",
    "    graph_objs.Scattermapbox(\n",
    "        lat=['39.95'],\n",
    "        lon=['116.44'],\n",
    "        mode='markers',\n",
    "    )\n",
    "])\n",
    "layout = graph_objs.Layout(\n",
    "    height=600,\n",
    "    autosize=True,\n",
    "    hovermode='closest',\n",
    "    mapbox=dict(\n",
    "        layers=[\n",
    "            dict(\n",
    "                sourcetype = 'geojson',\n",
    "                source = 'https://raw.githubusercontent.com/Victoria3467/BioTesseract-I/master/Maps/data.json?token=Ah1nkd8cLUEF6TOXGFloEV8ZXKJYXFu1ks5a0UD0wA%3D%3D',\n",
    "                type = 'choropleth',\n",
    "                color = 'rgba(163,22,19,0.8)')],\n",
    "        accesstoken=mapbox_access_token,\n",
    "        bearing=0,\n",
    "        center=dict(\n",
    "            lat=39.95,\n",
    "            lon=116.44\n",
    "        ),\n",
    "        pitch=0,\n",
    "        zoom=5.2,\n",
    "        style='light'\n",
    "    ),\n",
    ")\n",
    "\n",
    "data2 = [ dict(\n",
    "        type='choropleth',\n",
    "        autocolorscale = False,\n",
    "        locations = Lat_lon,\n",
    "        locationmode = 'china',\n",
    "        #text = df['text'],\n",
    "        marker = dict(\n",
    "            line = dict (\n",
    "                color = 'rgb(255,255,255)',\n",
    "                width = 0.1\n",
    "            ) ),\n",
    "        colorbar = dict(\n",
    "            title = \"China Test\")\n",
    "        ) ]\n",
    "\n",
    "fig = dict(data=data, layout=layout)\n",
    "py.iplot(fig, filename='county-level-choropleths-python')"
   ]
  },
  {
   "cell_type": "code",
   "execution_count": null,
   "metadata": {},
   "outputs": [],
   "source": []
  },
  {
   "cell_type": "code",
   "execution_count": 115,
   "metadata": {},
   "outputs": [
    {
     "ename": "ModuleNotFoundError",
     "evalue": "No module named 'geojson'",
     "output_type": "error",
     "traceback": [
      "\u001b[0;31m---------------------------------------------------------------------------\u001b[0m",
      "\u001b[0;31mModuleNotFoundError\u001b[0m                       Traceback (most recent call last)",
      "\u001b[0;32m<ipython-input-115-92ed2f3af6ed>\u001b[0m in \u001b[0;36m<module>\u001b[0;34m()\u001b[0m\n\u001b[0;32m----> 1\u001b[0;31m \u001b[0;32mimport\u001b[0m \u001b[0mgeojson\u001b[0m\u001b[0;34m\u001b[0m\u001b[0m\n\u001b[0m",
      "\u001b[0;31mModuleNotFoundError\u001b[0m: No module named 'geojson'"
     ]
    }
   ],
   "source": [
    "import geojson"
   ]
  },
  {
   "cell_type": "code",
   "execution_count": null,
   "metadata": {},
   "outputs": [],
   "source": []
  }
 ],
 "metadata": {
  "kernelspec": {
   "display_name": "Python 3",
   "language": "python",
   "name": "python3"
  },
  "language_info": {
   "codemirror_mode": {
    "name": "ipython",
    "version": 3
   },
   "file_extension": ".py",
   "mimetype": "text/x-python",
   "name": "python",
   "nbconvert_exporter": "python",
   "pygments_lexer": "ipython3",
   "version": "3.6.4"
  }
 },
 "nbformat": 4,
 "nbformat_minor": 2
}
