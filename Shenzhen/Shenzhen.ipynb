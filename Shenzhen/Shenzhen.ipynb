{
 "cells": [
  {
   "cell_type": "code",
   "execution_count": 1,
   "metadata": {
    "collapsed": true
   },
   "outputs": [
    {
     "name": "stderr",
     "output_type": "stream",
     "text": [
      "/usr/local/miniconda3/envs/datax/lib/python3.6/site-packages/sklearn/cross_validation.py:41: DeprecationWarning: This module was deprecated in version 0.18 in favor of the model_selection module into which all the refactored classes and functions are moved. Also note that the interface of the new CV iterators are different from that of this module. This module will be removed in 0.20.\n",
      "  \"This module will be removed in 0.20.\", DeprecationWarning)\n"
     ]
    }
   ],
   "source": [
    "import pandas as pd\n",
    "import numpy as np\n",
    "import matplotlib.pyplot as plt\n",
    "from sklearn import preprocessing, svm\n",
    "from sklearn.model_selection import train_test_split, GridSearchCV, StratifiedKFold\n",
    "from sklearn.linear_model import perceptron\n",
    "from sklearn.neighbors import KNeighborsRegressor\n",
    "from sklearn.ensemble import RandomForestClassifier\n",
    "from sklearn.linear_model import LogisticRegression\n",
    "from sklearn.metrics import confusion_matrix\n",
    "from xgboost import XGBClassifier\n",
    "import warnings\n",
    "\n",
    "%matplotlib inline\n",
    "warnings.filterwarnings('ignore') # Suppress warnings"
   ]
  },
  {
   "cell_type": "markdown",
   "metadata": {},
   "source": [
    "# Data Cleaning"
   ]
  },
  {
   "cell_type": "markdown",
   "metadata": {},
   "source": [
    "Consolidate some columns"
   ]
  },
  {
   "cell_type": "code",
   "execution_count": 2,
   "metadata": {},
   "outputs": [
    {
     "data": {
      "text/html": [
       "<div>\n",
       "<style scoped>\n",
       "    .dataframe tbody tr th:only-of-type {\n",
       "        vertical-align: middle;\n",
       "    }\n",
       "\n",
       "    .dataframe tbody tr th {\n",
       "        vertical-align: top;\n",
       "    }\n",
       "\n",
       "    .dataframe thead th {\n",
       "        text-align: right;\n",
       "    }\n",
       "</style>\n",
       "<table border=\"1\" class=\"dataframe\">\n",
       "  <thead>\n",
       "    <tr style=\"text-align: right;\">\n",
       "      <th></th>\n",
       "      <th>Unnamed: 0</th>\n",
       "      <th>Kitchen_waste_</th>\n",
       "      <th>Fruit_and_vegetable_waste_</th>\n",
       "      <th>Bread_Paste_</th>\n",
       "      <th>Waste_oil_</th>\n",
       "      <th>Total_Waste_</th>\n",
       "      <th>Diesel_waste_water_</th>\n",
       "      <th>Flour_and_waste_oil_</th>\n",
       "      <th>Kitchen_waste_paste_</th>\n",
       "      <th>acid_feed</th>\n",
       "      <th>acid_discharge</th>\n",
       "      <th>anaerobic_feed</th>\n",
       "      <th>anaerobic_cumuprod</th>\n",
       "      <th>anaerobic_dailyoutput</th>\n",
       "    </tr>\n",
       "  </thead>\n",
       "  <tbody>\n",
       "    <tr>\n",
       "      <th>0</th>\n",
       "      <td>0</td>\n",
       "      <td>92.03</td>\n",
       "      <td>0.0</td>\n",
       "      <td>7.95</td>\n",
       "      <td>13.54</td>\n",
       "      <td>99.98</td>\n",
       "      <td>54.0</td>\n",
       "      <td>17.0</td>\n",
       "      <td>167.0</td>\n",
       "      <td>0.0</td>\n",
       "      <td>0.0</td>\n",
       "      <td>130.0</td>\n",
       "      <td>340453.0</td>\n",
       "      <td>7919.0</td>\n",
       "    </tr>\n",
       "    <tr>\n",
       "      <th>1</th>\n",
       "      <td>1</td>\n",
       "      <td>78.43</td>\n",
       "      <td>0.0</td>\n",
       "      <td>13.30</td>\n",
       "      <td>16.10</td>\n",
       "      <td>91.73</td>\n",
       "      <td>36.0</td>\n",
       "      <td>8.0</td>\n",
       "      <td>100.0</td>\n",
       "      <td>0.0</td>\n",
       "      <td>0.0</td>\n",
       "      <td>170.0</td>\n",
       "      <td>343154.0</td>\n",
       "      <td>2701.0</td>\n",
       "    </tr>\n",
       "    <tr>\n",
       "      <th>2</th>\n",
       "      <td>2</td>\n",
       "      <td>81.84</td>\n",
       "      <td>0.0</td>\n",
       "      <td>8.35</td>\n",
       "      <td>6.60</td>\n",
       "      <td>90.19</td>\n",
       "      <td>22.0</td>\n",
       "      <td>34.0</td>\n",
       "      <td>120.0</td>\n",
       "      <td>0.0</td>\n",
       "      <td>0.0</td>\n",
       "      <td>150.0</td>\n",
       "      <td>353361.0</td>\n",
       "      <td>10207.0</td>\n",
       "    </tr>\n",
       "    <tr>\n",
       "      <th>3</th>\n",
       "      <td>3</td>\n",
       "      <td>81.05</td>\n",
       "      <td>0.0</td>\n",
       "      <td>9.10</td>\n",
       "      <td>17.48</td>\n",
       "      <td>90.15</td>\n",
       "      <td>22.0</td>\n",
       "      <td>20.0</td>\n",
       "      <td>92.0</td>\n",
       "      <td>0.0</td>\n",
       "      <td>0.0</td>\n",
       "      <td>160.0</td>\n",
       "      <td>363943.0</td>\n",
       "      <td>10582.0</td>\n",
       "    </tr>\n",
       "    <tr>\n",
       "      <th>4</th>\n",
       "      <td>4</td>\n",
       "      <td>36.86</td>\n",
       "      <td>0.0</td>\n",
       "      <td>9.40</td>\n",
       "      <td>12.47</td>\n",
       "      <td>46.26</td>\n",
       "      <td>44.0</td>\n",
       "      <td>35.0</td>\n",
       "      <td>122.0</td>\n",
       "      <td>0.0</td>\n",
       "      <td>0.0</td>\n",
       "      <td>160.0</td>\n",
       "      <td>372971.0</td>\n",
       "      <td>9028.0</td>\n",
       "    </tr>\n",
       "  </tbody>\n",
       "</table>\n",
       "</div>"
      ],
      "text/plain": [
       "   Unnamed: 0  Kitchen_waste_  Fruit_and_vegetable_waste_  Bread_Paste_  \\\n",
       "0           0           92.03                         0.0          7.95   \n",
       "1           1           78.43                         0.0         13.30   \n",
       "2           2           81.84                         0.0          8.35   \n",
       "3           3           81.05                         0.0          9.10   \n",
       "4           4           36.86                         0.0          9.40   \n",
       "\n",
       "   Waste_oil_  Total_Waste_  Diesel_waste_water_  Flour_and_waste_oil_  \\\n",
       "0       13.54         99.98                 54.0                  17.0   \n",
       "1       16.10         91.73                 36.0                   8.0   \n",
       "2        6.60         90.19                 22.0                  34.0   \n",
       "3       17.48         90.15                 22.0                  20.0   \n",
       "4       12.47         46.26                 44.0                  35.0   \n",
       "\n",
       "   Kitchen_waste_paste_  acid_feed  acid_discharge  anaerobic_feed  \\\n",
       "0                 167.0        0.0             0.0           130.0   \n",
       "1                 100.0        0.0             0.0           170.0   \n",
       "2                 120.0        0.0             0.0           150.0   \n",
       "3                  92.0        0.0             0.0           160.0   \n",
       "4                 122.0        0.0             0.0           160.0   \n",
       "\n",
       "   anaerobic_cumuprod  anaerobic_dailyoutput  \n",
       "0            340453.0                 7919.0  \n",
       "1            343154.0                 2701.0  \n",
       "2            353361.0                10207.0  \n",
       "3            363943.0                10582.0  \n",
       "4            372971.0                 9028.0  "
      ]
     },
     "execution_count": 2,
     "metadata": {},
     "output_type": "execute_result"
    }
   ],
   "source": [
    "shenzhen = pd.read_csv(\"Data/shenzhen_cleaned_data.csv\")\n",
    "shenzhen['acid_feed'] = shenzhen['1_acidification_hydrolysis_tank_feed_'] \\\n",
    "                                             + shenzhen['2_acidification_hydrolysis_tank_feed_']\n",
    "shenzhen['acid_discharge']  = shenzhen['1_acidification_hydrolysis_tank_discharge_']\\\n",
    "                                             + shenzhen['2_acidification_hydrolysis_tank_discharge_']\n",
    "shenzhen['anaerobic_feed'] = shenzhen['1_Anaerobic_tank_slurry_feed_'] \\\n",
    "                                             + shenzhen['2_Anaerobic_tank_slurry_feed_']\n",
    "shenzhen['anaerobic_cumuprod'] = shenzhen['1_Anaerobic_tank_biogas_cumulative_production_'] \\\n",
    "                                             + shenzhen['2_anaerobic_tank_biogas_cumulative_production_']\n",
    "shenzhen['anaerobic_dailyoutput'] = shenzhen['1_anaerobic_tank_biogas_daily_output_'] \\\n",
    "                                             + shenzhen['2_anaerobic_tank_biogas_daily_output_']\n",
    "shenzhen = shenzhen.drop(['1_acidification_hydrolysis_tank_feed_','2_acidification_hydrolysis_tank_feed_',\\\n",
    "               '1_acidification_hydrolysis_tank_discharge_','2_acidification_hydrolysis_tank_discharge_',\\\n",
    "               '1_Anaerobic_tank_slurry_feed_','2_Anaerobic_tank_slurry_feed_',\\\n",
    "               '1_Anaerobic_tank_biogas_cumulative_production_','2_anaerobic_tank_biogas_cumulative_production_',\\\n",
    "               '1_anaerobic_tank_biogas_daily_output_','2_anaerobic_tank_biogas_daily_output_'],axis=1)\n",
    "\n",
    "shenzhen.head()"
   ]
  },
  {
   "cell_type": "markdown",
   "metadata": {},
   "source": [
    "Shift rows up to account for production delay"
   ]
  },
  {
   "cell_type": "code",
   "execution_count": 3,
   "metadata": {
    "collapsed": true
   },
   "outputs": [
    {
     "data": {
      "text/html": [
       "<div>\n",
       "<style scoped>\n",
       "    .dataframe tbody tr th:only-of-type {\n",
       "        vertical-align: middle;\n",
       "    }\n",
       "\n",
       "    .dataframe tbody tr th {\n",
       "        vertical-align: top;\n",
       "    }\n",
       "\n",
       "    .dataframe thead th {\n",
       "        text-align: right;\n",
       "    }\n",
       "</style>\n",
       "<table border=\"1\" class=\"dataframe\">\n",
       "  <thead>\n",
       "    <tr style=\"text-align: right;\">\n",
       "      <th></th>\n",
       "      <th>Kitchen_waste_</th>\n",
       "      <th>Fruit_and_vegetable_waste_</th>\n",
       "      <th>Bread_Paste_</th>\n",
       "      <th>Waste_oil_</th>\n",
       "      <th>Total_Waste_</th>\n",
       "      <th>Diesel_waste_water_</th>\n",
       "      <th>Flour_and_waste_oil_</th>\n",
       "      <th>Kitchen_waste_paste_</th>\n",
       "      <th>acid_feed</th>\n",
       "      <th>acid_discharge</th>\n",
       "      <th>anaerobic_feed</th>\n",
       "      <th>anaerobic_cumuprod</th>\n",
       "      <th>anaerobic_dailyoutput</th>\n",
       "    </tr>\n",
       "  </thead>\n",
       "  <tbody>\n",
       "    <tr>\n",
       "      <th>436</th>\n",
       "      <td>150.03</td>\n",
       "      <td>25.45</td>\n",
       "      <td>0.0</td>\n",
       "      <td>6.49</td>\n",
       "      <td>175.48</td>\n",
       "      <td>44.0</td>\n",
       "      <td>0.0</td>\n",
       "      <td>151.0</td>\n",
       "      <td>0.0</td>\n",
       "      <td>200.0</td>\n",
       "      <td>200.0</td>\n",
       "      <td>3091363.0</td>\n",
       "      <td>7526.0</td>\n",
       "    </tr>\n",
       "    <tr>\n",
       "      <th>437</th>\n",
       "      <td>144.28</td>\n",
       "      <td>49.36</td>\n",
       "      <td>0.0</td>\n",
       "      <td>10.04</td>\n",
       "      <td>193.64</td>\n",
       "      <td>44.0</td>\n",
       "      <td>0.0</td>\n",
       "      <td>145.0</td>\n",
       "      <td>0.0</td>\n",
       "      <td>210.0</td>\n",
       "      <td>210.0</td>\n",
       "      <td>3098699.0</td>\n",
       "      <td>7336.0</td>\n",
       "    </tr>\n",
       "    <tr>\n",
       "      <th>438</th>\n",
       "      <td>98.96</td>\n",
       "      <td>32.86</td>\n",
       "      <td>0.0</td>\n",
       "      <td>9.79</td>\n",
       "      <td>131.82</td>\n",
       "      <td>0.0</td>\n",
       "      <td>0.0</td>\n",
       "      <td>101.0</td>\n",
       "      <td>0.0</td>\n",
       "      <td>230.0</td>\n",
       "      <td>230.0</td>\n",
       "      <td>3105678.0</td>\n",
       "      <td>6979.0</td>\n",
       "    </tr>\n",
       "    <tr>\n",
       "      <th>439</th>\n",
       "      <td>86.92</td>\n",
       "      <td>32.11</td>\n",
       "      <td>0.0</td>\n",
       "      <td>11.71</td>\n",
       "      <td>119.03</td>\n",
       "      <td>44.0</td>\n",
       "      <td>0.0</td>\n",
       "      <td>89.0</td>\n",
       "      <td>0.0</td>\n",
       "      <td>220.0</td>\n",
       "      <td>220.0</td>\n",
       "      <td>3112064.0</td>\n",
       "      <td>6626.0</td>\n",
       "    </tr>\n",
       "    <tr>\n",
       "      <th>440</th>\n",
       "      <td>158.93</td>\n",
       "      <td>33.02</td>\n",
       "      <td>0.0</td>\n",
       "      <td>9.10</td>\n",
       "      <td>191.95</td>\n",
       "      <td>0.0</td>\n",
       "      <td>0.0</td>\n",
       "      <td>160.0</td>\n",
       "      <td>0.0</td>\n",
       "      <td>230.0</td>\n",
       "      <td>230.0</td>\n",
       "      <td>3119057.0</td>\n",
       "      <td>6993.0</td>\n",
       "    </tr>\n",
       "  </tbody>\n",
       "</table>\n",
       "</div>"
      ],
      "text/plain": [
       "     Kitchen_waste_  Fruit_and_vegetable_waste_  Bread_Paste_  Waste_oil_  \\\n",
       "436          150.03                       25.45           0.0        6.49   \n",
       "437          144.28                       49.36           0.0       10.04   \n",
       "438           98.96                       32.86           0.0        9.79   \n",
       "439           86.92                       32.11           0.0       11.71   \n",
       "440          158.93                       33.02           0.0        9.10   \n",
       "\n",
       "     Total_Waste_  Diesel_waste_water_  Flour_and_waste_oil_  \\\n",
       "436        175.48                 44.0                   0.0   \n",
       "437        193.64                 44.0                   0.0   \n",
       "438        131.82                  0.0                   0.0   \n",
       "439        119.03                 44.0                   0.0   \n",
       "440        191.95                  0.0                   0.0   \n",
       "\n",
       "     Kitchen_waste_paste_  acid_feed  acid_discharge  anaerobic_feed  \\\n",
       "436                 151.0        0.0           200.0           200.0   \n",
       "437                 145.0        0.0           210.0           210.0   \n",
       "438                 101.0        0.0           230.0           230.0   \n",
       "439                  89.0        0.0           220.0           220.0   \n",
       "440                 160.0        0.0           230.0           230.0   \n",
       "\n",
       "     anaerobic_cumuprod  anaerobic_dailyoutput  \n",
       "436           3091363.0                 7526.0  \n",
       "437           3098699.0                 7336.0  \n",
       "438           3105678.0                 6979.0  \n",
       "439           3112064.0                 6626.0  \n",
       "440           3119057.0                 6993.0  "
      ]
     },
     "execution_count": 3,
     "metadata": {},
     "output_type": "execute_result"
    }
   ],
   "source": [
    "shenzhen.acid_feed = shenzhen.acid_feed.shift(-15)\n",
    "shenzhen.acid_discharge = shenzhen.acid_discharge.shift(-15)\n",
    "shenzhen.anaerobic_feed = shenzhen.anaerobic_feed.shift(-15)\n",
    "shenzhen.anaerobic_cumuprod = shenzhen.anaerobic_cumuprod.shift(-15)\n",
    "shenzhen.anaerobic_dailyoutput = shenzhen.anaerobic_dailyoutput.shift(-15)\n",
    "shenzhen = shenzhen.drop(['Unnamed: 0'], axis=1)\n",
    "shenzhen = shenzhen[:-15]\n",
    "shenzhen.tail()"
   ]
  },
  {
   "cell_type": "markdown",
   "metadata": {},
   "source": [
    "# Preliminary Work"
   ]
  },
  {
   "cell_type": "markdown",
   "metadata": {},
   "source": [
    "### Regression with normalized columns"
   ]
  },
  {
   "cell_type": "markdown",
   "metadata": {},
   "source": [
    "Normalize the data"
   ]
  },
  {
   "cell_type": "code",
   "execution_count": 4,
   "metadata": {
    "collapsed": true
   },
   "outputs": [],
   "source": [
    "min_max_scaler = preprocessing.MinMaxScaler()\n",
    "np_scaled = min_max_scaler.fit_transform(shenzhen)\n",
    "shenzhen_normalized = pd.DataFrame(np_scaled)\n",
    "shenzhen_normalized.columns = ['Kitchen_waste_',\\\n",
    "       'Fruit_and_vegetable_waste_', 'Bread_Paste_', 'Waste_oil_',\\\n",
    "       'Total_Waste_', 'Diesel_waste_water_', 'Flour_and_waste_oil_',\\\n",
    "       'Kitchen_waste_paste_', 'acid_feed', 'acid_discharge', 'anaerobic_feed',\\\n",
    "       'anaerobic_cumuprod', 'anaerobic_dailyoutput']"
   ]
  },
  {
   "cell_type": "code",
   "execution_count": 5,
   "metadata": {},
   "outputs": [],
   "source": [
    "train_data, test_data = train_test_split(shenzhen_normalized, test_size=0.15)"
   ]
  },
  {
   "cell_type": "markdown",
   "metadata": {},
   "source": [
    "Set the train and test data"
   ]
  },
  {
   "cell_type": "code",
   "execution_count": 6,
   "metadata": {},
   "outputs": [],
   "source": [
    "COLUMNS = [ 'Kitchen_waste_', 'Fruit_and_vegetable_waste_', 'Bread_Paste_',\\\n",
    "            'Waste_oil_', 'Total_Waste_', 'Diesel_waste_water_', \\\n",
    "            'Flour_and_waste_oil_', 'Kitchen_waste_paste_' ]\n",
    "\n",
    "X_train = train_data[COLUMNS]\n",
    "y_train = train_data['anaerobic_dailyoutput']\n",
    "X_test = test_data[COLUMNS]\n",
    "y_test = test_data['anaerobic_dailyoutput']"
   ]
  },
  {
   "cell_type": "markdown",
   "metadata": {},
   "source": [
    "Run KNN regression on the normalized data"
   ]
  },
  {
   "cell_type": "code",
   "execution_count": 7,
   "metadata": {},
   "outputs": [
    {
     "name": "stdout",
     "output_type": "stream",
     "text": [
      "Accuracy of kNN on training set: 0.45\n",
      "Accuracy of kNN on test set: 0.31\n"
     ]
    }
   ],
   "source": [
    "knn = KNeighborsRegressor(n_neighbors=5)\n",
    "knn.fit(X_train, y_train)\n",
    "\n",
    "print('Accuracy of kNN on training set: {:.2f}'.format(knn.score(X_train, y_train)))\n",
    "print('Accuracy of kNN on test set: {:.2f}'.format(knn.score(X_test, y_test)))"
   ]
  },
  {
   "cell_type": "markdown",
   "metadata": {},
   "source": [
    "### Classification with normalized columns"
   ]
  },
  {
   "cell_type": "markdown",
   "metadata": {},
   "source": [
    "Bin the outputs"
   ]
  },
  {
   "cell_type": "code",
   "execution_count": 8,
   "metadata": {
    "collapsed": true
   },
   "outputs": [
    {
     "data": {
      "text/html": [
       "<div>\n",
       "<style scoped>\n",
       "    .dataframe tbody tr th:only-of-type {\n",
       "        vertical-align: middle;\n",
       "    }\n",
       "\n",
       "    .dataframe tbody tr th {\n",
       "        vertical-align: top;\n",
       "    }\n",
       "\n",
       "    .dataframe thead th {\n",
       "        text-align: right;\n",
       "    }\n",
       "</style>\n",
       "<table border=\"1\" class=\"dataframe\">\n",
       "  <thead>\n",
       "    <tr style=\"text-align: right;\">\n",
       "      <th></th>\n",
       "      <th>Kitchen_waste_</th>\n",
       "      <th>Fruit_and_vegetable_waste_</th>\n",
       "      <th>Bread_Paste_</th>\n",
       "      <th>Waste_oil_</th>\n",
       "      <th>Total_Waste_</th>\n",
       "      <th>Diesel_waste_water_</th>\n",
       "      <th>Flour_and_waste_oil_</th>\n",
       "      <th>Kitchen_waste_paste_</th>\n",
       "      <th>acid_feed</th>\n",
       "      <th>acid_discharge</th>\n",
       "      <th>anaerobic_feed</th>\n",
       "      <th>anaerobic_cumuprod</th>\n",
       "      <th>anaerobic_dailyoutput</th>\n",
       "    </tr>\n",
       "  </thead>\n",
       "  <tbody>\n",
       "    <tr>\n",
       "      <th>0</th>\n",
       "      <td>92.03</td>\n",
       "      <td>0.0</td>\n",
       "      <td>7.95</td>\n",
       "      <td>13.54</td>\n",
       "      <td>99.98</td>\n",
       "      <td>54.0</td>\n",
       "      <td>17.0</td>\n",
       "      <td>167.0</td>\n",
       "      <td>135.0</td>\n",
       "      <td>200.0</td>\n",
       "      <td>200.0</td>\n",
       "      <td>464356.0</td>\n",
       "      <td>0</td>\n",
       "    </tr>\n",
       "    <tr>\n",
       "      <th>1</th>\n",
       "      <td>78.43</td>\n",
       "      <td>0.0</td>\n",
       "      <td>13.30</td>\n",
       "      <td>16.10</td>\n",
       "      <td>91.73</td>\n",
       "      <td>36.0</td>\n",
       "      <td>8.0</td>\n",
       "      <td>100.0</td>\n",
       "      <td>91.0</td>\n",
       "      <td>155.0</td>\n",
       "      <td>155.0</td>\n",
       "      <td>472980.0</td>\n",
       "      <td>0</td>\n",
       "    </tr>\n",
       "    <tr>\n",
       "      <th>2</th>\n",
       "      <td>81.84</td>\n",
       "      <td>0.0</td>\n",
       "      <td>8.35</td>\n",
       "      <td>6.60</td>\n",
       "      <td>90.19</td>\n",
       "      <td>22.0</td>\n",
       "      <td>34.0</td>\n",
       "      <td>120.0</td>\n",
       "      <td>50.0</td>\n",
       "      <td>160.0</td>\n",
       "      <td>160.0</td>\n",
       "      <td>481426.0</td>\n",
       "      <td>0</td>\n",
       "    </tr>\n",
       "    <tr>\n",
       "      <th>3</th>\n",
       "      <td>81.05</td>\n",
       "      <td>0.0</td>\n",
       "      <td>9.10</td>\n",
       "      <td>17.48</td>\n",
       "      <td>90.15</td>\n",
       "      <td>22.0</td>\n",
       "      <td>20.0</td>\n",
       "      <td>92.0</td>\n",
       "      <td>95.0</td>\n",
       "      <td>150.0</td>\n",
       "      <td>150.0</td>\n",
       "      <td>490210.0</td>\n",
       "      <td>0</td>\n",
       "    </tr>\n",
       "    <tr>\n",
       "      <th>4</th>\n",
       "      <td>36.86</td>\n",
       "      <td>0.0</td>\n",
       "      <td>9.40</td>\n",
       "      <td>12.47</td>\n",
       "      <td>46.26</td>\n",
       "      <td>44.0</td>\n",
       "      <td>35.0</td>\n",
       "      <td>122.0</td>\n",
       "      <td>9.0</td>\n",
       "      <td>150.0</td>\n",
       "      <td>150.0</td>\n",
       "      <td>497959.0</td>\n",
       "      <td>1</td>\n",
       "    </tr>\n",
       "  </tbody>\n",
       "</table>\n",
       "</div>"
      ],
      "text/plain": [
       "   Kitchen_waste_  Fruit_and_vegetable_waste_  Bread_Paste_  Waste_oil_  \\\n",
       "0           92.03                         0.0          7.95       13.54   \n",
       "1           78.43                         0.0         13.30       16.10   \n",
       "2           81.84                         0.0          8.35        6.60   \n",
       "3           81.05                         0.0          9.10       17.48   \n",
       "4           36.86                         0.0          9.40       12.47   \n",
       "\n",
       "   Total_Waste_  Diesel_waste_water_  Flour_and_waste_oil_  \\\n",
       "0         99.98                 54.0                  17.0   \n",
       "1         91.73                 36.0                   8.0   \n",
       "2         90.19                 22.0                  34.0   \n",
       "3         90.15                 22.0                  20.0   \n",
       "4         46.26                 44.0                  35.0   \n",
       "\n",
       "   Kitchen_waste_paste_  acid_feed  acid_discharge  anaerobic_feed  \\\n",
       "0                 167.0      135.0           200.0           200.0   \n",
       "1                 100.0       91.0           155.0           155.0   \n",
       "2                 120.0       50.0           160.0           160.0   \n",
       "3                  92.0       95.0           150.0           150.0   \n",
       "4                 122.0        9.0           150.0           150.0   \n",
       "\n",
       "   anaerobic_cumuprod  anaerobic_dailyoutput  \n",
       "0            464356.0                      0  \n",
       "1            472980.0                      0  \n",
       "2            481426.0                      0  \n",
       "3            490210.0                      0  \n",
       "4            497959.0                      1  "
      ]
     },
     "execution_count": 8,
     "metadata": {},
     "output_type": "execute_result"
    }
   ],
   "source": [
    "shenzhen.anaerobic_dailyoutput = pd.cut(shenzhen['anaerobic_dailyoutput'], bins=3)\n",
    "shenzhen.anaerobic_dailyoutput = pd.factorize(shenzhen.anaerobic_dailyoutput)[0]\n",
    "shenzhen.head()"
   ]
  },
  {
   "cell_type": "code",
   "execution_count": 9,
   "metadata": {},
   "outputs": [],
   "source": [
    "train_data, test_data = train_test_split(shenzhen, test_size=0.15)"
   ]
  },
  {
   "cell_type": "markdown",
   "metadata": {},
   "source": [
    "Reset the train and test data"
   ]
  },
  {
   "cell_type": "code",
   "execution_count": 10,
   "metadata": {
    "collapsed": true
   },
   "outputs": [],
   "source": [
    "X_train = train_data[COLUMNS]\n",
    "y_train = train_data.anaerobic_dailyoutput\n",
    "X_test = test_data[COLUMNS]\n",
    "y_test = test_data.anaerobic_dailyoutput"
   ]
  },
  {
   "cell_type": "markdown",
   "metadata": {},
   "source": [
    "Run XGBoost on the data"
   ]
  },
  {
   "cell_type": "code",
   "execution_count": 11,
   "metadata": {},
   "outputs": [],
   "source": [
    "def run_vanilla_xgb(X_train, y_train, X_test, y_test):\n",
    "    xgb = XGBClassifier()\n",
    "    xgb.fit(X_train, y_train)\n",
    "    y_pred_test = xgb.predict(X_test)\n",
    "\n",
    "    print('Accuracy of XGboost on train set: {:.2f}'.format(xgb.score(X_train, y_train)))\n",
    "    print('Accuracy of XGboost on test set: {:.2f}'.format(xgb.score(X_test, y_test)))\n",
    "    print('Confusion matrix:')\n",
    "    print(confusion_matrix(y_test, y_pred_test))"
   ]
  },
  {
   "cell_type": "code",
   "execution_count": 12,
   "metadata": {},
   "outputs": [
    {
     "name": "stdout",
     "output_type": "stream",
     "text": [
      "Accuracy of XGboost on train set: 0.89\n",
      "Accuracy of XGboost on test set: 0.60\n",
      "Confusion matrix:\n",
      "[[ 3  4  1]\n",
      " [ 0 32  6]\n",
      " [ 0 16  5]]\n"
     ]
    }
   ],
   "source": [
    "run_vanilla_xgb(X_train, y_train, X_test, y_test)"
   ]
  },
  {
   "cell_type": "markdown",
   "metadata": {},
   "source": [
    "Tune n_estimators on the XGBoost model with grid search"
   ]
  },
  {
   "cell_type": "code",
   "execution_count": 13,
   "metadata": {},
   "outputs": [],
   "source": [
    "model = XGBClassifier()\n",
    "\n",
    "n_estimators = range(10, 200, 20)\n",
    "param_grid = dict(n_estimators=n_estimators)\n",
    "kfold = StratifiedKFold(n_splits=10, shuffle=True, random_state=7)\n",
    "grid_search = GridSearchCV(model, param_grid, scoring=\"neg_log_loss\", n_jobs=-1, cv=kfold)\n",
    "grid_result = grid_search.fit(X_train, y_train)"
   ]
  },
  {
   "cell_type": "markdown",
   "metadata": {},
   "source": [
    "Print out results"
   ]
  },
  {
   "cell_type": "code",
   "execution_count": 14,
   "metadata": {},
   "outputs": [
    {
     "name": "stdout",
     "output_type": "stream",
     "text": [
      "Best: -0.919548 using {'n_estimators': 50}\n",
      "-0.959305 (0.023297) with: {'n_estimators': 10}\n",
      "-0.924215 (0.049144) with: {'n_estimators': 30}\n",
      "-0.919548 (0.070811) with: {'n_estimators': 50}\n",
      "-0.919984 (0.080543) with: {'n_estimators': 70}\n",
      "-0.929391 (0.086159) with: {'n_estimators': 90}\n",
      "-0.936699 (0.089396) with: {'n_estimators': 110}\n",
      "-0.950716 (0.090288) with: {'n_estimators': 130}\n",
      "-0.965608 (0.088406) with: {'n_estimators': 150}\n",
      "-0.987810 (0.090602) with: {'n_estimators': 170}\n",
      "-1.007206 (0.091089) with: {'n_estimators': 190}\n"
     ]
    }
   ],
   "source": [
    "print(\"Best: %f using %s\" % (grid_result.best_score_, grid_result.best_params_))\n",
    "means = grid_result.cv_results_['mean_test_score']\n",
    "stds = grid_result.cv_results_['std_test_score']\n",
    "params = grid_result.cv_results_['params']\n",
    "for mean, stdev, param in zip(means, stds, params):\n",
    "    print(\"%f (%f) with: %r\" % (mean, stdev, param))"
   ]
  },
  {
   "cell_type": "markdown",
   "metadata": {},
   "source": [
    "Plot n_estimators vs performance"
   ]
  },
  {
   "cell_type": "code",
   "execution_count": 15,
   "metadata": {},
   "outputs": [
    {
     "data": {
      "text/plain": [
       "Text(0,0.5,'Log Loss')"
      ]
     },
     "execution_count": 15,
     "metadata": {},
     "output_type": "execute_result"
    },
    {
     "data": {
      "image/png": "[encoded data removed]",
      "text/plain": [
       "<matplotlib.figure.Figure at 0x1a08f3e7b8>"
      ]
     },
     "metadata": {},
     "output_type": "display_data"
    }
   ],
   "source": [
    "plt.errorbar(n_estimators, means, yerr=stds)\n",
    "plt.title(\"XGBoost n_estimators vs Log Loss\")\n",
    "plt.xlabel('n_estimators')\n",
    "plt.ylabel('Log Loss')"
   ]
  },
  {
   "cell_type": "markdown",
   "metadata": {},
   "source": [
    "Tune max_depth on the XGBoost model with grid search"
   ]
  },
  {
   "cell_type": "code",
   "execution_count": 16,
   "metadata": {},
   "outputs": [
    {
     "name": "stdout",
     "output_type": "stream",
     "text": [
      "Fitting 10 folds for each of 11 candidates, totalling 110 fits\n"
     ]
    },
    {
     "name": "stderr",
     "output_type": "stream",
     "text": [
      "[Parallel(n_jobs=-1)]: Done 110 out of 110 | elapsed:    6.2s finished\n"
     ]
    }
   ],
   "source": [
    "max_depth = range(1, 22, 2)\n",
    "param_grid = dict(max_depth=max_depth)\n",
    "kfold = StratifiedKFold(n_splits=10, shuffle=True, random_state=7)\n",
    "grid_search = GridSearchCV(model, param_grid, scoring=\"neg_log_loss\", n_jobs=-1, cv=kfold, verbose=1)\n",
    "grid_result = grid_search.fit(X_train, y_train)"
   ]
  },
  {
   "cell_type": "markdown",
   "metadata": {},
   "source": [
    "Print out results"
   ]
  },
  {
   "cell_type": "code",
   "execution_count": 17,
   "metadata": {},
   "outputs": [
    {
     "name": "stdout",
     "output_type": "stream",
     "text": [
      "Best: -0.933391 using {'max_depth': 3}\n",
      "-0.933485 (0.039567) with: {'max_depth': 1}\n",
      "-0.933391 (0.089447) with: {'max_depth': 3}\n",
      "-0.977448 (0.111410) with: {'max_depth': 5}\n",
      "-1.055279 (0.133921) with: {'max_depth': 7}\n",
      "-1.072055 (0.127804) with: {'max_depth': 9}\n",
      "-1.096605 (0.130874) with: {'max_depth': 11}\n",
      "-1.118535 (0.141762) with: {'max_depth': 13}\n",
      "-1.116230 (0.147583) with: {'max_depth': 15}\n",
      "-1.117186 (0.136738) with: {'max_depth': 17}\n",
      "-1.114790 (0.140103) with: {'max_depth': 19}\n",
      "-1.118148 (0.138950) with: {'max_depth': 21}\n"
     ]
    }
   ],
   "source": [
    "print(\"Best: %f using %s\" % (grid_result.best_score_, grid_result.best_params_))\n",
    "means = grid_result.cv_results_['mean_test_score']\n",
    "stds = grid_result.cv_results_['std_test_score']\n",
    "params = grid_result.cv_results_['params']\n",
    "for mean, stdev, param in zip(means, stds, params):\n",
    "    print(\"%f (%f) with: %r\" % (mean, stdev, param))"
   ]
  },
  {
   "cell_type": "markdown",
   "metadata": {},
   "source": [
    "Plot max_depth vs performance"
   ]
  },
  {
   "cell_type": "code",
   "execution_count": 18,
   "metadata": {},
   "outputs": [
    {
     "data": {
      "text/plain": [
       "Text(0,0.5,'Log Loss')"
      ]
     },
     "execution_count": 18,
     "metadata": {},
     "output_type": "execute_result"
    },
    {
     "data": {
      "image/png": "[encoded data removed]",
      "text/plain": [
       "<matplotlib.figure.Figure at 0x101a25710>"
      ]
     },
     "metadata": {},
     "output_type": "display_data"
    }
   ],
   "source": [
    "plt.errorbar(max_depth, means, yerr=stds)\n",
    "plt.title(\"XGBoost max_depth vs Log Loss\")\n",
    "plt.xlabel('max_depth')\n",
    "plt.ylabel('Log Loss')"
   ]
  },
  {
   "cell_type": "markdown",
   "metadata": {},
   "source": [
    "Apply parameters to XGBoost and run"
   ]
  },
  {
   "cell_type": "code",
   "execution_count": 19,
   "metadata": {},
   "outputs": [],
   "source": [
    "def run_parameterized_xgb(X_train, y_train, X_test, y_test):\n",
    "    xgb1 = XGBClassifier(\n",
    "        learning_rate=0.1,\n",
    "        n_estimators=70,\n",
    "        max_depth=3,\n",
    "        min_child_weight=6,\n",
    "        gamma=0,\n",
    "        subsample=0.8,\n",
    "        colsample_bytree=0.8,\n",
    "        objective= 'binary:logistic',\n",
    "        nthread=4,\n",
    "        scale_pos_weight=1,\n",
    "        seed=27)\n",
    "    xgb1.fit(X_train, y_train)\n",
    "    y_pred_test = xgb1.predict(X_test)\n",
    "\n",
    "    print('Accuracy of XGboost on training set: {:.2f}'.format(xgb1.score(X_train, y_train)))\n",
    "    print('Accuracy of XGboost on test set: {:.2f}'.format(xgb1.score(X_test, y_test)))\n",
    "    print('Confusion matrix:')\n",
    "    print(confusion_matrix(y_test, y_pred_test))"
   ]
  },
  {
   "cell_type": "code",
   "execution_count": 20,
   "metadata": {},
   "outputs": [
    {
     "name": "stdout",
     "output_type": "stream",
     "text": [
      "Accuracy of XGboost on training set: 0.80\n",
      "Accuracy of XGboost on test set: 0.55\n",
      "Confusion matrix:\n",
      "[[ 1  6  1]\n",
      " [ 1 32  5]\n",
      " [ 0 17  4]]\n"
     ]
    }
   ],
   "source": [
    "run_parameterized_xgb(X_train, y_train, X_test, y_test)"
   ]
  },
  {
   "cell_type": "markdown",
   "metadata": {},
   "source": [
    "# Feature Engineering & Modeling"
   ]
  },
  {
   "cell_type": "markdown",
   "metadata": {},
   "source": [
    "### Add 1/x columns"
   ]
  },
  {
   "cell_type": "code",
   "execution_count": 21,
   "metadata": {},
   "outputs": [
    {
     "data": {
      "text/html": [
       "<div>\n",
       "<style scoped>\n",
       "    .dataframe tbody tr th:only-of-type {\n",
       "        vertical-align: middle;\n",
       "    }\n",
       "\n",
       "    .dataframe tbody tr th {\n",
       "        vertical-align: top;\n",
       "    }\n",
       "\n",
       "    .dataframe thead th {\n",
       "        text-align: right;\n",
       "    }\n",
       "</style>\n",
       "<table border=\"1\" class=\"dataframe\">\n",
       "  <thead>\n",
       "    <tr style=\"text-align: right;\">\n",
       "      <th></th>\n",
       "      <th>Kitchen_waste_</th>\n",
       "      <th>Fruit_and_vegetable_waste_</th>\n",
       "      <th>Bread_Paste_</th>\n",
       "      <th>Waste_oil_</th>\n",
       "      <th>Total_Waste_</th>\n",
       "      <th>Diesel_waste_water_</th>\n",
       "      <th>Flour_and_waste_oil_</th>\n",
       "      <th>Kitchen_waste_paste_</th>\n",
       "      <th>acid_feed</th>\n",
       "      <th>acid_discharge</th>\n",
       "      <th>...</th>\n",
       "      <th>1/Kitchen_waste_</th>\n",
       "      <th>1/Fruit_and_vegetable_waste_</th>\n",
       "      <th>1/Bread_Paste_</th>\n",
       "      <th>1/Waste_oil_</th>\n",
       "      <th>1/Total_Waste_</th>\n",
       "      <th>1/Diesel_waste_water_</th>\n",
       "      <th>1/Flour_and_waste_oil_</th>\n",
       "      <th>1/Kitchen_waste_paste_</th>\n",
       "      <th>1/acid_feed</th>\n",
       "      <th>1/acid_discharge</th>\n",
       "    </tr>\n",
       "  </thead>\n",
       "  <tbody>\n",
       "    <tr>\n",
       "      <th>0</th>\n",
       "      <td>92.03</td>\n",
       "      <td>0.0</td>\n",
       "      <td>7.95</td>\n",
       "      <td>13.54</td>\n",
       "      <td>99.98</td>\n",
       "      <td>54.0</td>\n",
       "      <td>17.0</td>\n",
       "      <td>167.0</td>\n",
       "      <td>135.0</td>\n",
       "      <td>200.0</td>\n",
       "      <td>...</td>\n",
       "      <td>0.010866</td>\n",
       "      <td>inf</td>\n",
       "      <td>0.125786</td>\n",
       "      <td>0.073855</td>\n",
       "      <td>0.010002</td>\n",
       "      <td>0.018519</td>\n",
       "      <td>0.058824</td>\n",
       "      <td>0.005988</td>\n",
       "      <td>0.007407</td>\n",
       "      <td>0.005000</td>\n",
       "    </tr>\n",
       "    <tr>\n",
       "      <th>1</th>\n",
       "      <td>78.43</td>\n",
       "      <td>0.0</td>\n",
       "      <td>13.30</td>\n",
       "      <td>16.10</td>\n",
       "      <td>91.73</td>\n",
       "      <td>36.0</td>\n",
       "      <td>8.0</td>\n",
       "      <td>100.0</td>\n",
       "      <td>91.0</td>\n",
       "      <td>155.0</td>\n",
       "      <td>...</td>\n",
       "      <td>0.012750</td>\n",
       "      <td>inf</td>\n",
       "      <td>0.075188</td>\n",
       "      <td>0.062112</td>\n",
       "      <td>0.010902</td>\n",
       "      <td>0.027778</td>\n",
       "      <td>0.125000</td>\n",
       "      <td>0.010000</td>\n",
       "      <td>0.010989</td>\n",
       "      <td>0.006452</td>\n",
       "    </tr>\n",
       "    <tr>\n",
       "      <th>2</th>\n",
       "      <td>81.84</td>\n",
       "      <td>0.0</td>\n",
       "      <td>8.35</td>\n",
       "      <td>6.60</td>\n",
       "      <td>90.19</td>\n",
       "      <td>22.0</td>\n",
       "      <td>34.0</td>\n",
       "      <td>120.0</td>\n",
       "      <td>50.0</td>\n",
       "      <td>160.0</td>\n",
       "      <td>...</td>\n",
       "      <td>0.012219</td>\n",
       "      <td>inf</td>\n",
       "      <td>0.119760</td>\n",
       "      <td>0.151515</td>\n",
       "      <td>0.011088</td>\n",
       "      <td>0.045455</td>\n",
       "      <td>0.029412</td>\n",
       "      <td>0.008333</td>\n",
       "      <td>0.020000</td>\n",
       "      <td>0.006250</td>\n",
       "    </tr>\n",
       "    <tr>\n",
       "      <th>3</th>\n",
       "      <td>81.05</td>\n",
       "      <td>0.0</td>\n",
       "      <td>9.10</td>\n",
       "      <td>17.48</td>\n",
       "      <td>90.15</td>\n",
       "      <td>22.0</td>\n",
       "      <td>20.0</td>\n",
       "      <td>92.0</td>\n",
       "      <td>95.0</td>\n",
       "      <td>150.0</td>\n",
       "      <td>...</td>\n",
       "      <td>0.012338</td>\n",
       "      <td>inf</td>\n",
       "      <td>0.109890</td>\n",
       "      <td>0.057208</td>\n",
       "      <td>0.011093</td>\n",
       "      <td>0.045455</td>\n",
       "      <td>0.050000</td>\n",
       "      <td>0.010870</td>\n",
       "      <td>0.010526</td>\n",
       "      <td>0.006667</td>\n",
       "    </tr>\n",
       "    <tr>\n",
       "      <th>4</th>\n",
       "      <td>36.86</td>\n",
       "      <td>0.0</td>\n",
       "      <td>9.40</td>\n",
       "      <td>12.47</td>\n",
       "      <td>46.26</td>\n",
       "      <td>44.0</td>\n",
       "      <td>35.0</td>\n",
       "      <td>122.0</td>\n",
       "      <td>9.0</td>\n",
       "      <td>150.0</td>\n",
       "      <td>...</td>\n",
       "      <td>0.027130</td>\n",
       "      <td>inf</td>\n",
       "      <td>0.106383</td>\n",
       "      <td>0.080192</td>\n",
       "      <td>0.021617</td>\n",
       "      <td>0.022727</td>\n",
       "      <td>0.028571</td>\n",
       "      <td>0.008197</td>\n",
       "      <td>0.111111</td>\n",
       "      <td>0.006667</td>\n",
       "    </tr>\n",
       "  </tbody>\n",
       "</table>\n",
       "<p>5 rows × 23 columns</p>\n",
       "</div>"
      ],
      "text/plain": [
       "   Kitchen_waste_  Fruit_and_vegetable_waste_  Bread_Paste_  Waste_oil_  \\\n",
       "0           92.03                         0.0          7.95       13.54   \n",
       "1           78.43                         0.0         13.30       16.10   \n",
       "2           81.84                         0.0          8.35        6.60   \n",
       "3           81.05                         0.0          9.10       17.48   \n",
       "4           36.86                         0.0          9.40       12.47   \n",
       "\n",
       "   Total_Waste_  Diesel_waste_water_  Flour_and_waste_oil_  \\\n",
       "0         99.98                 54.0                  17.0   \n",
       "1         91.73                 36.0                   8.0   \n",
       "2         90.19                 22.0                  34.0   \n",
       "3         90.15                 22.0                  20.0   \n",
       "4         46.26                 44.0                  35.0   \n",
       "\n",
       "   Kitchen_waste_paste_  acid_feed  acid_discharge        ...         \\\n",
       "0                 167.0      135.0           200.0        ...          \n",
       "1                 100.0       91.0           155.0        ...          \n",
       "2                 120.0       50.0           160.0        ...          \n",
       "3                  92.0       95.0           150.0        ...          \n",
       "4                 122.0        9.0           150.0        ...          \n",
       "\n",
       "   1/Kitchen_waste_  1/Fruit_and_vegetable_waste_  1/Bread_Paste_  \\\n",
       "0          0.010866                           inf        0.125786   \n",
       "1          0.012750                           inf        0.075188   \n",
       "2          0.012219                           inf        0.119760   \n",
       "3          0.012338                           inf        0.109890   \n",
       "4          0.027130                           inf        0.106383   \n",
       "\n",
       "   1/Waste_oil_  1/Total_Waste_  1/Diesel_waste_water_  \\\n",
       "0      0.073855        0.010002               0.018519   \n",
       "1      0.062112        0.010902               0.027778   \n",
       "2      0.151515        0.011088               0.045455   \n",
       "3      0.057208        0.011093               0.045455   \n",
       "4      0.080192        0.021617               0.022727   \n",
       "\n",
       "   1/Flour_and_waste_oil_  1/Kitchen_waste_paste_  1/acid_feed  \\\n",
       "0                0.058824                0.005988     0.007407   \n",
       "1                0.125000                0.010000     0.010989   \n",
       "2                0.029412                0.008333     0.020000   \n",
       "3                0.050000                0.010870     0.010526   \n",
       "4                0.028571                0.008197     0.111111   \n",
       "\n",
       "   1/acid_discharge  \n",
       "0          0.005000  \n",
       "1          0.006452  \n",
       "2          0.006250  \n",
       "3          0.006667  \n",
       "4          0.006667  \n",
       "\n",
       "[5 rows x 23 columns]"
      ]
     },
     "execution_count": 21,
     "metadata": {},
     "output_type": "execute_result"
    }
   ],
   "source": [
    "for col in shenzhen.columns[:10]:\n",
    "    shenzhen['1/'+col] = 1/(shenzhen[col])\n",
    "\n",
    "shenzhen.head()"
   ]
  },
  {
   "cell_type": "markdown",
   "metadata": {},
   "source": [
    "Replace invalid values"
   ]
  },
  {
   "cell_type": "code",
   "execution_count": 22,
   "metadata": {},
   "outputs": [],
   "source": [
    "shenzhen.replace(float('inf'), 0, inplace=True);\n",
    "train_data, test_data = train_test_split(shenzhen, test_size=0.2)"
   ]
  },
  {
   "cell_type": "markdown",
   "metadata": {},
   "source": [
    "Reset the train and test data"
   ]
  },
  {
   "cell_type": "code",
   "execution_count": 23,
   "metadata": {
    "collapsed": true
   },
   "outputs": [],
   "source": [
    "INVERSE_COLUMNS = [ 'Kitchen_waste_', 'Fruit_and_vegetable_waste_', 'Bread_Paste_',\\\n",
    "                    'Waste_oil_', 'Total_Waste_', 'Diesel_waste_water_',\\\n",
    "                    'Flour_and_waste_oil_', 'Kitchen_waste_paste_', 'acid_feed',\\\n",
    "                    'acid_discharge','1/Kitchen_waste_', '1/Fruit_and_vegetable_waste_',\\\n",
    "                    '1/Bread_Paste_', '1/Waste_oil_', '1/Total_Waste_',\\\n",
    "                    '1/Diesel_waste_water_', '1/Flour_and_waste_oil_',\\\n",
    "                    '1/Kitchen_waste_paste_', '1/acid_feed', '1/acid_discharge']\n",
    "\n",
    "X_train = train_data[INVERSE_COLUMNS]\n",
    "y_train = train_data.anaerobic_dailyoutput\n",
    "X_test = test_data[INVERSE_COLUMNS]\n",
    "y_test = test_data.anaerobic_dailyoutput"
   ]
  },
  {
   "cell_type": "markdown",
   "metadata": {},
   "source": [
    "Run vanilla XGBoost"
   ]
  },
  {
   "cell_type": "code",
   "execution_count": 24,
   "metadata": {},
   "outputs": [
    {
     "name": "stdout",
     "output_type": "stream",
     "text": [
      "Accuracy of XGboost on train set: 0.93\n",
      "Accuracy of XGboost on test set: 0.63\n",
      "Confusion matrix:\n",
      "[[ 2  7  0]\n",
      " [ 1 43  6]\n",
      " [ 0 19 11]]\n"
     ]
    }
   ],
   "source": [
    "run_vanilla_xgb(X_train, y_train, X_test, y_test)"
   ]
  },
  {
   "cell_type": "markdown",
   "metadata": {},
   "source": [
    "Run tuned XGBoost"
   ]
  },
  {
   "cell_type": "code",
   "execution_count": 25,
   "metadata": {},
   "outputs": [
    {
     "name": "stdout",
     "output_type": "stream",
     "text": [
      "Accuracy of XGboost on training set: 0.86\n",
      "Accuracy of XGboost on test set: 0.63\n",
      "Confusion matrix:\n",
      "[[ 1  8  0]\n",
      " [ 2 43  5]\n",
      " [ 0 18 12]]\n"
     ]
    }
   ],
   "source": [
    "run_parameterized_xgb(X_train, y_train, X_test, y_test)"
   ]
  },
  {
   "cell_type": "markdown",
   "metadata": {},
   "source": [
    "### Add x**2 columns"
   ]
  },
  {
   "cell_type": "code",
   "execution_count": 26,
   "metadata": {},
   "outputs": [
    {
     "data": {
      "text/html": [
       "<div>\n",
       "<style scoped>\n",
       "    .dataframe tbody tr th:only-of-type {\n",
       "        vertical-align: middle;\n",
       "    }\n",
       "\n",
       "    .dataframe tbody tr th {\n",
       "        vertical-align: top;\n",
       "    }\n",
       "\n",
       "    .dataframe thead th {\n",
       "        text-align: right;\n",
       "    }\n",
       "</style>\n",
       "<table border=\"1\" class=\"dataframe\">\n",
       "  <thead>\n",
       "    <tr style=\"text-align: right;\">\n",
       "      <th></th>\n",
       "      <th>Kitchen_waste_</th>\n",
       "      <th>Fruit_and_vegetable_waste_</th>\n",
       "      <th>Bread_Paste_</th>\n",
       "      <th>Waste_oil_</th>\n",
       "      <th>Total_Waste_</th>\n",
       "      <th>Diesel_waste_water_</th>\n",
       "      <th>Flour_and_waste_oil_</th>\n",
       "      <th>Kitchen_waste_paste_</th>\n",
       "      <th>acid_feed</th>\n",
       "      <th>acid_discharge</th>\n",
       "      <th>...</th>\n",
       "      <th>Kitchen_waste_**2</th>\n",
       "      <th>Fruit_and_vegetable_waste_**2</th>\n",
       "      <th>Bread_Paste_**2</th>\n",
       "      <th>Waste_oil_**2</th>\n",
       "      <th>Total_Waste_**2</th>\n",
       "      <th>Diesel_waste_water_**2</th>\n",
       "      <th>Flour_and_waste_oil_**2</th>\n",
       "      <th>Kitchen_waste_paste_**2</th>\n",
       "      <th>acid_feed**2</th>\n",
       "      <th>acid_discharge**2</th>\n",
       "    </tr>\n",
       "  </thead>\n",
       "  <tbody>\n",
       "    <tr>\n",
       "      <th>0</th>\n",
       "      <td>92.03</td>\n",
       "      <td>0.0</td>\n",
       "      <td>7.95</td>\n",
       "      <td>13.54</td>\n",
       "      <td>99.98</td>\n",
       "      <td>54.0</td>\n",
       "      <td>17.0</td>\n",
       "      <td>167.0</td>\n",
       "      <td>135.0</td>\n",
       "      <td>200.0</td>\n",
       "      <td>...</td>\n",
       "      <td>8469.5209</td>\n",
       "      <td>0.0</td>\n",
       "      <td>63.2025</td>\n",
       "      <td>183.3316</td>\n",
       "      <td>9996.0004</td>\n",
       "      <td>2916.0</td>\n",
       "      <td>289.0</td>\n",
       "      <td>27889.0</td>\n",
       "      <td>18225.0</td>\n",
       "      <td>40000.0</td>\n",
       "    </tr>\n",
       "    <tr>\n",
       "      <th>1</th>\n",
       "      <td>78.43</td>\n",
       "      <td>0.0</td>\n",
       "      <td>13.30</td>\n",
       "      <td>16.10</td>\n",
       "      <td>91.73</td>\n",
       "      <td>36.0</td>\n",
       "      <td>8.0</td>\n",
       "      <td>100.0</td>\n",
       "      <td>91.0</td>\n",
       "      <td>155.0</td>\n",
       "      <td>...</td>\n",
       "      <td>6151.2649</td>\n",
       "      <td>0.0</td>\n",
       "      <td>176.8900</td>\n",
       "      <td>259.2100</td>\n",
       "      <td>8414.3929</td>\n",
       "      <td>1296.0</td>\n",
       "      <td>64.0</td>\n",
       "      <td>10000.0</td>\n",
       "      <td>8281.0</td>\n",
       "      <td>24025.0</td>\n",
       "    </tr>\n",
       "    <tr>\n",
       "      <th>2</th>\n",
       "      <td>81.84</td>\n",
       "      <td>0.0</td>\n",
       "      <td>8.35</td>\n",
       "      <td>6.60</td>\n",
       "      <td>90.19</td>\n",
       "      <td>22.0</td>\n",
       "      <td>34.0</td>\n",
       "      <td>120.0</td>\n",
       "      <td>50.0</td>\n",
       "      <td>160.0</td>\n",
       "      <td>...</td>\n",
       "      <td>6697.7856</td>\n",
       "      <td>0.0</td>\n",
       "      <td>69.7225</td>\n",
       "      <td>43.5600</td>\n",
       "      <td>8134.2361</td>\n",
       "      <td>484.0</td>\n",
       "      <td>1156.0</td>\n",
       "      <td>14400.0</td>\n",
       "      <td>2500.0</td>\n",
       "      <td>25600.0</td>\n",
       "    </tr>\n",
       "    <tr>\n",
       "      <th>3</th>\n",
       "      <td>81.05</td>\n",
       "      <td>0.0</td>\n",
       "      <td>9.10</td>\n",
       "      <td>17.48</td>\n",
       "      <td>90.15</td>\n",
       "      <td>22.0</td>\n",
       "      <td>20.0</td>\n",
       "      <td>92.0</td>\n",
       "      <td>95.0</td>\n",
       "      <td>150.0</td>\n",
       "      <td>...</td>\n",
       "      <td>6569.1025</td>\n",
       "      <td>0.0</td>\n",
       "      <td>82.8100</td>\n",
       "      <td>305.5504</td>\n",
       "      <td>8127.0225</td>\n",
       "      <td>484.0</td>\n",
       "      <td>400.0</td>\n",
       "      <td>8464.0</td>\n",
       "      <td>9025.0</td>\n",
       "      <td>22500.0</td>\n",
       "    </tr>\n",
       "    <tr>\n",
       "      <th>4</th>\n",
       "      <td>36.86</td>\n",
       "      <td>0.0</td>\n",
       "      <td>9.40</td>\n",
       "      <td>12.47</td>\n",
       "      <td>46.26</td>\n",
       "      <td>44.0</td>\n",
       "      <td>35.0</td>\n",
       "      <td>122.0</td>\n",
       "      <td>9.0</td>\n",
       "      <td>150.0</td>\n",
       "      <td>...</td>\n",
       "      <td>1358.6596</td>\n",
       "      <td>0.0</td>\n",
       "      <td>88.3600</td>\n",
       "      <td>155.5009</td>\n",
       "      <td>2139.9876</td>\n",
       "      <td>1936.0</td>\n",
       "      <td>1225.0</td>\n",
       "      <td>14884.0</td>\n",
       "      <td>81.0</td>\n",
       "      <td>22500.0</td>\n",
       "    </tr>\n",
       "  </tbody>\n",
       "</table>\n",
       "<p>5 rows × 33 columns</p>\n",
       "</div>"
      ],
      "text/plain": [
       "   Kitchen_waste_  Fruit_and_vegetable_waste_  Bread_Paste_  Waste_oil_  \\\n",
       "0           92.03                         0.0          7.95       13.54   \n",
       "1           78.43                         0.0         13.30       16.10   \n",
       "2           81.84                         0.0          8.35        6.60   \n",
       "3           81.05                         0.0          9.10       17.48   \n",
       "4           36.86                         0.0          9.40       12.47   \n",
       "\n",
       "   Total_Waste_  Diesel_waste_water_  Flour_and_waste_oil_  \\\n",
       "0         99.98                 54.0                  17.0   \n",
       "1         91.73                 36.0                   8.0   \n",
       "2         90.19                 22.0                  34.0   \n",
       "3         90.15                 22.0                  20.0   \n",
       "4         46.26                 44.0                  35.0   \n",
       "\n",
       "   Kitchen_waste_paste_  acid_feed  acid_discharge        ...          \\\n",
       "0                 167.0      135.0           200.0        ...           \n",
       "1                 100.0       91.0           155.0        ...           \n",
       "2                 120.0       50.0           160.0        ...           \n",
       "3                  92.0       95.0           150.0        ...           \n",
       "4                 122.0        9.0           150.0        ...           \n",
       "\n",
       "   Kitchen_waste_**2  Fruit_and_vegetable_waste_**2  Bread_Paste_**2  \\\n",
       "0          8469.5209                            0.0          63.2025   \n",
       "1          6151.2649                            0.0         176.8900   \n",
       "2          6697.7856                            0.0          69.7225   \n",
       "3          6569.1025                            0.0          82.8100   \n",
       "4          1358.6596                            0.0          88.3600   \n",
       "\n",
       "   Waste_oil_**2  Total_Waste_**2  Diesel_waste_water_**2  \\\n",
       "0       183.3316        9996.0004                  2916.0   \n",
       "1       259.2100        8414.3929                  1296.0   \n",
       "2        43.5600        8134.2361                   484.0   \n",
       "3       305.5504        8127.0225                   484.0   \n",
       "4       155.5009        2139.9876                  1936.0   \n",
       "\n",
       "   Flour_and_waste_oil_**2  Kitchen_waste_paste_**2  acid_feed**2  \\\n",
       "0                    289.0                  27889.0       18225.0   \n",
       "1                     64.0                  10000.0        8281.0   \n",
       "2                   1156.0                  14400.0        2500.0   \n",
       "3                    400.0                   8464.0        9025.0   \n",
       "4                   1225.0                  14884.0          81.0   \n",
       "\n",
       "   acid_discharge**2  \n",
       "0            40000.0  \n",
       "1            24025.0  \n",
       "2            25600.0  \n",
       "3            22500.0  \n",
       "4            22500.0  \n",
       "\n",
       "[5 rows x 33 columns]"
      ]
     },
     "execution_count": 26,
     "metadata": {},
     "output_type": "execute_result"
    }
   ],
   "source": [
    "for col in shenzhen.columns[:10]:\n",
    "    shenzhen[col+\"**2\"] = (shenzhen[col])**2\n",
    "    \n",
    "shenzhen.head()"
   ]
  },
  {
   "cell_type": "code",
   "execution_count": 27,
   "metadata": {},
   "outputs": [],
   "source": [
    "train_data, test_data = train_test_split(shenzhen, test_size=0.15)"
   ]
  },
  {
   "cell_type": "markdown",
   "metadata": {},
   "source": [
    "Reset the train and test data"
   ]
  },
  {
   "cell_type": "code",
   "execution_count": 28,
   "metadata": {
    "collapsed": true
   },
   "outputs": [],
   "source": [
    "SQUARED_COLUMNS = [ 'Kitchen_waste_', 'Fruit_and_vegetable_waste_', 'Bread_Paste_',\\\n",
    "                     'Waste_oil_', 'Total_Waste_', 'Diesel_waste_water_',\\\n",
    "                     'Flour_and_waste_oil_', 'Kitchen_waste_paste_', 'acid_feed',\\\n",
    "                     'acid_discharge','1/Kitchen_waste_', '1/Fruit_and_vegetable_waste_',\\\n",
    "                     '1/Bread_Paste_', '1/Waste_oil_', '1/Total_Waste_',\\\n",
    "                     '1/Diesel_waste_water_', '1/Flour_and_waste_oil_',\\\n",
    "                     '1/Kitchen_waste_paste_', '1/acid_feed', '1/acid_discharge',\\\n",
    "                     'Kitchen_waste_**2', 'Fruit_and_vegetable_waste_**2', \\\n",
    "                     'Bread_Paste_**2','Waste_oil_**2', 'Total_Waste_**2', \\\n",
    "                     'Diesel_waste_water_**2','Flour_and_waste_oil_**2', \\\n",
    "                     'Kitchen_waste_paste_**2', 'acid_feed**2','acid_discharge**2' ]\n",
    "\n",
    "X_train = train_data[SQUARED_COLUMNS]\n",
    "y_train = train_data.anaerobic_dailyoutput\n",
    "X_test = test_data[SQUARED_COLUMNS]\n",
    "y_test = test_data.anaerobic_dailyoutput"
   ]
  },
  {
   "cell_type": "markdown",
   "metadata": {},
   "source": [
    "Run vanilla XGBoost"
   ]
  },
  {
   "cell_type": "code",
   "execution_count": 29,
   "metadata": {},
   "outputs": [
    {
     "name": "stdout",
     "output_type": "stream",
     "text": [
      "Accuracy of XGboost on train set: 0.92\n",
      "Accuracy of XGboost on test set: 0.51\n",
      "Confusion matrix:\n",
      "[[ 0 14  0]\n",
      " [ 5 27  2]\n",
      " [ 0 12  7]]\n"
     ]
    }
   ],
   "source": [
    "run_vanilla_xgb(X_train, y_train, X_test, y_test)"
   ]
  },
  {
   "cell_type": "markdown",
   "metadata": {},
   "source": [
    "Run tuned XGBoost"
   ]
  },
  {
   "cell_type": "code",
   "execution_count": 30,
   "metadata": {},
   "outputs": [
    {
     "name": "stdout",
     "output_type": "stream",
     "text": [
      "Accuracy of XGboost on training set: 0.85\n",
      "Accuracy of XGboost on test set: 0.48\n",
      "Confusion matrix:\n",
      "[[ 0 13  1]\n",
      " [ 4 27  3]\n",
      " [ 0 14  5]]\n"
     ]
    }
   ],
   "source": [
    "run_parameterized_xgb(X_train, y_train, X_test, y_test)"
   ]
  },
  {
   "cell_type": "markdown",
   "metadata": {},
   "source": [
    "### Add log(x) columns"
   ]
  },
  {
   "cell_type": "code",
   "execution_count": 31,
   "metadata": {},
   "outputs": [
    {
     "data": {
      "text/html": [
       "<div>\n",
       "<style scoped>\n",
       "    .dataframe tbody tr th:only-of-type {\n",
       "        vertical-align: middle;\n",
       "    }\n",
       "\n",
       "    .dataframe tbody tr th {\n",
       "        vertical-align: top;\n",
       "    }\n",
       "\n",
       "    .dataframe thead th {\n",
       "        text-align: right;\n",
       "    }\n",
       "</style>\n",
       "<table border=\"1\" class=\"dataframe\">\n",
       "  <thead>\n",
       "    <tr style=\"text-align: right;\">\n",
       "      <th></th>\n",
       "      <th>Kitchen_waste_</th>\n",
       "      <th>Fruit_and_vegetable_waste_</th>\n",
       "      <th>Bread_Paste_</th>\n",
       "      <th>Waste_oil_</th>\n",
       "      <th>Total_Waste_</th>\n",
       "      <th>Diesel_waste_water_</th>\n",
       "      <th>Flour_and_waste_oil_</th>\n",
       "      <th>Kitchen_waste_paste_</th>\n",
       "      <th>acid_feed</th>\n",
       "      <th>acid_discharge</th>\n",
       "      <th>...</th>\n",
       "      <th>Kitchen_waste_log</th>\n",
       "      <th>Fruit_and_vegetable_waste_log</th>\n",
       "      <th>Bread_Paste_log</th>\n",
       "      <th>Waste_oil_log</th>\n",
       "      <th>Total_Waste_log</th>\n",
       "      <th>Diesel_waste_water_log</th>\n",
       "      <th>Flour_and_waste_oil_log</th>\n",
       "      <th>Kitchen_waste_paste_log</th>\n",
       "      <th>acid_feedlog</th>\n",
       "      <th>acid_dischargelog</th>\n",
       "    </tr>\n",
       "  </thead>\n",
       "  <tbody>\n",
       "    <tr>\n",
       "      <th>0</th>\n",
       "      <td>92.03</td>\n",
       "      <td>0.0</td>\n",
       "      <td>7.95</td>\n",
       "      <td>13.54</td>\n",
       "      <td>99.98</td>\n",
       "      <td>54.0</td>\n",
       "      <td>17.0</td>\n",
       "      <td>167.0</td>\n",
       "      <td>135.0</td>\n",
       "      <td>200.0</td>\n",
       "      <td>...</td>\n",
       "      <td>4.522115</td>\n",
       "      <td>-inf</td>\n",
       "      <td>2.073172</td>\n",
       "      <td>2.605648</td>\n",
       "      <td>4.604970</td>\n",
       "      <td>3.988984</td>\n",
       "      <td>2.833213</td>\n",
       "      <td>5.117994</td>\n",
       "      <td>4.905275</td>\n",
       "      <td>5.298317</td>\n",
       "    </tr>\n",
       "    <tr>\n",
       "      <th>1</th>\n",
       "      <td>78.43</td>\n",
       "      <td>0.0</td>\n",
       "      <td>13.30</td>\n",
       "      <td>16.10</td>\n",
       "      <td>91.73</td>\n",
       "      <td>36.0</td>\n",
       "      <td>8.0</td>\n",
       "      <td>100.0</td>\n",
       "      <td>91.0</td>\n",
       "      <td>155.0</td>\n",
       "      <td>...</td>\n",
       "      <td>4.362207</td>\n",
       "      <td>-inf</td>\n",
       "      <td>2.587764</td>\n",
       "      <td>2.778819</td>\n",
       "      <td>4.518849</td>\n",
       "      <td>3.583519</td>\n",
       "      <td>2.079442</td>\n",
       "      <td>4.605170</td>\n",
       "      <td>4.510860</td>\n",
       "      <td>5.043425</td>\n",
       "    </tr>\n",
       "    <tr>\n",
       "      <th>2</th>\n",
       "      <td>81.84</td>\n",
       "      <td>0.0</td>\n",
       "      <td>8.35</td>\n",
       "      <td>6.60</td>\n",
       "      <td>90.19</td>\n",
       "      <td>22.0</td>\n",
       "      <td>34.0</td>\n",
       "      <td>120.0</td>\n",
       "      <td>50.0</td>\n",
       "      <td>160.0</td>\n",
       "      <td>...</td>\n",
       "      <td>4.404766</td>\n",
       "      <td>-inf</td>\n",
       "      <td>2.122262</td>\n",
       "      <td>1.887070</td>\n",
       "      <td>4.501919</td>\n",
       "      <td>3.091042</td>\n",
       "      <td>3.526361</td>\n",
       "      <td>4.787492</td>\n",
       "      <td>3.912023</td>\n",
       "      <td>5.075174</td>\n",
       "    </tr>\n",
       "    <tr>\n",
       "      <th>3</th>\n",
       "      <td>81.05</td>\n",
       "      <td>0.0</td>\n",
       "      <td>9.10</td>\n",
       "      <td>17.48</td>\n",
       "      <td>90.15</td>\n",
       "      <td>22.0</td>\n",
       "      <td>20.0</td>\n",
       "      <td>92.0</td>\n",
       "      <td>95.0</td>\n",
       "      <td>150.0</td>\n",
       "      <td>...</td>\n",
       "      <td>4.395066</td>\n",
       "      <td>-inf</td>\n",
       "      <td>2.208274</td>\n",
       "      <td>2.861057</td>\n",
       "      <td>4.501475</td>\n",
       "      <td>3.091042</td>\n",
       "      <td>2.995732</td>\n",
       "      <td>4.521789</td>\n",
       "      <td>4.553877</td>\n",
       "      <td>5.010635</td>\n",
       "    </tr>\n",
       "    <tr>\n",
       "      <th>4</th>\n",
       "      <td>36.86</td>\n",
       "      <td>0.0</td>\n",
       "      <td>9.40</td>\n",
       "      <td>12.47</td>\n",
       "      <td>46.26</td>\n",
       "      <td>44.0</td>\n",
       "      <td>35.0</td>\n",
       "      <td>122.0</td>\n",
       "      <td>9.0</td>\n",
       "      <td>150.0</td>\n",
       "      <td>...</td>\n",
       "      <td>3.607127</td>\n",
       "      <td>-inf</td>\n",
       "      <td>2.240710</td>\n",
       "      <td>2.523326</td>\n",
       "      <td>3.834278</td>\n",
       "      <td>3.784190</td>\n",
       "      <td>3.555348</td>\n",
       "      <td>4.804021</td>\n",
       "      <td>2.197225</td>\n",
       "      <td>5.010635</td>\n",
       "    </tr>\n",
       "  </tbody>\n",
       "</table>\n",
       "<p>5 rows × 43 columns</p>\n",
       "</div>"
      ],
      "text/plain": [
       "   Kitchen_waste_  Fruit_and_vegetable_waste_  Bread_Paste_  Waste_oil_  \\\n",
       "0           92.03                         0.0          7.95       13.54   \n",
       "1           78.43                         0.0         13.30       16.10   \n",
       "2           81.84                         0.0          8.35        6.60   \n",
       "3           81.05                         0.0          9.10       17.48   \n",
       "4           36.86                         0.0          9.40       12.47   \n",
       "\n",
       "   Total_Waste_  Diesel_waste_water_  Flour_and_waste_oil_  \\\n",
       "0         99.98                 54.0                  17.0   \n",
       "1         91.73                 36.0                   8.0   \n",
       "2         90.19                 22.0                  34.0   \n",
       "3         90.15                 22.0                  20.0   \n",
       "4         46.26                 44.0                  35.0   \n",
       "\n",
       "   Kitchen_waste_paste_  acid_feed  acid_discharge        ...          \\\n",
       "0                 167.0      135.0           200.0        ...           \n",
       "1                 100.0       91.0           155.0        ...           \n",
       "2                 120.0       50.0           160.0        ...           \n",
       "3                  92.0       95.0           150.0        ...           \n",
       "4                 122.0        9.0           150.0        ...           \n",
       "\n",
       "   Kitchen_waste_log  Fruit_and_vegetable_waste_log  Bread_Paste_log  \\\n",
       "0           4.522115                           -inf         2.073172   \n",
       "1           4.362207                           -inf         2.587764   \n",
       "2           4.404766                           -inf         2.122262   \n",
       "3           4.395066                           -inf         2.208274   \n",
       "4           3.607127                           -inf         2.240710   \n",
       "\n",
       "   Waste_oil_log  Total_Waste_log  Diesel_waste_water_log  \\\n",
       "0       2.605648         4.604970                3.988984   \n",
       "1       2.778819         4.518849                3.583519   \n",
       "2       1.887070         4.501919                3.091042   \n",
       "3       2.861057         4.501475                3.091042   \n",
       "4       2.523326         3.834278                3.784190   \n",
       "\n",
       "   Flour_and_waste_oil_log  Kitchen_waste_paste_log  acid_feedlog  \\\n",
       "0                 2.833213                 5.117994      4.905275   \n",
       "1                 2.079442                 4.605170      4.510860   \n",
       "2                 3.526361                 4.787492      3.912023   \n",
       "3                 2.995732                 4.521789      4.553877   \n",
       "4                 3.555348                 4.804021      2.197225   \n",
       "\n",
       "   acid_dischargelog  \n",
       "0           5.298317  \n",
       "1           5.043425  \n",
       "2           5.075174  \n",
       "3           5.010635  \n",
       "4           5.010635  \n",
       "\n",
       "[5 rows x 43 columns]"
      ]
     },
     "execution_count": 31,
     "metadata": {},
     "output_type": "execute_result"
    }
   ],
   "source": [
    "for col in shenzhen.columns[:10]:\n",
    "    shenzhen[col+\"log\"] = np.log(shenzhen[col])\n",
    "    \n",
    "shenzhen.head()"
   ]
  },
  {
   "cell_type": "code",
   "execution_count": 32,
   "metadata": {},
   "outputs": [],
   "source": [
    "train_data, test_data = train_test_split(shenzhen, test_size=0.15)"
   ]
  },
  {
   "cell_type": "markdown",
   "metadata": {},
   "source": [
    "Reset the train and test data"
   ]
  },
  {
   "cell_type": "code",
   "execution_count": 33,
   "metadata": {
    "collapsed": true
   },
   "outputs": [],
   "source": [
    "LOG_COLUMNS = [ 'Kitchen_waste_', 'Fruit_and_vegetable_waste_', 'Bread_Paste_',\\\n",
    "                 'Waste_oil_', 'Total_Waste_', 'Diesel_waste_water_',\\\n",
    "                 'Flour_and_waste_oil_', 'Kitchen_waste_paste_', 'acid_feed',\\\n",
    "                 'acid_discharge','1/Kitchen_waste_', '1/Fruit_and_vegetable_waste_',\\\n",
    "                 '1/Bread_Paste_', '1/Waste_oil_', '1/Total_Waste_',\\\n",
    "                 '1/Diesel_waste_water_', '1/Flour_and_waste_oil_',\\\n",
    "                 '1/Kitchen_waste_paste_', '1/acid_feed', '1/acid_discharge',\\\n",
    "                 'Kitchen_waste_**2', 'Fruit_and_vegetable_waste_**2', \\\n",
    "                 'Bread_Paste_**2','Waste_oil_**2', 'Total_Waste_**2', \\\n",
    "                 'Diesel_waste_water_**2','Flour_and_waste_oil_**2', \\\n",
    "                 'Kitchen_waste_paste_**2', 'acid_feed**2','acid_discharge**2',\\\n",
    "                 'Kitchen_waste_log','Fruit_and_vegetable_waste_log', \\\n",
    "                 'Bread_Paste_log', 'Waste_oil_log','Total_Waste_log', \\\n",
    "                 'Diesel_waste_water_log', 'Flour_and_waste_oil_log',\\\n",
    "                 'Kitchen_waste_paste_log', 'acid_feedlog', 'acid_dischargelog' ]\n",
    "\n",
    "X_train = train_data[LOG_COLUMNS]\n",
    "y_train = train_data.anaerobic_dailyoutput\n",
    "X_test = test_data[LOG_COLUMNS]\n",
    "y_test = test_data.anaerobic_dailyoutput"
   ]
  },
  {
   "cell_type": "markdown",
   "metadata": {},
   "source": [
    "Run vanilla XGBoost"
   ]
  },
  {
   "cell_type": "code",
   "execution_count": 34,
   "metadata": {},
   "outputs": [
    {
     "name": "stdout",
     "output_type": "stream",
     "text": [
      "Accuracy of XGboost on train set: 0.94\n",
      "Accuracy of XGboost on test set: 0.57\n",
      "Confusion matrix:\n",
      "[[ 1  8  1]\n",
      " [ 3 32  5]\n",
      " [ 0 12  5]]\n"
     ]
    }
   ],
   "source": [
    "run_vanilla_xgb(X_train, y_train, X_test, y_test)"
   ]
  },
  {
   "cell_type": "markdown",
   "metadata": {},
   "source": [
    "Run tuned XGBoost"
   ]
  },
  {
   "cell_type": "code",
   "execution_count": 35,
   "metadata": {},
   "outputs": [
    {
     "name": "stdout",
     "output_type": "stream",
     "text": [
      "Accuracy of XGboost on training set: 0.84\n",
      "Accuracy of XGboost on test set: 0.60\n",
      "Confusion matrix:\n",
      "[[ 0 10  0]\n",
      " [ 1 33  6]\n",
      " [ 0 10  7]]\n"
     ]
    }
   ],
   "source": [
    "run_parameterized_xgb(X_train, y_train, X_test, y_test)"
   ]
  },
  {
   "cell_type": "markdown",
   "metadata": {},
   "source": [
    "__Conclusion: the best model is treated with 1/, x\\**2 and log(x)__"
   ]
  },
  {
   "cell_type": "markdown",
   "metadata": {},
   "source": [
    "### Adding a time-series value"
   ]
  },
  {
   "cell_type": "markdown",
   "metadata": {},
   "source": [
    "Consolidate some columns"
   ]
  },
  {
   "cell_type": "code",
   "execution_count": 36,
   "metadata": {},
   "outputs": [
    {
     "data": {
      "text/html": [
       "<div>\n",
       "<style scoped>\n",
       "    .dataframe tbody tr th:only-of-type {\n",
       "        vertical-align: middle;\n",
       "    }\n",
       "\n",
       "    .dataframe tbody tr th {\n",
       "        vertical-align: top;\n",
       "    }\n",
       "\n",
       "    .dataframe thead th {\n",
       "        text-align: right;\n",
       "    }\n",
       "</style>\n",
       "<table border=\"1\" class=\"dataframe\">\n",
       "  <thead>\n",
       "    <tr style=\"text-align: right;\">\n",
       "      <th></th>\n",
       "      <th>Unnamed: 0</th>\n",
       "      <th>Kitchen_waste_</th>\n",
       "      <th>Fruit_and_vegetable_waste_</th>\n",
       "      <th>Bread_Paste_</th>\n",
       "      <th>Waste_oil_</th>\n",
       "      <th>Total_Waste_</th>\n",
       "      <th>Diesel_waste_water_</th>\n",
       "      <th>Flour_and_waste_oil_</th>\n",
       "      <th>Kitchen_waste_paste_</th>\n",
       "      <th>acid_feed</th>\n",
       "      <th>acid_discharge</th>\n",
       "      <th>anaerobic_feed</th>\n",
       "      <th>anaerobic_cumuprod</th>\n",
       "      <th>anaerobic_dailyoutput</th>\n",
       "    </tr>\n",
       "  </thead>\n",
       "  <tbody>\n",
       "    <tr>\n",
       "      <th>0</th>\n",
       "      <td>0</td>\n",
       "      <td>92.03</td>\n",
       "      <td>0.0</td>\n",
       "      <td>7.95</td>\n",
       "      <td>13.54</td>\n",
       "      <td>99.98</td>\n",
       "      <td>54.0</td>\n",
       "      <td>17.0</td>\n",
       "      <td>167.0</td>\n",
       "      <td>0.0</td>\n",
       "      <td>0.0</td>\n",
       "      <td>130.0</td>\n",
       "      <td>340453.0</td>\n",
       "      <td>7919.0</td>\n",
       "    </tr>\n",
       "    <tr>\n",
       "      <th>1</th>\n",
       "      <td>1</td>\n",
       "      <td>78.43</td>\n",
       "      <td>0.0</td>\n",
       "      <td>13.30</td>\n",
       "      <td>16.10</td>\n",
       "      <td>91.73</td>\n",
       "      <td>36.0</td>\n",
       "      <td>8.0</td>\n",
       "      <td>100.0</td>\n",
       "      <td>0.0</td>\n",
       "      <td>0.0</td>\n",
       "      <td>170.0</td>\n",
       "      <td>343154.0</td>\n",
       "      <td>2701.0</td>\n",
       "    </tr>\n",
       "    <tr>\n",
       "      <th>2</th>\n",
       "      <td>2</td>\n",
       "      <td>81.84</td>\n",
       "      <td>0.0</td>\n",
       "      <td>8.35</td>\n",
       "      <td>6.60</td>\n",
       "      <td>90.19</td>\n",
       "      <td>22.0</td>\n",
       "      <td>34.0</td>\n",
       "      <td>120.0</td>\n",
       "      <td>0.0</td>\n",
       "      <td>0.0</td>\n",
       "      <td>150.0</td>\n",
       "      <td>353361.0</td>\n",
       "      <td>10207.0</td>\n",
       "    </tr>\n",
       "    <tr>\n",
       "      <th>3</th>\n",
       "      <td>3</td>\n",
       "      <td>81.05</td>\n",
       "      <td>0.0</td>\n",
       "      <td>9.10</td>\n",
       "      <td>17.48</td>\n",
       "      <td>90.15</td>\n",
       "      <td>22.0</td>\n",
       "      <td>20.0</td>\n",
       "      <td>92.0</td>\n",
       "      <td>0.0</td>\n",
       "      <td>0.0</td>\n",
       "      <td>160.0</td>\n",
       "      <td>363943.0</td>\n",
       "      <td>10582.0</td>\n",
       "    </tr>\n",
       "    <tr>\n",
       "      <th>4</th>\n",
       "      <td>4</td>\n",
       "      <td>36.86</td>\n",
       "      <td>0.0</td>\n",
       "      <td>9.40</td>\n",
       "      <td>12.47</td>\n",
       "      <td>46.26</td>\n",
       "      <td>44.0</td>\n",
       "      <td>35.0</td>\n",
       "      <td>122.0</td>\n",
       "      <td>0.0</td>\n",
       "      <td>0.0</td>\n",
       "      <td>160.0</td>\n",
       "      <td>372971.0</td>\n",
       "      <td>9028.0</td>\n",
       "    </tr>\n",
       "  </tbody>\n",
       "</table>\n",
       "</div>"
      ],
      "text/plain": [
       "   Unnamed: 0  Kitchen_waste_  Fruit_and_vegetable_waste_  Bread_Paste_  \\\n",
       "0           0           92.03                         0.0          7.95   \n",
       "1           1           78.43                         0.0         13.30   \n",
       "2           2           81.84                         0.0          8.35   \n",
       "3           3           81.05                         0.0          9.10   \n",
       "4           4           36.86                         0.0          9.40   \n",
       "\n",
       "   Waste_oil_  Total_Waste_  Diesel_waste_water_  Flour_and_waste_oil_  \\\n",
       "0       13.54         99.98                 54.0                  17.0   \n",
       "1       16.10         91.73                 36.0                   8.0   \n",
       "2        6.60         90.19                 22.0                  34.0   \n",
       "3       17.48         90.15                 22.0                  20.0   \n",
       "4       12.47         46.26                 44.0                  35.0   \n",
       "\n",
       "   Kitchen_waste_paste_  acid_feed  acid_discharge  anaerobic_feed  \\\n",
       "0                 167.0        0.0             0.0           130.0   \n",
       "1                 100.0        0.0             0.0           170.0   \n",
       "2                 120.0        0.0             0.0           150.0   \n",
       "3                  92.0        0.0             0.0           160.0   \n",
       "4                 122.0        0.0             0.0           160.0   \n",
       "\n",
       "   anaerobic_cumuprod  anaerobic_dailyoutput  \n",
       "0            340453.0                 7919.0  \n",
       "1            343154.0                 2701.0  \n",
       "2            353361.0                10207.0  \n",
       "3            363943.0                10582.0  \n",
       "4            372971.0                 9028.0  "
      ]
     },
     "execution_count": 36,
     "metadata": {},
     "output_type": "execute_result"
    }
   ],
   "source": [
    "shenzhen = pd.read_csv(\"Data/shenzhen_cleaned_data.csv\")\n",
    "shenzhen['acid_feed'] = shenzhen['1_acidification_hydrolysis_tank_feed_'] \\\n",
    "                                             + shenzhen['2_acidification_hydrolysis_tank_feed_']\n",
    "shenzhen['acid_discharge']  = shenzhen['1_acidification_hydrolysis_tank_discharge_']\\\n",
    "                                             + shenzhen['2_acidification_hydrolysis_tank_discharge_']\n",
    "shenzhen['anaerobic_feed'] = shenzhen['1_Anaerobic_tank_slurry_feed_'] \\\n",
    "                                             + shenzhen['2_Anaerobic_tank_slurry_feed_']\n",
    "shenzhen['anaerobic_cumuprod'] = shenzhen['1_Anaerobic_tank_biogas_cumulative_production_'] \\\n",
    "                                             + shenzhen['2_anaerobic_tank_biogas_cumulative_production_']\n",
    "shenzhen['anaerobic_dailyoutput'] = shenzhen['1_anaerobic_tank_biogas_daily_output_'] \\\n",
    "                                             + shenzhen['2_anaerobic_tank_biogas_daily_output_']\n",
    "shenzhen = shenzhen.drop(['1_acidification_hydrolysis_tank_feed_','2_acidification_hydrolysis_tank_feed_',\\\n",
    "               '1_acidification_hydrolysis_tank_discharge_','2_acidification_hydrolysis_tank_discharge_',\\\n",
    "               '1_Anaerobic_tank_slurry_feed_','2_Anaerobic_tank_slurry_feed_',\\\n",
    "               '1_Anaerobic_tank_biogas_cumulative_production_','2_anaerobic_tank_biogas_cumulative_production_',\\\n",
    "               '1_anaerobic_tank_biogas_daily_output_','2_anaerobic_tank_biogas_daily_output_'],axis=1)\n",
    "\n",
    "shenzhen.head()"
   ]
  },
  {
   "cell_type": "markdown",
   "metadata": {},
   "source": [
    "Shift rows up to account for production delay"
   ]
  },
  {
   "cell_type": "code",
   "execution_count": 37,
   "metadata": {
    "collapsed": true
   },
   "outputs": [
    {
     "data": {
      "text/html": [
       "<div>\n",
       "<style scoped>\n",
       "    .dataframe tbody tr th:only-of-type {\n",
       "        vertical-align: middle;\n",
       "    }\n",
       "\n",
       "    .dataframe tbody tr th {\n",
       "        vertical-align: top;\n",
       "    }\n",
       "\n",
       "    .dataframe thead th {\n",
       "        text-align: right;\n",
       "    }\n",
       "</style>\n",
       "<table border=\"1\" class=\"dataframe\">\n",
       "  <thead>\n",
       "    <tr style=\"text-align: right;\">\n",
       "      <th></th>\n",
       "      <th>Kitchen_waste_</th>\n",
       "      <th>Fruit_and_vegetable_waste_</th>\n",
       "      <th>Bread_Paste_</th>\n",
       "      <th>Waste_oil_</th>\n",
       "      <th>Total_Waste_</th>\n",
       "      <th>Diesel_waste_water_</th>\n",
       "      <th>Flour_and_waste_oil_</th>\n",
       "      <th>Kitchen_waste_paste_</th>\n",
       "      <th>acid_feed</th>\n",
       "      <th>acid_discharge</th>\n",
       "      <th>anaerobic_feed</th>\n",
       "      <th>anaerobic_cumuprod</th>\n",
       "      <th>anaerobic_dailyoutput</th>\n",
       "    </tr>\n",
       "  </thead>\n",
       "  <tbody>\n",
       "    <tr>\n",
       "      <th>436</th>\n",
       "      <td>150.03</td>\n",
       "      <td>25.45</td>\n",
       "      <td>0.0</td>\n",
       "      <td>6.49</td>\n",
       "      <td>175.48</td>\n",
       "      <td>44.0</td>\n",
       "      <td>0.0</td>\n",
       "      <td>151.0</td>\n",
       "      <td>0.0</td>\n",
       "      <td>200.0</td>\n",
       "      <td>200.0</td>\n",
       "      <td>3091363.0</td>\n",
       "      <td>7526.0</td>\n",
       "    </tr>\n",
       "    <tr>\n",
       "      <th>437</th>\n",
       "      <td>144.28</td>\n",
       "      <td>49.36</td>\n",
       "      <td>0.0</td>\n",
       "      <td>10.04</td>\n",
       "      <td>193.64</td>\n",
       "      <td>44.0</td>\n",
       "      <td>0.0</td>\n",
       "      <td>145.0</td>\n",
       "      <td>0.0</td>\n",
       "      <td>210.0</td>\n",
       "      <td>210.0</td>\n",
       "      <td>3098699.0</td>\n",
       "      <td>7336.0</td>\n",
       "    </tr>\n",
       "    <tr>\n",
       "      <th>438</th>\n",
       "      <td>98.96</td>\n",
       "      <td>32.86</td>\n",
       "      <td>0.0</td>\n",
       "      <td>9.79</td>\n",
       "      <td>131.82</td>\n",
       "      <td>0.0</td>\n",
       "      <td>0.0</td>\n",
       "      <td>101.0</td>\n",
       "      <td>0.0</td>\n",
       "      <td>230.0</td>\n",
       "      <td>230.0</td>\n",
       "      <td>3105678.0</td>\n",
       "      <td>6979.0</td>\n",
       "    </tr>\n",
       "    <tr>\n",
       "      <th>439</th>\n",
       "      <td>86.92</td>\n",
       "      <td>32.11</td>\n",
       "      <td>0.0</td>\n",
       "      <td>11.71</td>\n",
       "      <td>119.03</td>\n",
       "      <td>44.0</td>\n",
       "      <td>0.0</td>\n",
       "      <td>89.0</td>\n",
       "      <td>0.0</td>\n",
       "      <td>220.0</td>\n",
       "      <td>220.0</td>\n",
       "      <td>3112064.0</td>\n",
       "      <td>6626.0</td>\n",
       "    </tr>\n",
       "    <tr>\n",
       "      <th>440</th>\n",
       "      <td>158.93</td>\n",
       "      <td>33.02</td>\n",
       "      <td>0.0</td>\n",
       "      <td>9.10</td>\n",
       "      <td>191.95</td>\n",
       "      <td>0.0</td>\n",
       "      <td>0.0</td>\n",
       "      <td>160.0</td>\n",
       "      <td>0.0</td>\n",
       "      <td>230.0</td>\n",
       "      <td>230.0</td>\n",
       "      <td>3119057.0</td>\n",
       "      <td>6993.0</td>\n",
       "    </tr>\n",
       "  </tbody>\n",
       "</table>\n",
       "</div>"
      ],
      "text/plain": [
       "     Kitchen_waste_  Fruit_and_vegetable_waste_  Bread_Paste_  Waste_oil_  \\\n",
       "436          150.03                       25.45           0.0        6.49   \n",
       "437          144.28                       49.36           0.0       10.04   \n",
       "438           98.96                       32.86           0.0        9.79   \n",
       "439           86.92                       32.11           0.0       11.71   \n",
       "440          158.93                       33.02           0.0        9.10   \n",
       "\n",
       "     Total_Waste_  Diesel_waste_water_  Flour_and_waste_oil_  \\\n",
       "436        175.48                 44.0                   0.0   \n",
       "437        193.64                 44.0                   0.0   \n",
       "438        131.82                  0.0                   0.0   \n",
       "439        119.03                 44.0                   0.0   \n",
       "440        191.95                  0.0                   0.0   \n",
       "\n",
       "     Kitchen_waste_paste_  acid_feed  acid_discharge  anaerobic_feed  \\\n",
       "436                 151.0        0.0           200.0           200.0   \n",
       "437                 145.0        0.0           210.0           210.0   \n",
       "438                 101.0        0.0           230.0           230.0   \n",
       "439                  89.0        0.0           220.0           220.0   \n",
       "440                 160.0        0.0           230.0           230.0   \n",
       "\n",
       "     anaerobic_cumuprod  anaerobic_dailyoutput  \n",
       "436           3091363.0                 7526.0  \n",
       "437           3098699.0                 7336.0  \n",
       "438           3105678.0                 6979.0  \n",
       "439           3112064.0                 6626.0  \n",
       "440           3119057.0                 6993.0  "
      ]
     },
     "execution_count": 37,
     "metadata": {},
     "output_type": "execute_result"
    }
   ],
   "source": [
    "shenzhen.acid_feed = shenzhen.acid_feed.shift(-15)\n",
    "shenzhen.acid_discharge = shenzhen.acid_discharge.shift(-15)\n",
    "shenzhen.anaerobic_feed = shenzhen.anaerobic_feed.shift(-15)\n",
    "shenzhen.anaerobic_cumuprod = shenzhen.anaerobic_cumuprod.shift(-15)\n",
    "shenzhen.anaerobic_dailyoutput = shenzhen.anaerobic_dailyoutput.shift(-15)\n",
    "shenzhen = shenzhen.drop(['Unnamed: 0'], axis=1)\n",
    "shenzhen = shenzhen[:-15]\n",
    "shenzhen.tail()"
   ]
  },
  {
   "cell_type": "markdown",
   "metadata": {},
   "source": [
    "Add a moving average column"
   ]
  },
  {
   "cell_type": "code",
   "execution_count": 38,
   "metadata": {
    "collapsed": true
   },
   "outputs": [],
   "source": [
    "shenzhen['daymean'] = np.nan"
   ]
  },
  {
   "cell_type": "code",
   "execution_count": 39,
   "metadata": {},
   "outputs": [
    {
     "data": {
      "text/html": [
       "<div>\n",
       "<style scoped>\n",
       "    .dataframe tbody tr th:only-of-type {\n",
       "        vertical-align: middle;\n",
       "    }\n",
       "\n",
       "    .dataframe tbody tr th {\n",
       "        vertical-align: top;\n",
       "    }\n",
       "\n",
       "    .dataframe thead th {\n",
       "        text-align: right;\n",
       "    }\n",
       "</style>\n",
       "<table border=\"1\" class=\"dataframe\">\n",
       "  <thead>\n",
       "    <tr style=\"text-align: right;\">\n",
       "      <th></th>\n",
       "      <th>Kitchen_waste_</th>\n",
       "      <th>Fruit_and_vegetable_waste_</th>\n",
       "      <th>Bread_Paste_</th>\n",
       "      <th>Waste_oil_</th>\n",
       "      <th>Total_Waste_</th>\n",
       "      <th>Diesel_waste_water_</th>\n",
       "      <th>Flour_and_waste_oil_</th>\n",
       "      <th>Kitchen_waste_paste_</th>\n",
       "      <th>acid_feed</th>\n",
       "      <th>acid_discharge</th>\n",
       "      <th>anaerobic_feed</th>\n",
       "      <th>anaerobic_cumuprod</th>\n",
       "      <th>anaerobic_dailyoutput</th>\n",
       "      <th>daymean</th>\n",
       "    </tr>\n",
       "  </thead>\n",
       "  <tbody>\n",
       "    <tr>\n",
       "      <th>0</th>\n",
       "      <td>92.03</td>\n",
       "      <td>0.0</td>\n",
       "      <td>7.95</td>\n",
       "      <td>13.54</td>\n",
       "      <td>99.98</td>\n",
       "      <td>54.0</td>\n",
       "      <td>17.0</td>\n",
       "      <td>167.0</td>\n",
       "      <td>135.0</td>\n",
       "      <td>200.0</td>\n",
       "      <td>200.0</td>\n",
       "      <td>464356.0</td>\n",
       "      <td>9295.0</td>\n",
       "      <td>NaN</td>\n",
       "    </tr>\n",
       "    <tr>\n",
       "      <th>1</th>\n",
       "      <td>78.43</td>\n",
       "      <td>0.0</td>\n",
       "      <td>13.30</td>\n",
       "      <td>16.10</td>\n",
       "      <td>91.73</td>\n",
       "      <td>36.0</td>\n",
       "      <td>8.0</td>\n",
       "      <td>100.0</td>\n",
       "      <td>91.0</td>\n",
       "      <td>155.0</td>\n",
       "      <td>155.0</td>\n",
       "      <td>472980.0</td>\n",
       "      <td>8624.0</td>\n",
       "      <td>NaN</td>\n",
       "    </tr>\n",
       "    <tr>\n",
       "      <th>2</th>\n",
       "      <td>81.84</td>\n",
       "      <td>0.0</td>\n",
       "      <td>8.35</td>\n",
       "      <td>6.60</td>\n",
       "      <td>90.19</td>\n",
       "      <td>22.0</td>\n",
       "      <td>34.0</td>\n",
       "      <td>120.0</td>\n",
       "      <td>50.0</td>\n",
       "      <td>160.0</td>\n",
       "      <td>160.0</td>\n",
       "      <td>481426.0</td>\n",
       "      <td>8446.0</td>\n",
       "      <td>NaN</td>\n",
       "    </tr>\n",
       "    <tr>\n",
       "      <th>3</th>\n",
       "      <td>81.05</td>\n",
       "      <td>0.0</td>\n",
       "      <td>9.10</td>\n",
       "      <td>17.48</td>\n",
       "      <td>90.15</td>\n",
       "      <td>22.0</td>\n",
       "      <td>20.0</td>\n",
       "      <td>92.0</td>\n",
       "      <td>95.0</td>\n",
       "      <td>150.0</td>\n",
       "      <td>150.0</td>\n",
       "      <td>490210.0</td>\n",
       "      <td>8784.0</td>\n",
       "      <td>NaN</td>\n",
       "    </tr>\n",
       "    <tr>\n",
       "      <th>4</th>\n",
       "      <td>36.86</td>\n",
       "      <td>0.0</td>\n",
       "      <td>9.40</td>\n",
       "      <td>12.47</td>\n",
       "      <td>46.26</td>\n",
       "      <td>44.0</td>\n",
       "      <td>35.0</td>\n",
       "      <td>122.0</td>\n",
       "      <td>9.0</td>\n",
       "      <td>150.0</td>\n",
       "      <td>150.0</td>\n",
       "      <td>497959.0</td>\n",
       "      <td>7749.0</td>\n",
       "      <td>NaN</td>\n",
       "    </tr>\n",
       "  </tbody>\n",
       "</table>\n",
       "</div>"
      ],
      "text/plain": [
       "   Kitchen_waste_  Fruit_and_vegetable_waste_  Bread_Paste_  Waste_oil_  \\\n",
       "0           92.03                         0.0          7.95       13.54   \n",
       "1           78.43                         0.0         13.30       16.10   \n",
       "2           81.84                         0.0          8.35        6.60   \n",
       "3           81.05                         0.0          9.10       17.48   \n",
       "4           36.86                         0.0          9.40       12.47   \n",
       "\n",
       "   Total_Waste_  Diesel_waste_water_  Flour_and_waste_oil_  \\\n",
       "0         99.98                 54.0                  17.0   \n",
       "1         91.73                 36.0                   8.0   \n",
       "2         90.19                 22.0                  34.0   \n",
       "3         90.15                 22.0                  20.0   \n",
       "4         46.26                 44.0                  35.0   \n",
       "\n",
       "   Kitchen_waste_paste_  acid_feed  acid_discharge  anaerobic_feed  \\\n",
       "0                 167.0      135.0           200.0           200.0   \n",
       "1                 100.0       91.0           155.0           155.0   \n",
       "2                 120.0       50.0           160.0           160.0   \n",
       "3                  92.0       95.0           150.0           150.0   \n",
       "4                 122.0        9.0           150.0           150.0   \n",
       "\n",
       "   anaerobic_cumuprod  anaerobic_dailyoutput  daymean  \n",
       "0            464356.0                 9295.0      NaN  \n",
       "1            472980.0                 8624.0      NaN  \n",
       "2            481426.0                 8446.0      NaN  \n",
       "3            490210.0                 8784.0      NaN  \n",
       "4            497959.0                 7749.0      NaN  "
      ]
     },
     "execution_count": 39,
     "metadata": {},
     "output_type": "execute_result"
    }
   ],
   "source": [
    "shenzhen.head()"
   ]
  },
  {
   "cell_type": "markdown",
   "metadata": {},
   "source": [
    "Iterate through the table and update the moving average accordingly"
   ]
  },
  {
   "cell_type": "code",
   "execution_count": 40,
   "metadata": {},
   "outputs": [],
   "source": [
    "for index, row in shenzhen.iterrows():\n",
    "    if index == 0:\n",
    "        shenzhen.daymean[index] = shenzhen.anaerobic_dailyoutput[index]\n",
    "    elif index == 1:\n",
    "        shenzhen.daymean[index] = shenzhen.anaerobic_dailyoutput[index]\n",
    "    elif index == 2:\n",
    "        shenzhen.daymean[index] = shenzhen.anaerobic_dailyoutput[index]    \n",
    "    else:\n",
    "        shenzhen.daymean[index] = (shenzhen.daymean[index-1] + shenzhen.daymean[index-2] +\\\n",
    "                                   shenzhen.daymean[index-3])/3"
   ]
  },
  {
   "cell_type": "code",
   "execution_count": 41,
   "metadata": {},
   "outputs": [
    {
     "data": {
      "text/html": [
       "<div>\n",
       "<style scoped>\n",
       "    .dataframe tbody tr th:only-of-type {\n",
       "        vertical-align: middle;\n",
       "    }\n",
       "\n",
       "    .dataframe tbody tr th {\n",
       "        vertical-align: top;\n",
       "    }\n",
       "\n",
       "    .dataframe thead th {\n",
       "        text-align: right;\n",
       "    }\n",
       "</style>\n",
       "<table border=\"1\" class=\"dataframe\">\n",
       "  <thead>\n",
       "    <tr style=\"text-align: right;\">\n",
       "      <th></th>\n",
       "      <th>Kitchen_waste_</th>\n",
       "      <th>Fruit_and_vegetable_waste_</th>\n",
       "      <th>Bread_Paste_</th>\n",
       "      <th>Waste_oil_</th>\n",
       "      <th>Total_Waste_</th>\n",
       "      <th>Diesel_waste_water_</th>\n",
       "      <th>Flour_and_waste_oil_</th>\n",
       "      <th>Kitchen_waste_paste_</th>\n",
       "      <th>acid_feed</th>\n",
       "      <th>acid_discharge</th>\n",
       "      <th>anaerobic_feed</th>\n",
       "      <th>anaerobic_cumuprod</th>\n",
       "      <th>anaerobic_dailyoutput</th>\n",
       "      <th>daymean</th>\n",
       "    </tr>\n",
       "  </thead>\n",
       "  <tbody>\n",
       "    <tr>\n",
       "      <th>0</th>\n",
       "      <td>92.03</td>\n",
       "      <td>0.0</td>\n",
       "      <td>7.95</td>\n",
       "      <td>13.54</td>\n",
       "      <td>99.98</td>\n",
       "      <td>54.0</td>\n",
       "      <td>17.0</td>\n",
       "      <td>167.0</td>\n",
       "      <td>135.0</td>\n",
       "      <td>200.0</td>\n",
       "      <td>200.0</td>\n",
       "      <td>464356.0</td>\n",
       "      <td>9295.0</td>\n",
       "      <td>9295.000000</td>\n",
       "    </tr>\n",
       "    <tr>\n",
       "      <th>1</th>\n",
       "      <td>78.43</td>\n",
       "      <td>0.0</td>\n",
       "      <td>13.30</td>\n",
       "      <td>16.10</td>\n",
       "      <td>91.73</td>\n",
       "      <td>36.0</td>\n",
       "      <td>8.0</td>\n",
       "      <td>100.0</td>\n",
       "      <td>91.0</td>\n",
       "      <td>155.0</td>\n",
       "      <td>155.0</td>\n",
       "      <td>472980.0</td>\n",
       "      <td>8624.0</td>\n",
       "      <td>8624.000000</td>\n",
       "    </tr>\n",
       "    <tr>\n",
       "      <th>2</th>\n",
       "      <td>81.84</td>\n",
       "      <td>0.0</td>\n",
       "      <td>8.35</td>\n",
       "      <td>6.60</td>\n",
       "      <td>90.19</td>\n",
       "      <td>22.0</td>\n",
       "      <td>34.0</td>\n",
       "      <td>120.0</td>\n",
       "      <td>50.0</td>\n",
       "      <td>160.0</td>\n",
       "      <td>160.0</td>\n",
       "      <td>481426.0</td>\n",
       "      <td>8446.0</td>\n",
       "      <td>8446.000000</td>\n",
       "    </tr>\n",
       "    <tr>\n",
       "      <th>3</th>\n",
       "      <td>81.05</td>\n",
       "      <td>0.0</td>\n",
       "      <td>9.10</td>\n",
       "      <td>17.48</td>\n",
       "      <td>90.15</td>\n",
       "      <td>22.0</td>\n",
       "      <td>20.0</td>\n",
       "      <td>92.0</td>\n",
       "      <td>95.0</td>\n",
       "      <td>150.0</td>\n",
       "      <td>150.0</td>\n",
       "      <td>490210.0</td>\n",
       "      <td>8784.0</td>\n",
       "      <td>8788.333333</td>\n",
       "    </tr>\n",
       "    <tr>\n",
       "      <th>4</th>\n",
       "      <td>36.86</td>\n",
       "      <td>0.0</td>\n",
       "      <td>9.40</td>\n",
       "      <td>12.47</td>\n",
       "      <td>46.26</td>\n",
       "      <td>44.0</td>\n",
       "      <td>35.0</td>\n",
       "      <td>122.0</td>\n",
       "      <td>9.0</td>\n",
       "      <td>150.0</td>\n",
       "      <td>150.0</td>\n",
       "      <td>497959.0</td>\n",
       "      <td>7749.0</td>\n",
       "      <td>8619.444444</td>\n",
       "    </tr>\n",
       "  </tbody>\n",
       "</table>\n",
       "</div>"
      ],
      "text/plain": [
       "   Kitchen_waste_  Fruit_and_vegetable_waste_  Bread_Paste_  Waste_oil_  \\\n",
       "0           92.03                         0.0          7.95       13.54   \n",
       "1           78.43                         0.0         13.30       16.10   \n",
       "2           81.84                         0.0          8.35        6.60   \n",
       "3           81.05                         0.0          9.10       17.48   \n",
       "4           36.86                         0.0          9.40       12.47   \n",
       "\n",
       "   Total_Waste_  Diesel_waste_water_  Flour_and_waste_oil_  \\\n",
       "0         99.98                 54.0                  17.0   \n",
       "1         91.73                 36.0                   8.0   \n",
       "2         90.19                 22.0                  34.0   \n",
       "3         90.15                 22.0                  20.0   \n",
       "4         46.26                 44.0                  35.0   \n",
       "\n",
       "   Kitchen_waste_paste_  acid_feed  acid_discharge  anaerobic_feed  \\\n",
       "0                 167.0      135.0           200.0           200.0   \n",
       "1                 100.0       91.0           155.0           155.0   \n",
       "2                 120.0       50.0           160.0           160.0   \n",
       "3                  92.0       95.0           150.0           150.0   \n",
       "4                 122.0        9.0           150.0           150.0   \n",
       "\n",
       "   anaerobic_cumuprod  anaerobic_dailyoutput      daymean  \n",
       "0            464356.0                 9295.0  9295.000000  \n",
       "1            472980.0                 8624.0  8624.000000  \n",
       "2            481426.0                 8446.0  8446.000000  \n",
       "3            490210.0                 8784.0  8788.333333  \n",
       "4            497959.0                 7749.0  8619.444444  "
      ]
     },
     "execution_count": 41,
     "metadata": {},
     "output_type": "execute_result"
    }
   ],
   "source": [
    "shenzhen.head()"
   ]
  },
  {
   "cell_type": "markdown",
   "metadata": {},
   "source": [
    "Bin the output"
   ]
  },
  {
   "cell_type": "code",
   "execution_count": 42,
   "metadata": {
    "collapsed": true
   },
   "outputs": [],
   "source": [
    "shenzhen.anaerobic_dailyoutput = pd.cut(shenzhen['anaerobic_dailyoutput'], bins=3)\n",
    "shenzhen.anaerobic_dailyoutput = pd.factorize(shenzhen.anaerobic_dailyoutput)[0]"
   ]
  },
  {
   "cell_type": "markdown",
   "metadata": {},
   "source": [
    "Perform the feature engineering from before"
   ]
  },
  {
   "cell_type": "code",
   "execution_count": 43,
   "metadata": {},
   "outputs": [],
   "source": [
    "for col in shenzhen.columns[:10]:\n",
    "    shenzhen['1/'+col] = 1/(shenzhen[col])\n",
    "for col in shenzhen.columns[:10]:\n",
    "    shenzhen[col+\"**2\"] = (shenzhen[col])**2\n",
    "for col in shenzhen.columns[:10]:\n",
    "    shenzhen[col+\"log\"] = np.log(shenzhen[col])"
   ]
  },
  {
   "cell_type": "markdown",
   "metadata": {},
   "source": [
    "Remove invalid values"
   ]
  },
  {
   "cell_type": "code",
   "execution_count": 44,
   "metadata": {
    "collapsed": true
   },
   "outputs": [],
   "source": [
    "shenzhen.replace(float('inf'), 0, inplace=True)\n",
    "shenzhen.replace(float('-inf'), 0, inplace=True);"
   ]
  },
  {
   "cell_type": "code",
   "execution_count": 45,
   "metadata": {},
   "outputs": [],
   "source": [
    "shenzhen_train, shenzhen_test = train_test_split(shenzhen, test_size=0.15)"
   ]
  },
  {
   "cell_type": "code",
   "execution_count": 46,
   "metadata": {
    "collapsed": true
   },
   "outputs": [],
   "source": [
    "DAYMEAN_COLUMNS = [ 'Kitchen_waste_', 'Fruit_and_vegetable_waste_', 'Bread_Paste_',\\\n",
    "                     'Waste_oil_', 'Total_Waste_', 'Diesel_waste_water_',\\\n",
    "                     'Flour_and_waste_oil_', 'Kitchen_waste_paste_', 'acid_feed',\\\n",
    "                     'acid_discharge','daymean','1/Kitchen_waste_', '1/Fruit_and_vegetable_waste_',\\\n",
    "                     '1/Bread_Paste_', '1/Waste_oil_', '1/Total_Waste_',\\\n",
    "                     '1/Diesel_waste_water_', '1/Flour_and_waste_oil_',\\\n",
    "                     '1/Kitchen_waste_paste_', '1/acid_feed', '1/acid_discharge',\\\n",
    "                     'Kitchen_waste_**2', 'Fruit_and_vegetable_waste_**2', \\\n",
    "                     'Bread_Paste_**2','Waste_oil_**2', 'Total_Waste_**2', \\\n",
    "                     'Diesel_waste_water_**2','Flour_and_waste_oil_**2', \\\n",
    "                     'Kitchen_waste_paste_**2', 'acid_feed**2','acid_discharge**2',\\\n",
    "                     'Kitchen_waste_log','Fruit_and_vegetable_waste_log', \\\n",
    "                     'Bread_Paste_log', 'Waste_oil_log','Total_Waste_log', \\\n",
    "                     'Diesel_waste_water_log', 'Flour_and_waste_oil_log',\\\n",
    "                     'Kitchen_waste_paste_log', 'acid_feedlog', 'acid_dischargelog' ]\n",
    "X_train = shenzhen_train[DAYMEAN_COLUMNS]\n",
    "y_train = shenzhen_train.anaerobic_dailyoutput\n",
    "X_test = shenzhen_test[DAYMEAN_COLUMNS]\n",
    "y_test = shenzhen_test.anaerobic_dailyoutput"
   ]
  },
  {
   "cell_type": "markdown",
   "metadata": {},
   "source": [
    "Run vanilla XGBoost"
   ]
  },
  {
   "cell_type": "code",
   "execution_count": 47,
   "metadata": {},
   "outputs": [
    {
     "name": "stdout",
     "output_type": "stream",
     "text": [
      "Accuracy of XGboost on train set: 0.91\n",
      "Accuracy of XGboost on test set: 0.60\n",
      "Confusion matrix:\n",
      "[[ 0  8  1]\n",
      " [ 0 35 10]\n",
      " [ 0  8  5]]\n"
     ]
    }
   ],
   "source": [
    "run_vanilla_xgb(X_train, y_train, X_test, y_test)"
   ]
  },
  {
   "cell_type": "markdown",
   "metadata": {},
   "source": [
    "Run tuned XGBoost"
   ]
  },
  {
   "cell_type": "code",
   "execution_count": 48,
   "metadata": {},
   "outputs": [
    {
     "name": "stdout",
     "output_type": "stream",
     "text": [
      "Accuracy of XGboost on training set: 0.83\n",
      "Accuracy of XGboost on test set: 0.63\n",
      "Confusion matrix:\n",
      "[[ 2  6  1]\n",
      " [ 1 35  9]\n",
      " [ 0  8  5]]\n"
     ]
    }
   ],
   "source": [
    "run_parameterized_xgb(X_train, y_train, X_test, y_test)"
   ]
  },
  {
   "cell_type": "markdown",
   "metadata": {},
   "source": [
    "# Other models"
   ]
  },
  {
   "cell_type": "markdown",
   "metadata": {},
   "source": [
    "### Logistic Regression"
   ]
  },
  {
   "cell_type": "code",
   "execution_count": 49,
   "metadata": {},
   "outputs": [
    {
     "name": "stdout",
     "output_type": "stream",
     "text": [
      "Accuracy of logistic regression classifier on training set: 0.63\n",
      "Accuracy of logistic regression classifier on test set: 0.61\n",
      "Confusion matrix:\n",
      "[[ 1  7  1]\n",
      " [ 0 35 10]\n",
      " [ 0  8  5]]\n"
     ]
    }
   ],
   "source": [
    "logreg = LogisticRegression()\n",
    "logreg.fit(X_train, y_train)\n",
    "y_pred_test = logreg.predict(X_test)\n",
    "\n",
    "print('Accuracy of logistic regression classifier on training set: {:.2f}'.format(logreg.score(X_train, y_train)))\n",
    "print('Accuracy of logistic regression classifier on test set: {:.2f}'.format(logreg.score(X_test, y_test)))\n",
    "print('Confusion matrix:') \n",
    "print(confusion_matrix(y_test, y_pred_test))"
   ]
  },
  {
   "cell_type": "markdown",
   "metadata": {},
   "source": [
    "### SVM"
   ]
  },
  {
   "cell_type": "code",
   "execution_count": 50,
   "metadata": {},
   "outputs": [
    {
     "name": "stdout",
     "output_type": "stream",
     "text": [
      "Accuracy of SVM on training set: 1.00\n",
      "Accuracy of SVM on test set: 0.67\n"
     ]
    }
   ],
   "source": [
    "clf = svm.SVC()\n",
    "clf.fit(X_train, y_train)  \n",
    "y_pred_test = clf.predict(X_test)\n",
    "\n",
    "print('Accuracy of SVM on training set: {:.2f}'.format(clf.score(X_train, y_train)))\n",
    "print('Accuracy of SVM on test set: {:.2f}'.format(clf.score(X_test, y_test)))"
   ]
  },
  {
   "cell_type": "markdown",
   "metadata": {},
   "source": [
    "### Random forest"
   ]
  },
  {
   "cell_type": "code",
   "execution_count": 51,
   "metadata": {},
   "outputs": [
    {
     "name": "stdout",
     "output_type": "stream",
     "text": [
      "Accuracy of Random Forest on training set: 1.00\n",
      "Accuracy of Random Forest on test set: 0.61\n"
     ]
    }
   ],
   "source": [
    "random_forest = RandomForestClassifier(n_estimators=50)\n",
    "random_forest.fit(X_train, y_train)\n",
    "\n",
    "print('Accuracy of Random Forest on training set: {:.2f}'.format(random_forest.score(X_train, y_train)))\n",
    "print('Accuracy of Random Forest on test set: {:.2f}'.format(random_forest.score(X_test, y_test)))"
   ]
  },
  {
   "cell_type": "markdown",
   "metadata": {},
   "source": [
    "Analyze feature importance using random forest"
   ]
  },
  {
   "cell_type": "code",
   "execution_count": 52,
   "metadata": {},
   "outputs": [
    {
     "data": {
      "image/png": "[encoded data removed]",
      "text/plain": [
       "<matplotlib.figure.Figure at 0x101a345f8>"
      ]
     },
     "metadata": {},
     "output_type": "display_data"
    }
   ],
   "source": [
    "importances = random_forest.feature_importances_\n",
    "std = np.std([tree.feature_importances_ for tree in random_forest.estimators_], axis=0)\n",
    "indices = np.argsort(importances)\n",
    "\n",
    "# Plot the feature importances of the forest\n",
    "plt.figure()\n",
    "plt.title(\"Feature importances\")\n",
    "plt.barh(range(X_train.shape[1]), importances[indices],\n",
    "         color=\"r\", xerr=std[indices], align=\"center\")\n",
    "plt.yticks(range(X_train.shape[1]), indices)\n",
    "plt.ylim([-1, X_train.shape[1]])\n",
    "plt.show()"
   ]
  }
 ],
 "metadata": {
  "kernelspec": {
   "display_name": "Python 3",
   "language": "python",
   "name": "python3"
  },
  "language_info": {
   "codemirror_mode": {
    "name": "ipython",
    "version": 3
   },
   "file_extension": ".py",
   "mimetype": "text/x-python",
   "name": "python",
   "nbconvert_exporter": "python",
   "pygments_lexer": "ipython3",
   "version": "3.6.4"
  }
 },
 "nbformat": 4,
 "nbformat_minor": 2
}
