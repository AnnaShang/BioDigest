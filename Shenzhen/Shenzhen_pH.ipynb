{
 "cells": [
  {
   "cell_type": "code",
   "execution_count": 2,
   "metadata": {
    "collapsed": true
   },
   "outputs": [],
   "source": [
    "import pandas as pd\n",
    "import numpy as np\n",
    "from sklearn.ensemble import RandomForestRegressor\n",
    "from sklearn.model_selection import train_test_split\n",
    "from sklearn.metrics import accuracy_score\n",
    "from sklearn.linear_model import LinearRegression"
   ]
  },
  {
   "cell_type": "code",
   "execution_count": 3,
   "metadata": {
    "collapsed": true
   },
   "outputs": [],
   "source": [
    "df_ph=pd.read_csv('Shenzhen_clean.csv')"
   ]
  },
  {
   "cell_type": "code",
   "execution_count": 4,
   "metadata": {},
   "outputs": [
    {
     "data": {
      "text/plain": [
       "Index(['Year', 'Month', 'Day', 'Month #', 'Day #', 'Week#',\n",
       "       'Kitchen waste (t)', 'Fruit and vegetable waste (t)', 'Bread Paste (t)',\n",
       "       'Waste oil (t)', 'Total Waste (t)', 'Daily landfilled amount (t)',\n",
       "       'Diesel waste water (m³)', 'Flour and waste oil (m³)',\n",
       "       'Kitchen waste paste (m³)', 'Daily water consumption (m³)',\n",
       "       'Daily electricity consumption (kWh)', 'Insect medium with pulp (m³)',\n",
       "       '#1 acidification hydrolysis tank feed (m³)',\n",
       "       '#1 acidification hydrolysis tank discharge (m³)',\n",
       "       '#2 acidification hydrolysis tank feed (m³)',\n",
       "       '#2 acidification hydrolysis tank discharge (m³)',\n",
       "       '#1 Anaerobic tank slurry feed (m³)',\n",
       "       '#1 Anaerobic tank biogas cumulative production (m³)',\n",
       "       '#1 anaerobic tank biogas daily output (m³)',\n",
       "       '#2 Anaerobic tank slurry feed (m³)',\n",
       "       '#2 anaerobic tank biogas cumulative production (m³)',\n",
       "       '#2 anaerobic tank biogas daily output (m³)',\n",
       "       'Daily water consumption (m³)2', 'Daily electricity consumption (kWh)2',\n",
       "       'Boiler cumulative gas consumption (m³)',\n",
       "       'Boiler daily gas consumption (m³)', 'Total Biogas Production',\n",
       "       'Torch burning time (min)', 'Amount of flocculant (kg)',\n",
       "       'Water treatment amount (m³)', 'Digestate production (t) ',\n",
       "       'Daily electricity consumption (kWh)3',\n",
       "       'Water treatment capacity (m³)2', 'Emissions (m³)',\n",
       "       'Dissolved Oxygen in Oxygen Pool (mg/L)',\n",
       "       '#1 Contact Oxidation Cell Dissolved Oxygen (mg/L)',\n",
       "       '#2 Contact Oxidation Cell Dissolved Oxygen (mg/L)',\n",
       "       '#3 Contact Oxidation Cell Dissolved Oxygen (mg/L)',\n",
       "       'Daily electricity consumption (kWh)4', 'Circulating liquid PH value',\n",
       "       'Maximum tower temperature (℃)', 'Minimum tower temperature (℃)',\n",
       "       'Air intake H2S content (PPM)', 'Exhaust H2S content (PPM)',\n",
       "       'Daily water consumption (m³)3', 'TotalElecCons', 'TotalWaterCons'],\n",
       "      dtype='object')"
      ]
     },
     "execution_count": 4,
     "metadata": {},
     "output_type": "execute_result"
    }
   ],
   "source": [
    "df_ph.columns"
   ]
  },
  {
   "cell_type": "code",
   "execution_count": 5,
   "metadata": {
    "collapsed": true
   },
   "outputs": [],
   "source": [
    "df_ph=df_ph[['Circulating liquid PH value','#1 anaerobic tank biogas daily output (m³)','#2 anaerobic tank biogas daily output (m³)']]"
   ]
  },
  {
   "cell_type": "code",
   "execution_count": 6,
   "metadata": {
    "collapsed": true
   },
   "outputs": [],
   "source": [
    "df_ph.columns=['PH','1_daily_output','2_daily_output']"
   ]
  },
  {
   "cell_type": "code",
   "execution_count": 7,
   "metadata": {},
   "outputs": [
    {
     "data": {
      "text/html": [
       "<div>\n",
       "<style>\n",
       "    .dataframe thead tr:only-child th {\n",
       "        text-align: right;\n",
       "    }\n",
       "\n",
       "    .dataframe thead th {\n",
       "        text-align: left;\n",
       "    }\n",
       "\n",
       "    .dataframe tbody tr th {\n",
       "        vertical-align: top;\n",
       "    }\n",
       "</style>\n",
       "<table border=\"1\" class=\"dataframe\">\n",
       "  <thead>\n",
       "    <tr style=\"text-align: right;\">\n",
       "      <th></th>\n",
       "      <th>PH</th>\n",
       "      <th>1_daily_output</th>\n",
       "      <th>2_daily_output</th>\n",
       "    </tr>\n",
       "  </thead>\n",
       "  <tbody>\n",
       "    <tr>\n",
       "      <th>0</th>\n",
       "      <td>0.0</td>\n",
       "      <td>3288.0</td>\n",
       "      <td>4631.0</td>\n",
       "    </tr>\n",
       "    <tr>\n",
       "      <th>1</th>\n",
       "      <td>0.0</td>\n",
       "      <td>2008.0</td>\n",
       "      <td>693.0</td>\n",
       "    </tr>\n",
       "    <tr>\n",
       "      <th>2</th>\n",
       "      <td>0.0</td>\n",
       "      <td>5623.0</td>\n",
       "      <td>4584.0</td>\n",
       "    </tr>\n",
       "    <tr>\n",
       "      <th>3</th>\n",
       "      <td>0.0</td>\n",
       "      <td>5479.0</td>\n",
       "      <td>5103.0</td>\n",
       "    </tr>\n",
       "    <tr>\n",
       "      <th>4</th>\n",
       "      <td>0.0</td>\n",
       "      <td>4405.0</td>\n",
       "      <td>4623.0</td>\n",
       "    </tr>\n",
       "  </tbody>\n",
       "</table>\n",
       "</div>"
      ],
      "text/plain": [
       "    PH  1_daily_output  2_daily_output\n",
       "0  0.0          3288.0          4631.0\n",
       "1  0.0          2008.0           693.0\n",
       "2  0.0          5623.0          4584.0\n",
       "3  0.0          5479.0          5103.0\n",
       "4  0.0          4405.0          4623.0"
      ]
     },
     "execution_count": 7,
     "metadata": {},
     "output_type": "execute_result"
    }
   ],
   "source": [
    "df_ph.head()"
   ]
  },
  {
   "cell_type": "code",
   "execution_count": 8,
   "metadata": {
    "collapsed": true
   },
   "outputs": [],
   "source": [
    "df_ph['PH'] = df_ph.loc[(df_ph['PH'] != 0), :]"
   ]
  },
  {
   "cell_type": "code",
   "execution_count": 9,
   "metadata": {
    "collapsed": true
   },
   "outputs": [],
   "source": [
    "df_ph=df_ph.dropna()"
   ]
  },
  {
   "cell_type": "code",
   "execution_count": 10,
   "metadata": {},
   "outputs": [],
   "source": [
    "df_ph['dailyoutput']=df_ph['1_daily_output']+df_ph['2_daily_output']"
   ]
  },
  {
   "cell_type": "code",
   "execution_count": 12,
   "metadata": {
    "collapsed": true
   },
   "outputs": [],
   "source": [
    "import matplotlib.pyplot as plt"
   ]
  },
  {
   "cell_type": "code",
   "execution_count": 18,
   "metadata": {},
   "outputs": [
    {
     "data": {
      "image/png": "[encoded data removed]",
      "text/plain": [
       "<matplotlib.figure.Figure at 0x1fefa5d71d0>"
      ]
     },
     "metadata": {},
     "output_type": "display_data"
    }
   ],
   "source": [
    "plt.plot(df_ph.PH, df_ph.dailyoutput)\n",
    "plt.show()"
   ]
  },
  {
   "cell_type": "code",
   "execution_count": null,
   "metadata": {
    "collapsed": true
   },
   "outputs": [],
   "source": []
  }
 ],
 "metadata": {
  "kernelspec": {
   "display_name": "Python 3",
   "language": "python",
   "name": "python3"
  },
  "language_info": {
   "codemirror_mode": {
    "name": "ipython",
    "version": 3
   },
   "file_extension": ".py",
   "mimetype": "text/x-python",
   "name": "python",
   "nbconvert_exporter": "python",
   "pygments_lexer": "ipython3",
   "version": "3.6.3"
  }
 },
 "nbformat": 4,
 "nbformat_minor": 2
}
