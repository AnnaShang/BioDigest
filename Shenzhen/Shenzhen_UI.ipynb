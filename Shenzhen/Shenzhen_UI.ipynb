{
 "cells": [
  {
   "cell_type": "code",
   "execution_count": 1,
   "metadata": {},
   "outputs": [
    {
     "name": "stderr",
     "output_type": "stream",
     "text": [
      "/usr/local/miniconda3/envs/datax/lib/python3.6/site-packages/sklearn/cross_validation.py:41: DeprecationWarning: This module was deprecated in version 0.18 in favor of the model_selection module into which all the refactored classes and functions are moved. Also note that the interface of the new CV iterators are different from that of this module. This module will be removed in 0.20.\n",
      "  \"This module will be removed in 0.20.\", DeprecationWarning)\n"
     ]
    }
   ],
   "source": [
    "import pandas as pd\n",
    "import numpy as np\n",
    "from sklearn.model_selection import train_test_split\n",
    "from sklearn.ensemble import RandomForestClassifier\n",
    "from xgboost import XGBClassifier\n",
    "import warnings\n",
    "\n",
    "warnings.filterwarnings('ignore') # Suppress warnings"
   ]
  },
  {
   "cell_type": "markdown",
   "metadata": {},
   "source": [
    "# Data Cleaning"
   ]
  },
  {
   "cell_type": "markdown",
   "metadata": {},
   "source": [
    "Consolidate some columns"
   ]
  },
  {
   "cell_type": "code",
   "execution_count": 2,
   "metadata": {},
   "outputs": [],
   "source": [
    "shenzhen = pd.read_csv(\"Data/shenzhen_cleaned_data.csv\")\n",
    "shenzhen['acid_feed'] = shenzhen['1_acidification_hydrolysis_tank_feed_'] \\\n",
    "                                             + shenzhen['2_acidification_hydrolysis_tank_feed_']\n",
    "shenzhen['acid_discharge']  = shenzhen['1_acidification_hydrolysis_tank_discharge_']\\\n",
    "                                             + shenzhen['2_acidification_hydrolysis_tank_discharge_']\n",
    "shenzhen['anaerobic_feed'] = shenzhen['1_Anaerobic_tank_slurry_feed_'] \\\n",
    "                                             + shenzhen['2_Anaerobic_tank_slurry_feed_']\n",
    "shenzhen['anaerobic_cumuprod'] = shenzhen['1_Anaerobic_tank_biogas_cumulative_production_'] \\\n",
    "                                             + shenzhen['2_anaerobic_tank_biogas_cumulative_production_']\n",
    "shenzhen['anaerobic_dailyoutput'] = shenzhen['1_anaerobic_tank_biogas_daily_output_'] \\\n",
    "                                             + shenzhen['2_anaerobic_tank_biogas_daily_output_']\n",
    "shenzhen = shenzhen.drop(['1_acidification_hydrolysis_tank_feed_','2_acidification_hydrolysis_tank_feed_',\\\n",
    "               '1_acidification_hydrolysis_tank_discharge_','2_acidification_hydrolysis_tank_discharge_',\\\n",
    "               '1_Anaerobic_tank_slurry_feed_','2_Anaerobic_tank_slurry_feed_',\\\n",
    "               '1_Anaerobic_tank_biogas_cumulative_production_','2_anaerobic_tank_biogas_cumulative_production_',\\\n",
    "               '1_anaerobic_tank_biogas_daily_output_','2_anaerobic_tank_biogas_daily_output_'],axis = 1)"
   ]
  },
  {
   "cell_type": "markdown",
   "metadata": {},
   "source": [
    "Shift rows up to account for production delay"
   ]
  },
  {
   "cell_type": "code",
   "execution_count": 3,
   "metadata": {},
   "outputs": [
    {
     "data": {
      "text/html": [
       "<div>\n",
       "<style scoped>\n",
       "    .dataframe tbody tr th:only-of-type {\n",
       "        vertical-align: middle;\n",
       "    }\n",
       "\n",
       "    .dataframe tbody tr th {\n",
       "        vertical-align: top;\n",
       "    }\n",
       "\n",
       "    .dataframe thead th {\n",
       "        text-align: right;\n",
       "    }\n",
       "</style>\n",
       "<table border=\"1\" class=\"dataframe\">\n",
       "  <thead>\n",
       "    <tr style=\"text-align: right;\">\n",
       "      <th></th>\n",
       "      <th>Kitchen_waste_</th>\n",
       "      <th>Fruit_and_vegetable_waste_</th>\n",
       "      <th>Bread_Paste_</th>\n",
       "      <th>Waste_oil_</th>\n",
       "      <th>Total_Waste_</th>\n",
       "      <th>Diesel_waste_water_</th>\n",
       "      <th>Flour_and_waste_oil_</th>\n",
       "      <th>Kitchen_waste_paste_</th>\n",
       "      <th>acid_feed</th>\n",
       "      <th>acid_discharge</th>\n",
       "      <th>anaerobic_feed</th>\n",
       "      <th>anaerobic_cumuprod</th>\n",
       "      <th>anaerobic_dailyoutput</th>\n",
       "    </tr>\n",
       "  </thead>\n",
       "  <tbody>\n",
       "    <tr>\n",
       "      <th>0</th>\n",
       "      <td>92.03</td>\n",
       "      <td>0.0</td>\n",
       "      <td>7.95</td>\n",
       "      <td>13.54</td>\n",
       "      <td>99.98</td>\n",
       "      <td>54.0</td>\n",
       "      <td>17.0</td>\n",
       "      <td>167.0</td>\n",
       "      <td>135.0</td>\n",
       "      <td>200.0</td>\n",
       "      <td>200.0</td>\n",
       "      <td>464356.0</td>\n",
       "      <td>9295.0</td>\n",
       "    </tr>\n",
       "    <tr>\n",
       "      <th>1</th>\n",
       "      <td>78.43</td>\n",
       "      <td>0.0</td>\n",
       "      <td>13.30</td>\n",
       "      <td>16.10</td>\n",
       "      <td>91.73</td>\n",
       "      <td>36.0</td>\n",
       "      <td>8.0</td>\n",
       "      <td>100.0</td>\n",
       "      <td>91.0</td>\n",
       "      <td>155.0</td>\n",
       "      <td>155.0</td>\n",
       "      <td>472980.0</td>\n",
       "      <td>8624.0</td>\n",
       "    </tr>\n",
       "    <tr>\n",
       "      <th>2</th>\n",
       "      <td>81.84</td>\n",
       "      <td>0.0</td>\n",
       "      <td>8.35</td>\n",
       "      <td>6.60</td>\n",
       "      <td>90.19</td>\n",
       "      <td>22.0</td>\n",
       "      <td>34.0</td>\n",
       "      <td>120.0</td>\n",
       "      <td>50.0</td>\n",
       "      <td>160.0</td>\n",
       "      <td>160.0</td>\n",
       "      <td>481426.0</td>\n",
       "      <td>8446.0</td>\n",
       "    </tr>\n",
       "    <tr>\n",
       "      <th>3</th>\n",
       "      <td>81.05</td>\n",
       "      <td>0.0</td>\n",
       "      <td>9.10</td>\n",
       "      <td>17.48</td>\n",
       "      <td>90.15</td>\n",
       "      <td>22.0</td>\n",
       "      <td>20.0</td>\n",
       "      <td>92.0</td>\n",
       "      <td>95.0</td>\n",
       "      <td>150.0</td>\n",
       "      <td>150.0</td>\n",
       "      <td>490210.0</td>\n",
       "      <td>8784.0</td>\n",
       "    </tr>\n",
       "    <tr>\n",
       "      <th>4</th>\n",
       "      <td>36.86</td>\n",
       "      <td>0.0</td>\n",
       "      <td>9.40</td>\n",
       "      <td>12.47</td>\n",
       "      <td>46.26</td>\n",
       "      <td>44.0</td>\n",
       "      <td>35.0</td>\n",
       "      <td>122.0</td>\n",
       "      <td>9.0</td>\n",
       "      <td>150.0</td>\n",
       "      <td>150.0</td>\n",
       "      <td>497959.0</td>\n",
       "      <td>7749.0</td>\n",
       "    </tr>\n",
       "  </tbody>\n",
       "</table>\n",
       "</div>"
      ],
      "text/plain": [
       "   Kitchen_waste_  Fruit_and_vegetable_waste_  Bread_Paste_  Waste_oil_  \\\n",
       "0           92.03                         0.0          7.95       13.54   \n",
       "1           78.43                         0.0         13.30       16.10   \n",
       "2           81.84                         0.0          8.35        6.60   \n",
       "3           81.05                         0.0          9.10       17.48   \n",
       "4           36.86                         0.0          9.40       12.47   \n",
       "\n",
       "   Total_Waste_  Diesel_waste_water_  Flour_and_waste_oil_  \\\n",
       "0         99.98                 54.0                  17.0   \n",
       "1         91.73                 36.0                   8.0   \n",
       "2         90.19                 22.0                  34.0   \n",
       "3         90.15                 22.0                  20.0   \n",
       "4         46.26                 44.0                  35.0   \n",
       "\n",
       "   Kitchen_waste_paste_  acid_feed  acid_discharge  anaerobic_feed  \\\n",
       "0                 167.0      135.0           200.0           200.0   \n",
       "1                 100.0       91.0           155.0           155.0   \n",
       "2                 120.0       50.0           160.0           160.0   \n",
       "3                  92.0       95.0           150.0           150.0   \n",
       "4                 122.0        9.0           150.0           150.0   \n",
       "\n",
       "   anaerobic_cumuprod  anaerobic_dailyoutput  \n",
       "0            464356.0                 9295.0  \n",
       "1            472980.0                 8624.0  \n",
       "2            481426.0                 8446.0  \n",
       "3            490210.0                 8784.0  \n",
       "4            497959.0                 7749.0  "
      ]
     },
     "execution_count": 3,
     "metadata": {},
     "output_type": "execute_result"
    }
   ],
   "source": [
    "shenzhen.acid_feed = shenzhen.acid_feed.shift(-15)\n",
    "shenzhen.acid_discharge = shenzhen.acid_discharge.shift(-15)\n",
    "shenzhen.anaerobic_feed = shenzhen.anaerobic_feed.shift(-15)\n",
    "shenzhen.anaerobic_cumuprod = shenzhen.anaerobic_cumuprod.shift(-15)\n",
    "shenzhen.anaerobic_dailyoutput = shenzhen.anaerobic_dailyoutput.shift(-15)\n",
    "shenzhen = shenzhen.drop(['Unnamed: 0'], axis=1)\n",
    "shenzhen = shenzhen[:-15]\n",
    "shenzhen.head()"
   ]
  },
  {
   "cell_type": "markdown",
   "metadata": {},
   "source": [
    "# Preliminary Work"
   ]
  },
  {
   "cell_type": "markdown",
   "metadata": {},
   "source": [
    "Add a moving average column"
   ]
  },
  {
   "cell_type": "code",
   "execution_count": 4,
   "metadata": {},
   "outputs": [],
   "source": [
    "shenzhen['daymean'] = np.nan\n",
    "for index,row in shenzhen.iterrows():\n",
    "    if index == 0:\n",
    "        shenzhen.daymean[index] = shenzhen.anaerobic_dailyoutput[index]\n",
    "    elif index == 1:\n",
    "        shenzhen.daymean[index] = shenzhen.anaerobic_dailyoutput[index]\n",
    "    elif index == 2:\n",
    "        shenzhen.daymean[index] = shenzhen.anaerobic_dailyoutput[index]    \n",
    "    else:\n",
    "        shenzhen.daymean[index] = (shenzhen.daymean[index-1] + shenzhen.daymean[index-2] +\\\n",
    "                                   shenzhen.daymean[index-3])/3"
   ]
  },
  {
   "cell_type": "markdown",
   "metadata": {},
   "source": [
    "Bin the outputs"
   ]
  },
  {
   "cell_type": "code",
   "execution_count": 5,
   "metadata": {
    "collapsed": true
   },
   "outputs": [],
   "source": [
    "shenzhen.anaerobic_dailyoutput = pd.cut(shenzhen['anaerobic_dailyoutput'], bins=3)\n",
    "shenzhen.anaerobic_dailyoutput = pd.factorize(shenzhen.anaerobic_dailyoutput)[0]"
   ]
  },
  {
   "cell_type": "markdown",
   "metadata": {},
   "source": [
    "Add inverse, square, and log columns"
   ]
  },
  {
   "cell_type": "code",
   "execution_count": 6,
   "metadata": {},
   "outputs": [],
   "source": [
    "for col in shenzhen.columns[:10]:\n",
    "    shenzhen['1/'+col] = 1/(shenzhen[col])\n",
    "for col in shenzhen.columns[:10]:\n",
    "    shenzhen[col+\"**2\"] = (shenzhen[col])**2\n",
    "for col in shenzhen.columns[:10]:\n",
    "    shenzhen[col+\"log\"] = np.log(shenzhen[col])"
   ]
  },
  {
   "cell_type": "code",
   "execution_count": 7,
   "metadata": {
    "collapsed": true
   },
   "outputs": [],
   "source": [
    "shenzhen.replace(float('inf'), 0, inplace=True)\n",
    "shenzhen.replace(float('-inf'), 0, inplace=True)"
   ]
  },
  {
   "cell_type": "code",
   "execution_count": 8,
   "metadata": {},
   "outputs": [],
   "source": [
    "train_data, test_data = train_test_split(shenzhen, test_size=0.15)"
   ]
  },
  {
   "cell_type": "markdown",
   "metadata": {},
   "source": [
    "Set the train and test data"
   ]
  },
  {
   "cell_type": "code",
   "execution_count": 9,
   "metadata": {
    "collapsed": true
   },
   "outputs": [],
   "source": [
    "COLUMNS = [ 'Kitchen_waste_', 'Fruit_and_vegetable_waste_', 'Bread_Paste_',\\\n",
    "            'Waste_oil_', 'Total_Waste_', 'Diesel_waste_water_',\\\n",
    "            'Flour_and_waste_oil_', 'Kitchen_waste_paste_', 'acid_feed',\\\n",
    "            'acid_discharge','daymean','1/Kitchen_waste_', '1/Fruit_and_vegetable_waste_',\\\n",
    "            '1/Bread_Paste_', '1/Waste_oil_', '1/Total_Waste_',\\\n",
    "            '1/Diesel_waste_water_', '1/Flour_and_waste_oil_',\\\n",
    "            '1/Kitchen_waste_paste_', '1/acid_feed', '1/acid_discharge',\\\n",
    "            'Kitchen_waste_**2', 'Fruit_and_vegetable_waste_**2', \\\n",
    "            'Bread_Paste_**2','Waste_oil_**2', 'Total_Waste_**2', \\\n",
    "            'Diesel_waste_water_**2','Flour_and_waste_oil_**2', \\\n",
    "            'Kitchen_waste_paste_**2', 'acid_feed**2','acid_discharge**2',\\\n",
    "            'Kitchen_waste_log','Fruit_and_vegetable_waste_log', \\\n",
    "            'Bread_Paste_log', 'Waste_oil_log','Total_Waste_log', \\\n",
    "            'Diesel_waste_water_log', 'Flour_and_waste_oil_log',\\\n",
    "            'Kitchen_waste_paste_log', 'acid_feedlog', 'acid_dischargelog' ]\n",
    "\n",
    "X_train = train_data[COLUMNS]\n",
    "y_train = train_data.anaerobic_dailyoutput\n",
    "X_test = test_data[COLUMNS]\n",
    "y_test = test_data.anaerobic_dailyoutput"
   ]
  },
  {
   "cell_type": "markdown",
   "metadata": {},
   "source": [
    "# Modeling"
   ]
  },
  {
   "cell_type": "markdown",
   "metadata": {},
   "source": [
    "### Random Forest"
   ]
  },
  {
   "cell_type": "code",
   "execution_count": 10,
   "metadata": {},
   "outputs": [
    {
     "name": "stdout",
     "output_type": "stream",
     "text": [
      "Accuracy of Random Forest on training set: 1.00\n",
      "Accuracy of Random Forest on test set: 0.54\n"
     ]
    }
   ],
   "source": [
    "random_forest = RandomForestClassifier(n_estimators=50)\n",
    "random_forest.fit(X_train, y_train)\n",
    "\n",
    "print('Accuracy of Random Forest on training set: {:.2f}'.format(random_forest.score(X_train, y_train)))\n",
    "print('Accuracy of Random Forest on test set: {:.2f}'.format(random_forest.score(X_test, y_test)))"
   ]
  },
  {
   "cell_type": "markdown",
   "metadata": {},
   "source": [
    "### XGBoost"
   ]
  },
  {
   "cell_type": "code",
   "execution_count": 11,
   "metadata": {},
   "outputs": [
    {
     "name": "stdout",
     "output_type": "stream",
     "text": [
      "Accuracy of XGBoost on training set: 1.00\n",
      "Accuracy of XGBoost on test set: 0.57\n"
     ]
    }
   ],
   "source": [
    "xgb1 = XGBClassifier(\n",
    "    learning_rate=0.1,\n",
    "    n_estimators=1000,\n",
    "    max_depth=3,\n",
    "    min_child_weight=5,\n",
    "    gamma=0.2,\n",
    "    subsample=0.8,\n",
    "    colsample_bytree=0.8,\n",
    "    objective='binary:logistic',\n",
    "    nthread=8,\n",
    "    scale_pos_weight=8,\n",
    "    seed=27)\n",
    "xgb1.fit(X_train, y_train)\n",
    "\n",
    "print('Accuracy of XGBoost on training set: {:.2f}'.format(xgb1.score(X_train, y_train)))\n",
    "print('Accuracy of XGBoost on test set: {:.2f}'.format(xgb1.score(X_test, y_test)))"
   ]
  }
 ],
 "metadata": {
  "kernelspec": {
   "display_name": "Python 3",
   "language": "python",
   "name": "python3"
  },
  "language_info": {
   "codemirror_mode": {
    "name": "ipython",
    "version": 3
   },
   "file_extension": ".py",
   "mimetype": "text/x-python",
   "name": "python",
   "nbconvert_exporter": "python",
   "pygments_lexer": "ipython3",
   "version": "3.6.4"
  }
 },
 "nbformat": 4,
 "nbformat_minor": 2
}
