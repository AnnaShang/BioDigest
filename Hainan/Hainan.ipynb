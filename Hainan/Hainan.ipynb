{
 "cells": [
  {
   "cell_type": "code",
   "execution_count": 1,
   "metadata": {},
   "outputs": [
    {
     "name": "stderr",
     "output_type": "stream",
     "text": [
      "/usr/local/miniconda3/envs/datax/lib/python3.6/site-packages/sklearn/cross_validation.py:41: DeprecationWarning: This module was deprecated in version 0.18 in favor of the model_selection module into which all the refactored classes and functions are moved. Also note that the interface of the new CV iterators are different from that of this module. This module will be removed in 0.20.\n",
      "  \"This module will be removed in 0.20.\", DeprecationWarning)\n"
     ]
    }
   ],
   "source": [
    "import pandas as pd\n",
    "import numpy as np\n",
    "import matplotlib.pyplot as plt\n",
    "from sklearn import svm, preprocessing\n",
    "from sklearn.model_selection import train_test_split\n",
    "from sklearn.metrics import mean_squared_error, confusion_matrix\n",
    "from sklearn.linear_model import perceptron, LogisticRegression\n",
    "from sklearn.ensemble import RandomForestClassifier\n",
    "from sklearn.neighbors import KNeighborsRegressor\n",
    "from statsmodels.formula.api import ols\n",
    "from xgboost import XGBClassifier\n",
    "import warnings\n",
    "\n",
    "warnings.filterwarnings('ignore') # Suppress warnings"
   ]
  },
  {
   "cell_type": "markdown",
   "metadata": {},
   "source": [
    "# Data Cleaning"
   ]
  },
  {
   "cell_type": "markdown",
   "metadata": {},
   "source": [
    "Clean column names"
   ]
  },
  {
   "cell_type": "code",
   "execution_count": 2,
   "metadata": {},
   "outputs": [],
   "source": [
    "hainan = pd.read_csv('data/hainan_cleaned_data.csv')\n",
    "\n",
    "hainan.columns = hainan.columns.str.replace('  ', '_')\n",
    "hainan.columns = hainan.columns.str.replace(' ', '_')\n",
    "hainan.columns = hainan.columns.str.replace('(', '')\n",
    "hainan.columns = hainan.columns.str.replace('（', '')\n",
    "hainan.columns = hainan.columns.str.replace(')', '')\n",
    "\n",
    "d = { 'January':1, 'February':2, 'March':3, 'April':4, 'May':5, 'June':6,\n",
    "     'July':7, 'August':8, 'September':9, 'October':10, 'November':11, 'December':12 }\n",
    "\n",
    "hainan.Month = hainan.Month.map(d)"
   ]
  },
  {
   "cell_type": "markdown",
   "metadata": {},
   "source": [
    "Shift rows up to account for delay"
   ]
  },
  {
   "cell_type": "code",
   "execution_count": 3,
   "metadata": {},
   "outputs": [],
   "source": [
    "hainan.BioCNG_Produced_Nm3 = hainan.BioCNG_Produced_m3.shift(-15)\n",
    "hainan.drop(hainan.tail(15).index, inplace=True)"
   ]
  },
  {
   "cell_type": "markdown",
   "metadata": {},
   "source": [
    "Clean up column values"
   ]
  },
  {
   "cell_type": "code",
   "execution_count": 4,
   "metadata": {},
   "outputs": [],
   "source": [
    "hainan = hainan[np.isfinite(hainan['Month'])]\n",
    "hainan = hainan[np.isfinite(hainan['Lemon_waste_t'])]\n",
    "hainan = hainan[np.isfinite(hainan['Percolate_t'])]\n",
    "hainan = hainan.replace(' ', 0)\n",
    "hainan = hainan.replace('', 0)\n",
    "hainan = hainan.replace('  ', 0)"
   ]
  },
  {
   "cell_type": "markdown",
   "metadata": {},
   "source": [
    "Remove unnecessary columns"
   ]
  },
  {
   "cell_type": "code",
   "execution_count": 5,
   "metadata": {},
   "outputs": [
    {
     "data": {
      "text/html": [
       "<div>\n",
       "<style scoped>\n",
       "    .dataframe tbody tr th:only-of-type {\n",
       "        vertical-align: middle;\n",
       "    }\n",
       "\n",
       "    .dataframe tbody tr th {\n",
       "        vertical-align: top;\n",
       "    }\n",
       "\n",
       "    .dataframe thead th {\n",
       "        text-align: right;\n",
       "    }\n",
       "</style>\n",
       "<table border=\"1\" class=\"dataframe\">\n",
       "  <thead>\n",
       "    <tr style=\"text-align: right;\">\n",
       "      <th></th>\n",
       "      <th>BioCNG_Produced_m3</th>\n",
       "      <th>Pig_Manure_t</th>\n",
       "      <th>Cassava_t</th>\n",
       "      <th>Fish_waste_water_t</th>\n",
       "      <th>Kitchen_food_waste_t</th>\n",
       "      <th>Municipal_fecal_residue_t</th>\n",
       "      <th>Tea_waste_t</th>\n",
       "      <th>Chicken_litter_t</th>\n",
       "      <th>Bagasse_feed_t</th>\n",
       "      <th>Alcohol_waste_t</th>\n",
       "      <th>Chinese_medicine_waste_t</th>\n",
       "      <th>Energy_grass_t</th>\n",
       "      <th>Banana_fruit_shafts_t</th>\n",
       "      <th>Lemon_waste_t</th>\n",
       "      <th>Percolate_t</th>\n",
       "      <th>Other_waste_t</th>\n",
       "    </tr>\n",
       "  </thead>\n",
       "  <tbody>\n",
       "    <tr>\n",
       "      <th>0</th>\n",
       "      <td>2024.0</td>\n",
       "      <td>6.82</td>\n",
       "      <td>0.0</td>\n",
       "      <td>0.0</td>\n",
       "      <td>0.0</td>\n",
       "      <td>0.0</td>\n",
       "      <td>0.0</td>\n",
       "      <td>0.0</td>\n",
       "      <td>15.0</td>\n",
       "      <td>0.0</td>\n",
       "      <td>0.0</td>\n",
       "      <td>0.0</td>\n",
       "      <td>0.0</td>\n",
       "      <td>0.0</td>\n",
       "      <td>0.0</td>\n",
       "      <td>26.44</td>\n",
       "    </tr>\n",
       "    <tr>\n",
       "      <th>1</th>\n",
       "      <td>2909.0</td>\n",
       "      <td>0.00</td>\n",
       "      <td>0.0</td>\n",
       "      <td>0.0</td>\n",
       "      <td>0.0</td>\n",
       "      <td>0.0</td>\n",
       "      <td>0.0</td>\n",
       "      <td>0.0</td>\n",
       "      <td>15.0</td>\n",
       "      <td>0.0</td>\n",
       "      <td>0.0</td>\n",
       "      <td>0.0</td>\n",
       "      <td>0.0</td>\n",
       "      <td>0.0</td>\n",
       "      <td>0.0</td>\n",
       "      <td>28.92</td>\n",
       "    </tr>\n",
       "    <tr>\n",
       "      <th>2</th>\n",
       "      <td>3020.0</td>\n",
       "      <td>6.66</td>\n",
       "      <td>0.0</td>\n",
       "      <td>0.0</td>\n",
       "      <td>0.0</td>\n",
       "      <td>0.0</td>\n",
       "      <td>0.0</td>\n",
       "      <td>0.0</td>\n",
       "      <td>15.0</td>\n",
       "      <td>0.0</td>\n",
       "      <td>0.0</td>\n",
       "      <td>0.0</td>\n",
       "      <td>0.0</td>\n",
       "      <td>0.0</td>\n",
       "      <td>0.0</td>\n",
       "      <td>26.90</td>\n",
       "    </tr>\n",
       "    <tr>\n",
       "      <th>3</th>\n",
       "      <td>3042.0</td>\n",
       "      <td>12.50</td>\n",
       "      <td>0.0</td>\n",
       "      <td>0.0</td>\n",
       "      <td>0.0</td>\n",
       "      <td>0.0</td>\n",
       "      <td>0.0</td>\n",
       "      <td>0.0</td>\n",
       "      <td>0.0</td>\n",
       "      <td>0.0</td>\n",
       "      <td>0.0</td>\n",
       "      <td>0.0</td>\n",
       "      <td>0.0</td>\n",
       "      <td>0.0</td>\n",
       "      <td>0.0</td>\n",
       "      <td>0.00</td>\n",
       "    </tr>\n",
       "    <tr>\n",
       "      <th>4</th>\n",
       "      <td>2779.0</td>\n",
       "      <td>9.54</td>\n",
       "      <td>0.0</td>\n",
       "      <td>0.0</td>\n",
       "      <td>0.0</td>\n",
       "      <td>0.0</td>\n",
       "      <td>0.0</td>\n",
       "      <td>0.0</td>\n",
       "      <td>9.0</td>\n",
       "      <td>0.0</td>\n",
       "      <td>0.0</td>\n",
       "      <td>0.0</td>\n",
       "      <td>0.0</td>\n",
       "      <td>0.0</td>\n",
       "      <td>0.0</td>\n",
       "      <td>0.00</td>\n",
       "    </tr>\n",
       "  </tbody>\n",
       "</table>\n",
       "</div>"
      ],
      "text/plain": [
       "   BioCNG_Produced_m3  Pig_Manure_t  Cassava_t  Fish_waste_water_t  \\\n",
       "0              2024.0          6.82        0.0                 0.0   \n",
       "1              2909.0          0.00        0.0                 0.0   \n",
       "2              3020.0          6.66        0.0                 0.0   \n",
       "3              3042.0         12.50        0.0                 0.0   \n",
       "4              2779.0          9.54        0.0                 0.0   \n",
       "\n",
       "   Kitchen_food_waste_t  Municipal_fecal_residue_t  Tea_waste_t  \\\n",
       "0                   0.0                        0.0          0.0   \n",
       "1                   0.0                        0.0          0.0   \n",
       "2                   0.0                        0.0          0.0   \n",
       "3                   0.0                        0.0          0.0   \n",
       "4                   0.0                        0.0          0.0   \n",
       "\n",
       "   Chicken_litter_t  Bagasse_feed_t  Alcohol_waste_t  \\\n",
       "0               0.0            15.0              0.0   \n",
       "1               0.0            15.0              0.0   \n",
       "2               0.0            15.0              0.0   \n",
       "3               0.0             0.0              0.0   \n",
       "4               0.0             9.0              0.0   \n",
       "\n",
       "   Chinese_medicine_waste_t  Energy_grass_t  Banana_fruit_shafts_t  \\\n",
       "0                       0.0             0.0                    0.0   \n",
       "1                       0.0             0.0                    0.0   \n",
       "2                       0.0             0.0                    0.0   \n",
       "3                       0.0             0.0                    0.0   \n",
       "4                       0.0             0.0                    0.0   \n",
       "\n",
       "   Lemon_waste_t  Percolate_t  Other_waste_t  \n",
       "0            0.0          0.0          26.44  \n",
       "1            0.0          0.0          28.92  \n",
       "2            0.0          0.0          26.90  \n",
       "3            0.0          0.0           0.00  \n",
       "4            0.0          0.0           0.00  "
      ]
     },
     "execution_count": 5,
     "metadata": {},
     "output_type": "execute_result"
    }
   ],
   "source": [
    "hainan = hainan.drop(['Year', 'Month', 'Day', 'Month_#', 'Day_#', 'Raw_Biogas_Produced_m3', 'BioCNG_Sold_m3', 'Vehicle_use_m3',\n",
    "       'Liquid_Fertilizer_Produced_t', 'Solid_fertilizer_produced_t',\n",
    "       'Wastewater_flow_to_WWTP_unit?', 'Solid_residues_kg','50%_NaOH/kg', 'FeCl2/kg', 'PAM/kg',\n",
    "       'Defoamer/kg', 'Project_electricity_use/kWh',\n",
    "       'Office_space_electricity_use/kWh', 'Water/m3', 'Diesel/L', 'extra'], axis=1)\n",
    "\n",
    "hainan.head()"
   ]
  },
  {
   "cell_type": "markdown",
   "metadata": {},
   "source": [
    "# Preliminary Work"
   ]
  },
  {
   "cell_type": "code",
   "execution_count": 6,
   "metadata": {},
   "outputs": [],
   "source": [
    "train_data, test_data = train_test_split(hainan, test_size=0.2)"
   ]
  },
  {
   "cell_type": "markdown",
   "metadata": {},
   "source": [
    "OLS"
   ]
  },
  {
   "cell_type": "code",
   "execution_count": 7,
   "metadata": {},
   "outputs": [
    {
     "data": {
      "text/html": [
       "<table class=\"simpletable\">\n",
       "<caption>OLS Regression Results</caption>\n",
       "<tr>\n",
       "  <th>Dep. Variable:</th>    <td>BioCNG_Produced_m3</td> <th>  R-squared:         </th> <td>   0.871</td> \n",
       "</tr>\n",
       "<tr>\n",
       "  <th>Model:</th>                    <td>OLS</td>        <th>  Adj. R-squared:    </th> <td>   0.869</td> \n",
       "</tr>\n",
       "<tr>\n",
       "  <th>Method:</th>              <td>Least Squares</td>   <th>  F-statistic:       </th> <td>   485.4</td> \n",
       "</tr>\n",
       "<tr>\n",
       "  <th>Date:</th>              <td>Thu, 03 May 2018</td>  <th>  Prob (F-statistic):</th>  <td>  0.00</td>  \n",
       "</tr>\n",
       "<tr>\n",
       "  <th>Time:</th>                  <td>20:27:12</td>      <th>  Log-Likelihood:    </th> <td> -9501.7</td> \n",
       "</tr>\n",
       "<tr>\n",
       "  <th>No. Observations:</th>       <td>  1098</td>       <th>  AIC:               </th> <td>1.904e+04</td>\n",
       "</tr>\n",
       "<tr>\n",
       "  <th>Df Residuals:</th>           <td>  1082</td>       <th>  BIC:               </th> <td>1.912e+04</td>\n",
       "</tr>\n",
       "<tr>\n",
       "  <th>Df Model:</th>               <td>    15</td>       <th>                     </th>     <td> </td>    \n",
       "</tr>\n",
       "<tr>\n",
       "  <th>Covariance Type:</th>       <td>nonrobust</td>     <th>                     </th>     <td> </td>    \n",
       "</tr>\n",
       "</table>\n",
       "<table class=\"simpletable\">\n",
       "<tr>\n",
       "              <td></td>                 <th>coef</th>     <th>std err</th>      <th>t</th>      <th>P>|t|</th>  <th>[0.025</th>    <th>0.975]</th>  \n",
       "</tr>\n",
       "<tr>\n",
       "  <th>Intercept</th>                 <td> 1138.0629</td> <td>   88.045</td> <td>   12.926</td> <td> 0.000</td> <td>  965.304</td> <td> 1310.822</td>\n",
       "</tr>\n",
       "<tr>\n",
       "  <th>Pig_Manure_t</th>              <td>   58.4919</td> <td>    4.697</td> <td>   12.452</td> <td> 0.000</td> <td>   49.275</td> <td>   67.709</td>\n",
       "</tr>\n",
       "<tr>\n",
       "  <th>Cassava_t</th>                 <td>   58.0134</td> <td>    1.824</td> <td>   31.814</td> <td> 0.000</td> <td>   54.435</td> <td>   61.591</td>\n",
       "</tr>\n",
       "<tr>\n",
       "  <th>Fish_waste_water_t</th>        <td>   47.5192</td> <td>    7.931</td> <td>    5.991</td> <td> 0.000</td> <td>   31.956</td> <td>   63.082</td>\n",
       "</tr>\n",
       "<tr>\n",
       "  <th>Kitchen_food_waste_t</th>      <td>   27.3234</td> <td>    4.259</td> <td>    6.415</td> <td> 0.000</td> <td>   18.966</td> <td>   35.680</td>\n",
       "</tr>\n",
       "<tr>\n",
       "  <th>Municipal_fecal_residue_t</th> <td>    5.8934</td> <td>    1.735</td> <td>    3.397</td> <td> 0.001</td> <td>    2.489</td> <td>    9.297</td>\n",
       "</tr>\n",
       "<tr>\n",
       "  <th>Tea_waste_t</th>               <td>   -1.6309</td> <td>   15.648</td> <td>   -0.104</td> <td> 0.917</td> <td>  -32.335</td> <td>   29.073</td>\n",
       "</tr>\n",
       "<tr>\n",
       "  <th>Chicken_litter_t</th>          <td>   74.5202</td> <td>    6.919</td> <td>   10.771</td> <td> 0.000</td> <td>   60.944</td> <td>   88.096</td>\n",
       "</tr>\n",
       "<tr>\n",
       "  <th>Bagasse_feed_t</th>            <td>   57.4135</td> <td>    2.987</td> <td>   19.221</td> <td> 0.000</td> <td>   51.553</td> <td>   63.274</td>\n",
       "</tr>\n",
       "<tr>\n",
       "  <th>Alcohol_waste_t</th>           <td>   31.5481</td> <td>   11.938</td> <td>    2.643</td> <td> 0.008</td> <td>    8.124</td> <td>   54.972</td>\n",
       "</tr>\n",
       "<tr>\n",
       "  <th>Chinese_medicine_waste_t</th>  <td>  161.6429</td> <td>   40.626</td> <td>    3.979</td> <td> 0.000</td> <td>   81.929</td> <td>  241.357</td>\n",
       "</tr>\n",
       "<tr>\n",
       "  <th>Energy_grass_t</th>            <td>  133.6805</td> <td>   55.660</td> <td>    2.402</td> <td> 0.016</td> <td>   24.467</td> <td>  242.894</td>\n",
       "</tr>\n",
       "<tr>\n",
       "  <th>Banana_fruit_shafts_t</th>     <td>    9.3246</td> <td>   11.944</td> <td>    0.781</td> <td> 0.435</td> <td>  -14.110</td> <td>   32.760</td>\n",
       "</tr>\n",
       "<tr>\n",
       "  <th>Lemon_waste_t</th>             <td>  -47.4508</td> <td>   36.296</td> <td>   -1.307</td> <td> 0.191</td> <td> -118.670</td> <td>   23.768</td>\n",
       "</tr>\n",
       "<tr>\n",
       "  <th>Percolate_t</th>               <td>   11.3332</td> <td>    0.517</td> <td>   21.902</td> <td> 0.000</td> <td>   10.318</td> <td>   12.349</td>\n",
       "</tr>\n",
       "<tr>\n",
       "  <th>Other_waste_t</th>             <td>   25.1021</td> <td>    4.312</td> <td>    5.821</td> <td> 0.000</td> <td>   16.641</td> <td>   33.563</td>\n",
       "</tr>\n",
       "</table>\n",
       "<table class=\"simpletable\">\n",
       "<tr>\n",
       "  <th>Omnibus:</th>       <td>144.935</td> <th>  Durbin-Watson:     </th> <td>   1.946</td> \n",
       "</tr>\n",
       "<tr>\n",
       "  <th>Prob(Omnibus):</th> <td> 0.000</td>  <th>  Jarque-Bera (JB):  </th> <td>1350.184</td> \n",
       "</tr>\n",
       "<tr>\n",
       "  <th>Skew:</th>          <td>-0.220</td>  <th>  Prob(JB):          </th> <td>6.48e-294</td>\n",
       "</tr>\n",
       "<tr>\n",
       "  <th>Kurtosis:</th>      <td> 8.415</td>  <th>  Cond. No.          </th> <td>    355.</td> \n",
       "</tr>\n",
       "</table>"
      ],
      "text/plain": [
       "<class 'statsmodels.iolib.summary.Summary'>\n",
       "\"\"\"\n",
       "                            OLS Regression Results                            \n",
       "==============================================================================\n",
       "Dep. Variable:     BioCNG_Produced_m3   R-squared:                       0.871\n",
       "Model:                            OLS   Adj. R-squared:                  0.869\n",
       "Method:                 Least Squares   F-statistic:                     485.4\n",
       "Date:                Thu, 03 May 2018   Prob (F-statistic):               0.00\n",
       "Time:                        20:27:12   Log-Likelihood:                -9501.7\n",
       "No. Observations:                1098   AIC:                         1.904e+04\n",
       "Df Residuals:                    1082   BIC:                         1.912e+04\n",
       "Df Model:                          15                                         \n",
       "Covariance Type:            nonrobust                                         \n",
       "=============================================================================================\n",
       "                                coef    std err          t      P>|t|      [0.025      0.975]\n",
       "---------------------------------------------------------------------------------------------\n",
       "Intercept                  1138.0629     88.045     12.926      0.000     965.304    1310.822\n",
       "Pig_Manure_t                 58.4919      4.697     12.452      0.000      49.275      67.709\n",
       "Cassava_t                    58.0134      1.824     31.814      0.000      54.435      61.591\n",
       "Fish_waste_water_t           47.5192      7.931      5.991      0.000      31.956      63.082\n",
       "Kitchen_food_waste_t         27.3234      4.259      6.415      0.000      18.966      35.680\n",
       "Municipal_fecal_residue_t     5.8934      1.735      3.397      0.001       2.489       9.297\n",
       "Tea_waste_t                  -1.6309     15.648     -0.104      0.917     -32.335      29.073\n",
       "Chicken_litter_t             74.5202      6.919     10.771      0.000      60.944      88.096\n",
       "Bagasse_feed_t               57.4135      2.987     19.221      0.000      51.553      63.274\n",
       "Alcohol_waste_t              31.5481     11.938      2.643      0.008       8.124      54.972\n",
       "Chinese_medicine_waste_t    161.6429     40.626      3.979      0.000      81.929     241.357\n",
       "Energy_grass_t              133.6805     55.660      2.402      0.016      24.467     242.894\n",
       "Banana_fruit_shafts_t         9.3246     11.944      0.781      0.435     -14.110      32.760\n",
       "Lemon_waste_t               -47.4508     36.296     -1.307      0.191    -118.670      23.768\n",
       "Percolate_t                  11.3332      0.517     21.902      0.000      10.318      12.349\n",
       "Other_waste_t                25.1021      4.312      5.821      0.000      16.641      33.563\n",
       "==============================================================================\n",
       "Omnibus:                      144.935   Durbin-Watson:                   1.946\n",
       "Prob(Omnibus):                  0.000   Jarque-Bera (JB):             1350.184\n",
       "Skew:                          -0.220   Prob(JB):                    6.48e-294\n",
       "Kurtosis:                       8.415   Cond. No.                         355.\n",
       "==============================================================================\n",
       "\n",
       "Warnings:\n",
       "[1] Standard Errors assume that the covariance matrix of the errors is correctly specified.\n",
       "\"\"\""
      ]
     },
     "execution_count": 7,
     "metadata": {},
     "output_type": "execute_result"
    }
   ],
   "source": [
    "hainan_ols = ols(\"BioCNG_Produced_m3 ~ Pig_Manure_t + Cassava_t + Fish_waste_water_t +\\\n",
    "                    Kitchen_food_waste_t + Municipal_fecal_residue_t + Tea_waste_t +\\\n",
    "                    Chicken_litter_t + Bagasse_feed_t + Alcohol_waste_t +\\\n",
    "                    Chinese_medicine_waste_t + Energy_grass_t + Banana_fruit_shafts_t +\\\n",
    "                    Lemon_waste_t + Percolate_t + Other_waste_t\", data=train_data).fit()\n",
    "\n",
    "hainan_ols.summary()"
   ]
  },
  {
   "cell_type": "markdown",
   "metadata": {},
   "source": [
    "From the ols results based on three different dependent variables, we can see that only the first one (cumulative sum of BioCNG) has a relatively high value for R-squared, so we decided to focus on it."
   ]
  },
  {
   "cell_type": "code",
   "execution_count": 8,
   "metadata": {},
   "outputs": [],
   "source": [
    "OLS_COLUMNS = [ 'Pig_Manure_t',\n",
    "                'Cassava_t', 'Fish_waste_water_t', 'Kitchen_food_waste_t',\n",
    "                'Municipal_fecal_residue_t', 'Tea_waste_t', 'Chicken_litter_t',\n",
    "                'Bagasse_feed_t', 'Alcohol_waste_t', 'Chinese_medicine_waste_t',\n",
    "                'Energy_grass_t', 'Banana_fruit_shafts_t', 'Lemon_waste_t',\n",
    "                'Percolate_t', 'Other_waste_t' ]\n",
    "\n",
    "X_train = train_data[OLS_COLUMNS]\n",
    "y_train = train_data.BioCNG_Produced_m3\n",
    "X_test = test_data[OLS_COLUMNS]\n",
    "y_test = test_data.BioCNG_Produced_m3"
   ]
  },
  {
   "cell_type": "code",
   "execution_count": 9,
   "metadata": {},
   "outputs": [],
   "source": [
    "y_pred_train = hainan_ols.predict(X_train)\n",
    "y_pred_test = hainan_ols.predict(X_test)"
   ]
  },
  {
   "cell_type": "markdown",
   "metadata": {},
   "source": [
    "Compute the root-mean-square of training data"
   ]
  },
  {
   "cell_type": "code",
   "execution_count": 10,
   "metadata": {},
   "outputs": [
    {
     "name": "stdout",
     "output_type": "stream",
     "text": [
      "Training error: 0.0002350423057\n"
     ]
    }
   ],
   "source": [
    "rms_train = np.sqrt(mean_squared_error(y_train, y_pred_train))\n",
    "print('Training error:', rms_train/sum(y_train))"
   ]
  },
  {
   "cell_type": "markdown",
   "metadata": {},
   "source": [
    "Compute the root-mean-square of test data"
   ]
  },
  {
   "cell_type": "code",
   "execution_count": 11,
   "metadata": {},
   "outputs": [
    {
     "name": "stdout",
     "output_type": "stream",
     "text": [
      "Testing error: 0.000960107528469\n"
     ]
    }
   ],
   "source": [
    "rms_test = np.sqrt(mean_squared_error(y_test, y_pred_test))\n",
    "print('Testing error:', rms_test/sum(y_test))"
   ]
  },
  {
   "cell_type": "markdown",
   "metadata": {},
   "source": [
    "# Modeling"
   ]
  },
  {
   "cell_type": "markdown",
   "metadata": {},
   "source": [
    "### Logistic regression"
   ]
  },
  {
   "cell_type": "markdown",
   "metadata": {},
   "source": [
    "Bin the data and reset test and train data"
   ]
  },
  {
   "cell_type": "code",
   "execution_count": 12,
   "metadata": {},
   "outputs": [],
   "source": [
    "hainan['BioCNG_Produced_binned'] = pd.cut(hainan['BioCNG_Produced_m3'], bins=3, labels=[0, 1, 2])\n",
    "train_data, test_data = train_test_split(hainan, test_size=0.2)\n",
    "y_train = train_data.BioCNG_Produced_binned\n",
    "y_test = test_data.BioCNG_Produced_binned"
   ]
  },
  {
   "cell_type": "code",
   "execution_count": 13,
   "metadata": {},
   "outputs": [
    {
     "name": "stdout",
     "output_type": "stream",
     "text": [
      "Accuracy of logistic regression classifier on training set: 0.59\n",
      "Accuracy of logistic regression classifier on test set: 0.61\n",
      "Confusion matrix:\n",
      "[[169   0   1]\n",
      " [ 59   0   0]\n",
      " [ 46   0   0]]\n"
     ]
    }
   ],
   "source": [
    "logreg = LogisticRegression()\n",
    "logreg.fit(X_train, y_train)\n",
    "y_pred_test = logreg.predict(X_test)\n",
    "\n",
    "print('Accuracy of logistic regression classifier on training set: {:.2f}'.format(logreg.score(X_train, y_train)))\n",
    "print('Accuracy of logistic regression classifier on test set: {:.2f}'.format(logreg.score(X_test, y_test)))\n",
    "print('Confusion matrix:')\n",
    "print(confusion_matrix(y_test, y_pred_test))"
   ]
  },
  {
   "cell_type": "markdown",
   "metadata": {},
   "source": [
    "### SVM"
   ]
  },
  {
   "cell_type": "code",
   "execution_count": 14,
   "metadata": {},
   "outputs": [
    {
     "name": "stdout",
     "output_type": "stream",
     "text": [
      "Accuracy of SVM on training set: 0.85\n",
      "Accuracy of SVM on test set: 0.60\n"
     ]
    }
   ],
   "source": [
    "clf = svm.SVC()\n",
    "clf.fit(X_train, y_train)  \n",
    "\n",
    "print('Accuracy of SVM on training set: {:.2f}'.format(clf.score(X_train, y_train)))\n",
    "print('Accuracy of SVM on test set: {:.2f}'.format(clf.score(X_test, y_test)))"
   ]
  },
  {
   "cell_type": "markdown",
   "metadata": {},
   "source": [
    "### XGBoost"
   ]
  },
  {
   "cell_type": "code",
   "execution_count": 15,
   "metadata": {},
   "outputs": [
    {
     "name": "stdout",
     "output_type": "stream",
     "text": [
      "Accuracy of XGboost on train set: 0.64\n",
      "Accuracy of XGboost on test set: 0.60\n",
      "Confusion matrix:\n",
      "[[162   4   4]\n",
      " [ 57   1   1]\n",
      " [ 44   1   1]]\n"
     ]
    }
   ],
   "source": [
    "xgb = XGBClassifier()\n",
    "xgb.fit(X_train, y_train)\n",
    "y_pred_test = xgb.predict(X_test)\n",
    "\n",
    "print('Accuracy of XGboost on train set: {:.2f}'.format(xgb.score(X_train, y_train)))\n",
    "print('Accuracy of XGboost on test set: {:.2f}'.format(xgb.score(X_test, y_test)))\n",
    "print('Confusion matrix:')\n",
    "print(confusion_matrix(y_test, y_pred_test))"
   ]
  },
  {
   "cell_type": "markdown",
   "metadata": {},
   "source": [
    "### Random forest"
   ]
  },
  {
   "cell_type": "code",
   "execution_count": 16,
   "metadata": {},
   "outputs": [
    {
     "name": "stdout",
     "output_type": "stream",
     "text": [
      "Accuracy of Random Forest on train set: 0.98\n",
      "Accuracy of Random Forest on test set: 0.55\n"
     ]
    }
   ],
   "source": [
    "random_forest = RandomForestClassifier(n_estimators=1000)\n",
    "random_forest.fit(X_train, y_train)\n",
    "\n",
    "print('Accuracy of Random Forest on train set: {:.2f}'.format(random_forest.score(X_train, y_train)))\n",
    "print('Accuracy of Random Forest on test set: {:.2f}'.format(random_forest.score(X_test, y_test)))"
   ]
  },
  {
   "cell_type": "markdown",
   "metadata": {},
   "source": [
    "### KNN"
   ]
  },
  {
   "cell_type": "markdown",
   "metadata": {},
   "source": [
    "Normalize data"
   ]
  },
  {
   "cell_type": "code",
   "execution_count": 17,
   "metadata": {},
   "outputs": [],
   "source": [
    "min_max_scaler = preprocessing.MinMaxScaler()\n",
    "np_scaled = min_max_scaler.fit_transform(hainan[['BioCNG_Produced_m3', 'Pig_Manure_t',\n",
    "       'Cassava_t', 'Fish_waste_water_t', 'Kitchen_food_waste_t',\n",
    "       'Municipal_fecal_residue_t', 'Tea_waste_t', 'Chicken_litter_t',\n",
    "       'Bagasse_feed_t', 'Alcohol_waste_t', 'Chinese_medicine_waste_t',\n",
    "       'Energy_grass_t', 'Banana_fruit_shafts_t', 'Lemon_waste_t',\n",
    "       'Percolate_t', 'Other_waste_t']])\n",
    "hainan_normalized = pd.DataFrame(np_scaled)"
   ]
  },
  {
   "cell_type": "markdown",
   "metadata": {},
   "source": [
    "Reset train and test data"
   ]
  },
  {
   "cell_type": "code",
   "execution_count": 18,
   "metadata": {},
   "outputs": [],
   "source": [
    "train_data, test_data = train_test_split(hainan_normalized, test_size=0.2)\n",
    "X_train = train_data.iloc[:, 1:16]    \n",
    "y_train = train_data[0]\n",
    "X_test = test_data.iloc[:, 1:16]\n",
    "y_test = test_data[0]"
   ]
  },
  {
   "cell_type": "markdown",
   "metadata": {},
   "source": [
    "Tune number of neighbors"
   ]
  },
  {
   "cell_type": "code",
   "execution_count": 19,
   "metadata": {},
   "outputs": [
    {
     "data": {
      "image/png": "[encoded data removed]",
      "text/plain": [
       "<matplotlib.figure.Figure at 0x111097048>"
      ]
     },
     "metadata": {},
     "output_type": "display_data"
    }
   ],
   "source": [
    "scoretest = []\n",
    "scoretrain = []\n",
    "for n in range(1,10):\n",
    "    knn = KNeighborsRegressor(n_neighbors=n)\n",
    "    knn.fit(X_train, y_train)\n",
    "    scoretest.append(knn.score(X_test, y_test))\n",
    "    scoretrain.append(knn.score(X_train, y_train))\n",
    "    \n",
    "plt.plot(range(1,10), scoretest)\n",
    "plt.plot(range(1,10), scoretrain)\n",
    "plt.show()"
   ]
  },
  {
   "cell_type": "markdown",
   "metadata": {},
   "source": [
    "Take the optimal hyperparameter"
   ]
  },
  {
   "cell_type": "code",
   "execution_count": 20,
   "metadata": {},
   "outputs": [
    {
     "name": "stdout",
     "output_type": "stream",
     "text": [
      "Accuracy of kNN on train set: 0.89\n",
      "Accuracy of kNN on test set: 0.87\n"
     ]
    }
   ],
   "source": [
    "knn = KNeighborsRegressor(n_neighbors=7)\n",
    "knn.fit(X_train, y_train)\n",
    "\n",
    "print('Accuracy of kNN on train set: {:.2f}'.format(knn.score(X_train, y_train)))\n",
    "print('Accuracy of kNN on test set: {:.2f}'.format(knn.score(X_test, y_test)))"
   ]
  },
  {
   "cell_type": "markdown",
   "metadata": {},
   "source": [
    "From the accuracy results of the above training, we can see that except for kNN, all of them have relatively good results for accuracy around 0.5."
   ]
  },
  {
   "cell_type": "markdown",
   "metadata": {},
   "source": [
    "# Feature Engineering"
   ]
  },
  {
   "cell_type": "markdown",
   "metadata": {},
   "source": [
    "### Add 1/x columns"
   ]
  },
  {
   "cell_type": "code",
   "execution_count": 21,
   "metadata": {},
   "outputs": [],
   "source": [
    "hainan = hainan.drop(['BioCNG_Produced_binned'], axis=1)"
   ]
  },
  {
   "cell_type": "code",
   "execution_count": 22,
   "metadata": {},
   "outputs": [
    {
     "data": {
      "text/html": [
       "<div>\n",
       "<style scoped>\n",
       "    .dataframe tbody tr th:only-of-type {\n",
       "        vertical-align: middle;\n",
       "    }\n",
       "\n",
       "    .dataframe tbody tr th {\n",
       "        vertical-align: top;\n",
       "    }\n",
       "\n",
       "    .dataframe thead th {\n",
       "        text-align: right;\n",
       "    }\n",
       "</style>\n",
       "<table border=\"1\" class=\"dataframe\">\n",
       "  <thead>\n",
       "    <tr style=\"text-align: right;\">\n",
       "      <th></th>\n",
       "      <th>BioCNG_Produced_m3</th>\n",
       "      <th>Pig_Manure_t</th>\n",
       "      <th>Cassava_t</th>\n",
       "      <th>Fish_waste_water_t</th>\n",
       "      <th>Kitchen_food_waste_t</th>\n",
       "      <th>Municipal_fecal_residue_t</th>\n",
       "      <th>Tea_waste_t</th>\n",
       "      <th>Chicken_litter_t</th>\n",
       "      <th>Bagasse_feed_t</th>\n",
       "      <th>Alcohol_waste_t</th>\n",
       "      <th>...</th>\n",
       "      <th>1/Tea_waste_t</th>\n",
       "      <th>1/Chicken_litter_t</th>\n",
       "      <th>1/Bagasse_feed_t</th>\n",
       "      <th>1/Alcohol_waste_t</th>\n",
       "      <th>1/Chinese_medicine_waste_t</th>\n",
       "      <th>1/Energy_grass_t</th>\n",
       "      <th>1/Banana_fruit_shafts_t</th>\n",
       "      <th>1/Lemon_waste_t</th>\n",
       "      <th>1/Percolate_t</th>\n",
       "      <th>1/Other_waste_t</th>\n",
       "    </tr>\n",
       "  </thead>\n",
       "  <tbody>\n",
       "    <tr>\n",
       "      <th>0</th>\n",
       "      <td>2024.0</td>\n",
       "      <td>6.82</td>\n",
       "      <td>0.0</td>\n",
       "      <td>0.0</td>\n",
       "      <td>0.0</td>\n",
       "      <td>0.0</td>\n",
       "      <td>0.0</td>\n",
       "      <td>0.0</td>\n",
       "      <td>15.0</td>\n",
       "      <td>0.0</td>\n",
       "      <td>...</td>\n",
       "      <td>inf</td>\n",
       "      <td>inf</td>\n",
       "      <td>0.066667</td>\n",
       "      <td>inf</td>\n",
       "      <td>inf</td>\n",
       "      <td>inf</td>\n",
       "      <td>inf</td>\n",
       "      <td>inf</td>\n",
       "      <td>inf</td>\n",
       "      <td>0.037821</td>\n",
       "    </tr>\n",
       "    <tr>\n",
       "      <th>1</th>\n",
       "      <td>2909.0</td>\n",
       "      <td>0.00</td>\n",
       "      <td>0.0</td>\n",
       "      <td>0.0</td>\n",
       "      <td>0.0</td>\n",
       "      <td>0.0</td>\n",
       "      <td>0.0</td>\n",
       "      <td>0.0</td>\n",
       "      <td>15.0</td>\n",
       "      <td>0.0</td>\n",
       "      <td>...</td>\n",
       "      <td>inf</td>\n",
       "      <td>inf</td>\n",
       "      <td>0.066667</td>\n",
       "      <td>inf</td>\n",
       "      <td>inf</td>\n",
       "      <td>inf</td>\n",
       "      <td>inf</td>\n",
       "      <td>inf</td>\n",
       "      <td>inf</td>\n",
       "      <td>0.034578</td>\n",
       "    </tr>\n",
       "    <tr>\n",
       "      <th>2</th>\n",
       "      <td>3020.0</td>\n",
       "      <td>6.66</td>\n",
       "      <td>0.0</td>\n",
       "      <td>0.0</td>\n",
       "      <td>0.0</td>\n",
       "      <td>0.0</td>\n",
       "      <td>0.0</td>\n",
       "      <td>0.0</td>\n",
       "      <td>15.0</td>\n",
       "      <td>0.0</td>\n",
       "      <td>...</td>\n",
       "      <td>inf</td>\n",
       "      <td>inf</td>\n",
       "      <td>0.066667</td>\n",
       "      <td>inf</td>\n",
       "      <td>inf</td>\n",
       "      <td>inf</td>\n",
       "      <td>inf</td>\n",
       "      <td>inf</td>\n",
       "      <td>inf</td>\n",
       "      <td>0.037175</td>\n",
       "    </tr>\n",
       "    <tr>\n",
       "      <th>3</th>\n",
       "      <td>3042.0</td>\n",
       "      <td>12.50</td>\n",
       "      <td>0.0</td>\n",
       "      <td>0.0</td>\n",
       "      <td>0.0</td>\n",
       "      <td>0.0</td>\n",
       "      <td>0.0</td>\n",
       "      <td>0.0</td>\n",
       "      <td>0.0</td>\n",
       "      <td>0.0</td>\n",
       "      <td>...</td>\n",
       "      <td>inf</td>\n",
       "      <td>inf</td>\n",
       "      <td>inf</td>\n",
       "      <td>inf</td>\n",
       "      <td>inf</td>\n",
       "      <td>inf</td>\n",
       "      <td>inf</td>\n",
       "      <td>inf</td>\n",
       "      <td>inf</td>\n",
       "      <td>inf</td>\n",
       "    </tr>\n",
       "    <tr>\n",
       "      <th>4</th>\n",
       "      <td>2779.0</td>\n",
       "      <td>9.54</td>\n",
       "      <td>0.0</td>\n",
       "      <td>0.0</td>\n",
       "      <td>0.0</td>\n",
       "      <td>0.0</td>\n",
       "      <td>0.0</td>\n",
       "      <td>0.0</td>\n",
       "      <td>9.0</td>\n",
       "      <td>0.0</td>\n",
       "      <td>...</td>\n",
       "      <td>inf</td>\n",
       "      <td>inf</td>\n",
       "      <td>0.111111</td>\n",
       "      <td>inf</td>\n",
       "      <td>inf</td>\n",
       "      <td>inf</td>\n",
       "      <td>inf</td>\n",
       "      <td>inf</td>\n",
       "      <td>inf</td>\n",
       "      <td>inf</td>\n",
       "    </tr>\n",
       "  </tbody>\n",
       "</table>\n",
       "<p>5 rows × 31 columns</p>\n",
       "</div>"
      ],
      "text/plain": [
       "   BioCNG_Produced_m3  Pig_Manure_t  Cassava_t  Fish_waste_water_t  \\\n",
       "0              2024.0          6.82        0.0                 0.0   \n",
       "1              2909.0          0.00        0.0                 0.0   \n",
       "2              3020.0          6.66        0.0                 0.0   \n",
       "3              3042.0         12.50        0.0                 0.0   \n",
       "4              2779.0          9.54        0.0                 0.0   \n",
       "\n",
       "   Kitchen_food_waste_t  Municipal_fecal_residue_t  Tea_waste_t  \\\n",
       "0                   0.0                        0.0          0.0   \n",
       "1                   0.0                        0.0          0.0   \n",
       "2                   0.0                        0.0          0.0   \n",
       "3                   0.0                        0.0          0.0   \n",
       "4                   0.0                        0.0          0.0   \n",
       "\n",
       "   Chicken_litter_t  Bagasse_feed_t  Alcohol_waste_t       ...         \\\n",
       "0               0.0            15.0              0.0       ...          \n",
       "1               0.0            15.0              0.0       ...          \n",
       "2               0.0            15.0              0.0       ...          \n",
       "3               0.0             0.0              0.0       ...          \n",
       "4               0.0             9.0              0.0       ...          \n",
       "\n",
       "   1/Tea_waste_t  1/Chicken_litter_t  1/Bagasse_feed_t  1/Alcohol_waste_t  \\\n",
       "0            inf                 inf          0.066667                inf   \n",
       "1            inf                 inf          0.066667                inf   \n",
       "2            inf                 inf          0.066667                inf   \n",
       "3            inf                 inf               inf                inf   \n",
       "4            inf                 inf          0.111111                inf   \n",
       "\n",
       "   1/Chinese_medicine_waste_t  1/Energy_grass_t  1/Banana_fruit_shafts_t  \\\n",
       "0                         inf               inf                      inf   \n",
       "1                         inf               inf                      inf   \n",
       "2                         inf               inf                      inf   \n",
       "3                         inf               inf                      inf   \n",
       "4                         inf               inf                      inf   \n",
       "\n",
       "   1/Lemon_waste_t  1/Percolate_t  1/Other_waste_t  \n",
       "0              inf            inf         0.037821  \n",
       "1              inf            inf         0.034578  \n",
       "2              inf            inf         0.037175  \n",
       "3              inf            inf              inf  \n",
       "4              inf            inf              inf  \n",
       "\n",
       "[5 rows x 31 columns]"
      ]
     },
     "execution_count": 22,
     "metadata": {},
     "output_type": "execute_result"
    }
   ],
   "source": [
    "for col in hainan.columns[1:]:\n",
    "    hainan['1/'+col] = 1/(hainan[col])\n",
    "    \n",
    "hainan.head()"
   ]
  },
  {
   "cell_type": "markdown",
   "metadata": {},
   "source": [
    "Replace invalid values"
   ]
  },
  {
   "cell_type": "code",
   "execution_count": 23,
   "metadata": {},
   "outputs": [],
   "source": [
    "hainan.replace(float('inf'), 0, inplace=True)\n",
    "train_data, test_data = train_test_split(hainan, test_size=0.2)"
   ]
  },
  {
   "cell_type": "code",
   "execution_count": 24,
   "metadata": {},
   "outputs": [],
   "source": [
    "INVERSE_COLUMNS = [ 'BioCNG_Produced_m3', 'Pig_Manure_t', 'Cassava_t',\n",
    "                    'Fish_waste_water_t', 'Kitchen_food_waste_t',\n",
    "                    'Municipal_fecal_residue_t', 'Tea_waste_t', 'Chicken_litter_t',\n",
    "                    'Bagasse_feed_t', 'Alcohol_waste_t', 'Chinese_medicine_waste_t',\n",
    "                    'Energy_grass_t', 'Banana_fruit_shafts_t', 'Lemon_waste_t',\n",
    "                    'Percolate_t', 'Other_waste_t', '1/Pig_Manure_t', '1/Cassava_t',\n",
    "                    '1/Fish_waste_water_t', '1/Kitchen_food_waste_t',\n",
    "                    '1/Municipal_fecal_residue_t', '1/Tea_waste_t', '1/Chicken_litter_t',\n",
    "                    '1/Bagasse_feed_t', '1/Alcohol_waste_t', '1/Chinese_medicine_waste_t',\n",
    "                    '1/Energy_grass_t', '1/Banana_fruit_shafts_t', '1/Lemon_waste_t',\n",
    "                    '1/Percolate_t', '1/Other_waste_t' ]\n",
    "\n",
    "X_train = train_data[INVERSE_COLUMNS]\n",
    "y_train = train_data.BioCNG_Produced_m3\n",
    "X_test = test_data[INVERSE_COLUMNS]\n",
    "y_test = test_data.BioCNG_Produced_m3"
   ]
  },
  {
   "cell_type": "code",
   "execution_count": 25,
   "metadata": {},
   "outputs": [],
   "source": [
    "y_pred_train = hainan_ols.predict(X_train)\n",
    "y_pred_test = hainan_ols.predict(X_test)"
   ]
  },
  {
   "cell_type": "markdown",
   "metadata": {},
   "source": [
    "Compute the root-mean-square of training data"
   ]
  },
  {
   "cell_type": "code",
   "execution_count": 26,
   "metadata": {},
   "outputs": [
    {
     "name": "stdout",
     "output_type": "stream",
     "text": [
      "Training error: 0.000234819084938\n"
     ]
    }
   ],
   "source": [
    "rms_train = np.sqrt(mean_squared_error(y_train, y_pred_train))\n",
    "print('Training error:', rms_train/sum(y_train))"
   ]
  },
  {
   "cell_type": "markdown",
   "metadata": {},
   "source": [
    "Compute the root-mean-square of test data"
   ]
  },
  {
   "cell_type": "code",
   "execution_count": 27,
   "metadata": {},
   "outputs": [
    {
     "name": "stdout",
     "output_type": "stream",
     "text": [
      "Testing error: 0.000963716293672\n"
     ]
    }
   ],
   "source": [
    "rms_test = np.sqrt(mean_squared_error(y_test, y_pred_test))\n",
    "print('Testing error:', rms_test/sum(y_test))"
   ]
  },
  {
   "cell_type": "markdown",
   "metadata": {},
   "source": [
    "#### Logistic regression"
   ]
  },
  {
   "cell_type": "markdown",
   "metadata": {},
   "source": [
    "Bin the data and reset test and train data"
   ]
  },
  {
   "cell_type": "code",
   "execution_count": 28,
   "metadata": {},
   "outputs": [],
   "source": [
    "hainan['BioCNG_Produced_binned'] = pd.cut(hainan['BioCNG_Produced_m3'], bins=3, labels=[0, 1, 2])\n",
    "train_data, test_data = train_test_split(hainan, test_size=0.2)\n",
    "y_train = train_data.BioCNG_Produced_binned\n",
    "y_test = test_data.BioCNG_Produced_binned"
   ]
  },
  {
   "cell_type": "code",
   "execution_count": 29,
   "metadata": {},
   "outputs": [
    {
     "name": "stdout",
     "output_type": "stream",
     "text": [
      "Accuracy of logistic regression classifier on training set: 0.60\n",
      "Accuracy of logistic regression classifier on test set: 0.61\n",
      "Confusion matrix:\n",
      "[[166   1   1]\n",
      " [ 76   1   0]\n",
      " [ 30   0   0]]\n"
     ]
    }
   ],
   "source": [
    "logreg = LogisticRegression()\n",
    "logreg.fit(X_train, y_train)\n",
    "y_pred_test = logreg.predict(X_test)\n",
    "\n",
    "print('Accuracy of logistic regression classifier on training set: {:.2f}'.format(logreg.score(X_train, y_train)))\n",
    "print('Accuracy of logistic regression classifier on test set: {:.2f}'.format(logreg.score(X_test, y_test)))\n",
    "print('Confusion matrix:')\n",
    "print(confusion_matrix(y_test, y_pred_test))"
   ]
  },
  {
   "cell_type": "markdown",
   "metadata": {},
   "source": [
    "#### SVM"
   ]
  },
  {
   "cell_type": "code",
   "execution_count": 30,
   "metadata": {},
   "outputs": [
    {
     "name": "stdout",
     "output_type": "stream",
     "text": [
      "Accuracy of SVM on training set: 0.98\n",
      "Accuracy of SVM on test set: 0.60\n"
     ]
    }
   ],
   "source": [
    "clf = svm.SVC()\n",
    "clf.fit(X_train, y_train)  \n",
    "\n",
    "print('Accuracy of SVM on training set: {:.2f}'.format(clf.score(X_train, y_train)))\n",
    "print('Accuracy of SVM on test set: {:.2f}'.format(clf.score(X_test, y_test)))"
   ]
  },
  {
   "cell_type": "markdown",
   "metadata": {},
   "source": [
    "#### Perceptron"
   ]
  },
  {
   "cell_type": "code",
   "execution_count": 31,
   "metadata": {},
   "outputs": [
    {
     "name": "stdout",
     "output_type": "stream",
     "text": [
      "Accuracy of perceptron on training set: 0.59\n",
      "Accuracy of perceptron on test set: 0.60\n"
     ]
    }
   ],
   "source": [
    "net = perceptron.Perceptron(n_iter=100, verbose=0, random_state=None, fit_intercept=True, eta0=0.002)\n",
    "net.fit(X_train, y_train)\n",
    "\n",
    "print('Accuracy of perceptron on training set: {:.2f}'.format(net.score(X_train, y_train)))\n",
    "print('Accuracy of perceptron on test set: {:.2f}'.format(net.score(X_test, y_test)))"
   ]
  },
  {
   "cell_type": "markdown",
   "metadata": {},
   "source": [
    "#### KNN"
   ]
  },
  {
   "cell_type": "markdown",
   "metadata": {},
   "source": [
    "Normalize data"
   ]
  },
  {
   "cell_type": "code",
   "execution_count": 32,
   "metadata": {},
   "outputs": [],
   "source": [
    "min_max_scaler = preprocessing.MinMaxScaler()\n",
    "np_scaled = min_max_scaler.fit_transform(hainan[['BioCNG_Produced_m3', 'Pig_Manure_t', 'Cassava_t',\n",
    "       'Fish_waste_water_t', 'Kitchen_food_waste_t',\n",
    "       'Municipal_fecal_residue_t', 'Tea_waste_t', 'Chicken_litter_t',\n",
    "       'Bagasse_feed_t', 'Alcohol_waste_t', 'Chinese_medicine_waste_t',\n",
    "       'Energy_grass_t', 'Banana_fruit_shafts_t', 'Lemon_waste_t',\n",
    "       'Percolate_t', 'Other_waste_t', '1/Pig_Manure_t', '1/Cassava_t',\n",
    "       '1/Fish_waste_water_t', '1/Kitchen_food_waste_t',\n",
    "       '1/Municipal_fecal_residue_t', '1/Tea_waste_t', '1/Chicken_litter_t',\n",
    "       '1/Bagasse_feed_t', '1/Alcohol_waste_t', '1/Chinese_medicine_waste_t',\n",
    "       '1/Energy_grass_t', '1/Banana_fruit_shafts_t', '1/Lemon_waste_t',\n",
    "       '1/Percolate_t', '1/Other_waste_t']])\n",
    "\n",
    "hainan_normalized = pd.DataFrame(np_scaled)"
   ]
  },
  {
   "cell_type": "markdown",
   "metadata": {},
   "source": [
    "Reset train and test data"
   ]
  },
  {
   "cell_type": "code",
   "execution_count": 33,
   "metadata": {},
   "outputs": [],
   "source": [
    "hainan_normalized_train, hainan_normalized_test = train_test_split(hainan_normalized, test_size=0.2)\n",
    "Xnor_train = hainan_normalized_train.iloc[:, 1:16]    \n",
    "ynor_train = hainan_normalized_train[0]\n",
    "Xnor_test = hainan_normalized_test.iloc[:, 1:16]\n",
    "ynor_test = hainan_normalized_test[0]"
   ]
  },
  {
   "cell_type": "markdown",
   "metadata": {},
   "source": [
    "Run KNN"
   ]
  },
  {
   "cell_type": "code",
   "execution_count": 34,
   "metadata": {},
   "outputs": [
    {
     "name": "stdout",
     "output_type": "stream",
     "text": [
      "Accuracy of kNN on training set: 0.89\n",
      "Accuracy of kNN on test set: 0.86\n"
     ]
    }
   ],
   "source": [
    "knn = KNeighborsRegressor(n_neighbors=7)\n",
    "knn.fit(Xnor_train, ynor_train)\n",
    "\n",
    "print('Accuracy of kNN on training set: {:.2f}'.format(knn.score(Xnor_train, ynor_train)))\n",
    "print('Accuracy of kNN on test set: {:.2f}'.format(knn.score(Xnor_test, ynor_test)))"
   ]
  },
  {
   "cell_type": "markdown",
   "metadata": {},
   "source": [
    "#### Random forest"
   ]
  },
  {
   "cell_type": "code",
   "execution_count": 35,
   "metadata": {},
   "outputs": [
    {
     "name": "stdout",
     "output_type": "stream",
     "text": [
      "Accuracy of Random Forest on train set: 0.99\n",
      "Accuracy of Random Forest on test set: 0.57\n"
     ]
    }
   ],
   "source": [
    "random_forest = RandomForestClassifier(n_estimators = 1000)\n",
    "random_forest.fit(X_train, y_train)\n",
    "\n",
    "print('Accuracy of Random Forest on train set: {:.2f}'.format(random_forest.score(X_train, y_train)))\n",
    "print('Accuracy of Random Forest on test set: {:.2f}'.format(random_forest.score(X_test, y_test)))"
   ]
  },
  {
   "cell_type": "markdown",
   "metadata": {},
   "source": [
    "### Add x^2 columns"
   ]
  },
  {
   "cell_type": "code",
   "execution_count": 36,
   "metadata": {},
   "outputs": [],
   "source": [
    "hainan = hainan.drop(['BioCNG_Produced_binned'], axis=1)"
   ]
  },
  {
   "cell_type": "code",
   "execution_count": 37,
   "metadata": {},
   "outputs": [
    {
     "data": {
      "text/html": [
       "<div>\n",
       "<style scoped>\n",
       "    .dataframe tbody tr th:only-of-type {\n",
       "        vertical-align: middle;\n",
       "    }\n",
       "\n",
       "    .dataframe tbody tr th {\n",
       "        vertical-align: top;\n",
       "    }\n",
       "\n",
       "    .dataframe thead th {\n",
       "        text-align: right;\n",
       "    }\n",
       "</style>\n",
       "<table border=\"1\" class=\"dataframe\">\n",
       "  <thead>\n",
       "    <tr style=\"text-align: right;\">\n",
       "      <th></th>\n",
       "      <th>BioCNG_Produced_m3</th>\n",
       "      <th>Pig_Manure_t</th>\n",
       "      <th>Cassava_t</th>\n",
       "      <th>Fish_waste_water_t</th>\n",
       "      <th>Kitchen_food_waste_t</th>\n",
       "      <th>Municipal_fecal_residue_t</th>\n",
       "      <th>Tea_waste_t</th>\n",
       "      <th>Chicken_litter_t</th>\n",
       "      <th>Bagasse_feed_t</th>\n",
       "      <th>Alcohol_waste_t</th>\n",
       "      <th>...</th>\n",
       "      <th>1/Tea_waste_t**2</th>\n",
       "      <th>1/Chicken_litter_t**2</th>\n",
       "      <th>1/Bagasse_feed_t**2</th>\n",
       "      <th>1/Alcohol_waste_t**2</th>\n",
       "      <th>1/Chinese_medicine_waste_t**2</th>\n",
       "      <th>1/Energy_grass_t**2</th>\n",
       "      <th>1/Banana_fruit_shafts_t**2</th>\n",
       "      <th>1/Lemon_waste_t**2</th>\n",
       "      <th>1/Percolate_t**2</th>\n",
       "      <th>1/Other_waste_t**2</th>\n",
       "    </tr>\n",
       "  </thead>\n",
       "  <tbody>\n",
       "    <tr>\n",
       "      <th>0</th>\n",
       "      <td>2024.0</td>\n",
       "      <td>6.82</td>\n",
       "      <td>0.0</td>\n",
       "      <td>0.0</td>\n",
       "      <td>0.0</td>\n",
       "      <td>0.0</td>\n",
       "      <td>0.0</td>\n",
       "      <td>0.0</td>\n",
       "      <td>15.0</td>\n",
       "      <td>0.0</td>\n",
       "      <td>...</td>\n",
       "      <td>0.0</td>\n",
       "      <td>0.0</td>\n",
       "      <td>0.004444</td>\n",
       "      <td>0.0</td>\n",
       "      <td>0.0</td>\n",
       "      <td>0.0</td>\n",
       "      <td>0.0</td>\n",
       "      <td>0.0</td>\n",
       "      <td>0.0</td>\n",
       "      <td>0.001430</td>\n",
       "    </tr>\n",
       "    <tr>\n",
       "      <th>1</th>\n",
       "      <td>2909.0</td>\n",
       "      <td>0.00</td>\n",
       "      <td>0.0</td>\n",
       "      <td>0.0</td>\n",
       "      <td>0.0</td>\n",
       "      <td>0.0</td>\n",
       "      <td>0.0</td>\n",
       "      <td>0.0</td>\n",
       "      <td>15.0</td>\n",
       "      <td>0.0</td>\n",
       "      <td>...</td>\n",
       "      <td>0.0</td>\n",
       "      <td>0.0</td>\n",
       "      <td>0.004444</td>\n",
       "      <td>0.0</td>\n",
       "      <td>0.0</td>\n",
       "      <td>0.0</td>\n",
       "      <td>0.0</td>\n",
       "      <td>0.0</td>\n",
       "      <td>0.0</td>\n",
       "      <td>0.001196</td>\n",
       "    </tr>\n",
       "    <tr>\n",
       "      <th>2</th>\n",
       "      <td>3020.0</td>\n",
       "      <td>6.66</td>\n",
       "      <td>0.0</td>\n",
       "      <td>0.0</td>\n",
       "      <td>0.0</td>\n",
       "      <td>0.0</td>\n",
       "      <td>0.0</td>\n",
       "      <td>0.0</td>\n",
       "      <td>15.0</td>\n",
       "      <td>0.0</td>\n",
       "      <td>...</td>\n",
       "      <td>0.0</td>\n",
       "      <td>0.0</td>\n",
       "      <td>0.004444</td>\n",
       "      <td>0.0</td>\n",
       "      <td>0.0</td>\n",
       "      <td>0.0</td>\n",
       "      <td>0.0</td>\n",
       "      <td>0.0</td>\n",
       "      <td>0.0</td>\n",
       "      <td>0.001382</td>\n",
       "    </tr>\n",
       "    <tr>\n",
       "      <th>3</th>\n",
       "      <td>3042.0</td>\n",
       "      <td>12.50</td>\n",
       "      <td>0.0</td>\n",
       "      <td>0.0</td>\n",
       "      <td>0.0</td>\n",
       "      <td>0.0</td>\n",
       "      <td>0.0</td>\n",
       "      <td>0.0</td>\n",
       "      <td>0.0</td>\n",
       "      <td>0.0</td>\n",
       "      <td>...</td>\n",
       "      <td>0.0</td>\n",
       "      <td>0.0</td>\n",
       "      <td>0.000000</td>\n",
       "      <td>0.0</td>\n",
       "      <td>0.0</td>\n",
       "      <td>0.0</td>\n",
       "      <td>0.0</td>\n",
       "      <td>0.0</td>\n",
       "      <td>0.0</td>\n",
       "      <td>0.000000</td>\n",
       "    </tr>\n",
       "    <tr>\n",
       "      <th>4</th>\n",
       "      <td>2779.0</td>\n",
       "      <td>9.54</td>\n",
       "      <td>0.0</td>\n",
       "      <td>0.0</td>\n",
       "      <td>0.0</td>\n",
       "      <td>0.0</td>\n",
       "      <td>0.0</td>\n",
       "      <td>0.0</td>\n",
       "      <td>9.0</td>\n",
       "      <td>0.0</td>\n",
       "      <td>...</td>\n",
       "      <td>0.0</td>\n",
       "      <td>0.0</td>\n",
       "      <td>0.012346</td>\n",
       "      <td>0.0</td>\n",
       "      <td>0.0</td>\n",
       "      <td>0.0</td>\n",
       "      <td>0.0</td>\n",
       "      <td>0.0</td>\n",
       "      <td>0.0</td>\n",
       "      <td>0.000000</td>\n",
       "    </tr>\n",
       "  </tbody>\n",
       "</table>\n",
       "<p>5 rows × 61 columns</p>\n",
       "</div>"
      ],
      "text/plain": [
       "   BioCNG_Produced_m3  Pig_Manure_t  Cassava_t  Fish_waste_water_t  \\\n",
       "0              2024.0          6.82        0.0                 0.0   \n",
       "1              2909.0          0.00        0.0                 0.0   \n",
       "2              3020.0          6.66        0.0                 0.0   \n",
       "3              3042.0         12.50        0.0                 0.0   \n",
       "4              2779.0          9.54        0.0                 0.0   \n",
       "\n",
       "   Kitchen_food_waste_t  Municipal_fecal_residue_t  Tea_waste_t  \\\n",
       "0                   0.0                        0.0          0.0   \n",
       "1                   0.0                        0.0          0.0   \n",
       "2                   0.0                        0.0          0.0   \n",
       "3                   0.0                        0.0          0.0   \n",
       "4                   0.0                        0.0          0.0   \n",
       "\n",
       "   Chicken_litter_t  Bagasse_feed_t  Alcohol_waste_t         ...          \\\n",
       "0               0.0            15.0              0.0         ...           \n",
       "1               0.0            15.0              0.0         ...           \n",
       "2               0.0            15.0              0.0         ...           \n",
       "3               0.0             0.0              0.0         ...           \n",
       "4               0.0             9.0              0.0         ...           \n",
       "\n",
       "   1/Tea_waste_t**2  1/Chicken_litter_t**2  1/Bagasse_feed_t**2  \\\n",
       "0               0.0                    0.0             0.004444   \n",
       "1               0.0                    0.0             0.004444   \n",
       "2               0.0                    0.0             0.004444   \n",
       "3               0.0                    0.0             0.000000   \n",
       "4               0.0                    0.0             0.012346   \n",
       "\n",
       "   1/Alcohol_waste_t**2  1/Chinese_medicine_waste_t**2  1/Energy_grass_t**2  \\\n",
       "0                   0.0                            0.0                  0.0   \n",
       "1                   0.0                            0.0                  0.0   \n",
       "2                   0.0                            0.0                  0.0   \n",
       "3                   0.0                            0.0                  0.0   \n",
       "4                   0.0                            0.0                  0.0   \n",
       "\n",
       "   1/Banana_fruit_shafts_t**2  1/Lemon_waste_t**2  1/Percolate_t**2  \\\n",
       "0                         0.0                 0.0               0.0   \n",
       "1                         0.0                 0.0               0.0   \n",
       "2                         0.0                 0.0               0.0   \n",
       "3                         0.0                 0.0               0.0   \n",
       "4                         0.0                 0.0               0.0   \n",
       "\n",
       "   1/Other_waste_t**2  \n",
       "0            0.001430  \n",
       "1            0.001196  \n",
       "2            0.001382  \n",
       "3            0.000000  \n",
       "4            0.000000  \n",
       "\n",
       "[5 rows x 61 columns]"
      ]
     },
     "execution_count": 37,
     "metadata": {},
     "output_type": "execute_result"
    }
   ],
   "source": [
    "for col in hainan.columns[1:]:\n",
    "    hainan[col+\"**2\"] = (hainan[col])**2\n",
    "    \n",
    "hainan.head()"
   ]
  },
  {
   "cell_type": "code",
   "execution_count": 38,
   "metadata": {},
   "outputs": [],
   "source": [
    "hainan_train, hainan_test = train_test_split(hainan, test_size=0.2)"
   ]
  },
  {
   "cell_type": "code",
   "execution_count": 39,
   "metadata": {
    "collapsed": true
   },
   "outputs": [],
   "source": [
    "SQUARED_COLUMNS = [ 'Pig_Manure_t', 'Cassava_t', 'Fish_waste_water_t',\n",
    "                    'Kitchen_food_waste_t', 'Municipal_fecal_residue_t', 'Tea_waste_t',\n",
    "                    'Chicken_litter_t', 'Bagasse_feed_t', 'Alcohol_waste_t',\n",
    "                    'Chinese_medicine_waste_t', 'Energy_grass_t', 'Banana_fruit_shafts_t',\n",
    "                    'Lemon_waste_t', 'Percolate_t', 'Other_waste_t', '1/Pig_Manure_t',\n",
    "                    '1/Cassava_t', '1/Fish_waste_water_t', '1/Kitchen_food_waste_t',\n",
    "                    '1/Municipal_fecal_residue_t', '1/Tea_waste_t', '1/Chicken_litter_t',\n",
    "                    '1/Bagasse_feed_t', '1/Alcohol_waste_t', '1/Chinese_medicine_waste_t',\n",
    "                    '1/Energy_grass_t', '1/Banana_fruit_shafts_t', '1/Lemon_waste_t',\n",
    "                    '1/Percolate_t', '1/Other_waste_t', 'Pig_Manure_t**2', 'Cassava_t**2',\n",
    "                    'Fish_waste_water_t**2', 'Kitchen_food_waste_t**2',\n",
    "                    'Municipal_fecal_residue_t**2', 'Tea_waste_t**2', 'Chicken_litter_t**2',\n",
    "                    'Bagasse_feed_t**2', 'Alcohol_waste_t**2',\n",
    "                    'Chinese_medicine_waste_t**2', 'Energy_grass_t**2',\n",
    "                    'Banana_fruit_shafts_t**2', 'Lemon_waste_t**2', 'Percolate_t**2',\n",
    "                    'Other_waste_t**2', '1/Pig_Manure_t**2', '1/Cassava_t**2',\n",
    "                    '1/Fish_waste_water_t**2', '1/Kitchen_food_waste_t**2',\n",
    "                    '1/Municipal_fecal_residue_t**2', '1/Tea_waste_t**2',\n",
    "                    '1/Chicken_litter_t**2', '1/Bagasse_feed_t**2', '1/Alcohol_waste_t**2',\n",
    "                    '1/Chinese_medicine_waste_t**2', '1/Energy_grass_t**2',\n",
    "                    '1/Banana_fruit_shafts_t**2', '1/Lemon_waste_t**2', '1/Percolate_t**2',\n",
    "                    '1/Other_waste_t**2' ]\n",
    "\n",
    "X_train = hainan_train[SQUARED_COLUMNS]\n",
    "y_train = hainan_train.BioCNG_Produced_m3\n",
    "X_test = hainan_test[SQUARED_COLUMNS]\n",
    "y_test = hainan_test.BioCNG_Produced_m3"
   ]
  },
  {
   "cell_type": "code",
   "execution_count": 40,
   "metadata": {},
   "outputs": [],
   "source": [
    "y_pred_train = hainan_ols.predict(X_train)\n",
    "y_pred_test = hainan_ols.predict(X_test)"
   ]
  },
  {
   "cell_type": "markdown",
   "metadata": {},
   "source": [
    "Compute the root-mean-square of training data"
   ]
  },
  {
   "cell_type": "code",
   "execution_count": 41,
   "metadata": {},
   "outputs": [
    {
     "name": "stdout",
     "output_type": "stream",
     "text": [
      "Training error: 0.000226771424287\n"
     ]
    }
   ],
   "source": [
    "rms_train = np.sqrt(mean_squared_error(y_train, y_pred_train))\n",
    "print('Training error:', rms_train/sum(y_train))"
   ]
  },
  {
   "cell_type": "markdown",
   "metadata": {},
   "source": [
    "Compute the root-mean-square of test data"
   ]
  },
  {
   "cell_type": "code",
   "execution_count": 42,
   "metadata": {},
   "outputs": [
    {
     "name": "stdout",
     "output_type": "stream",
     "text": [
      "Testing error: 0.00110230490533\n"
     ]
    }
   ],
   "source": [
    "rms_test = np.sqrt(mean_squared_error(y_test, y_pred_test))\n",
    "print('Testing error:', rms_test/sum(y_test))"
   ]
  },
  {
   "cell_type": "markdown",
   "metadata": {},
   "source": [
    "#### Logistic regression"
   ]
  },
  {
   "cell_type": "markdown",
   "metadata": {},
   "source": [
    "Bin the data and reset test and train data"
   ]
  },
  {
   "cell_type": "code",
   "execution_count": 43,
   "metadata": {},
   "outputs": [],
   "source": [
    "hainan['BioCNG_Produced_binned'] = pd.cut(hainan['BioCNG_Produced_m3'], bins=3, labels=[0, 1, 2])\n",
    "train_data, test_data = train_test_split(hainan, test_size=0.2)\n",
    "y_train = train_data.BioCNG_Produced_binned\n",
    "y_test = test_data.BioCNG_Produced_binned"
   ]
  },
  {
   "cell_type": "code",
   "execution_count": 44,
   "metadata": {},
   "outputs": [
    {
     "name": "stdout",
     "output_type": "stream",
     "text": [
      "Accuracy of logistic regression classifier on training set: 0.58\n",
      "Accuracy of logistic regression classifier on test set: 0.61\n",
      "Confusion matrix:\n",
      "[[166   6   3]\n",
      " [ 56   1   0]\n",
      " [ 43   0   0]]\n"
     ]
    }
   ],
   "source": [
    "logreg = LogisticRegression()\n",
    "logreg.fit(X_train, y_train)\n",
    "y_pred_test = logreg.predict(X_test)\n",
    "\n",
    "print('Accuracy of logistic regression classifier on training set: {:.2f}'.format(logreg.score(X_train, y_train)))\n",
    "print('Accuracy of logistic regression classifier on test set: {:.2f}'.format(logreg.score(X_test, y_test)))\n",
    "print('Confusion matrix:')\n",
    "print(confusion_matrix(y_test, y_pred_test))"
   ]
  },
  {
   "cell_type": "markdown",
   "metadata": {},
   "source": [
    "#### SVM"
   ]
  },
  {
   "cell_type": "code",
   "execution_count": 45,
   "metadata": {},
   "outputs": [
    {
     "name": "stdout",
     "output_type": "stream",
     "text": [
      "Accuracy of SVM on training set: 0.94\n",
      "Accuracy of SVM on test set: 0.62\n"
     ]
    }
   ],
   "source": [
    "clf = svm.SVC()\n",
    "clf.fit(X_train, y_train)  \n",
    "\n",
    "print('Accuracy of SVM on training set: {:.2f}'.format(clf.score(X_train, y_train)))\n",
    "print('Accuracy of SVM on test set: {:.2f}'.format(clf.score(X_test, y_test)))"
   ]
  },
  {
   "cell_type": "markdown",
   "metadata": {},
   "source": [
    "#### Perceptron"
   ]
  },
  {
   "cell_type": "code",
   "execution_count": 46,
   "metadata": {},
   "outputs": [
    {
     "name": "stdout",
     "output_type": "stream",
     "text": [
      "Accuracy of perceptron on training set: 0.41\n",
      "Accuracy of perceptron on test set: 0.46\n"
     ]
    }
   ],
   "source": [
    "net = perceptron.Perceptron(n_iter=100, verbose=0, random_state=None, fit_intercept=True, eta0=0.002)\n",
    "net.fit(X_train, y_train)\n",
    "\n",
    "print('Accuracy of perceptron on training set: {:.2f}'.format(net.score(X_train, y_train)))\n",
    "print('Accuracy of perceptron on test set: {:.2f}'.format(net.score(X_test, y_test)))"
   ]
  },
  {
   "cell_type": "markdown",
   "metadata": {},
   "source": [
    "#### KNN"
   ]
  },
  {
   "cell_type": "markdown",
   "metadata": {},
   "source": [
    "Normalize data"
   ]
  },
  {
   "cell_type": "code",
   "execution_count": 47,
   "metadata": {},
   "outputs": [],
   "source": [
    "min_max_scaler = preprocessing.MinMaxScaler()\n",
    "np_scaled = min_max_scaler.fit_transform(hainan[['BioCNG_Produced_m3', 'Pig_Manure_t', 'Cassava_t',\n",
    "       'Fish_waste_water_t', 'Kitchen_food_waste_t',\n",
    "       'Municipal_fecal_residue_t', 'Tea_waste_t', 'Chicken_litter_t',\n",
    "       'Bagasse_feed_t', 'Alcohol_waste_t', 'Chinese_medicine_waste_t',\n",
    "       'Energy_grass_t', 'Banana_fruit_shafts_t', 'Lemon_waste_t',\n",
    "       'Percolate_t', 'Other_waste_t', '1/Pig_Manure_t', '1/Cassava_t',\n",
    "       '1/Fish_waste_water_t', '1/Kitchen_food_waste_t',\n",
    "       '1/Municipal_fecal_residue_t', '1/Tea_waste_t', '1/Chicken_litter_t',\n",
    "       '1/Bagasse_feed_t', '1/Alcohol_waste_t', '1/Chinese_medicine_waste_t',\n",
    "       '1/Energy_grass_t', '1/Banana_fruit_shafts_t', '1/Lemon_waste_t',\n",
    "       '1/Percolate_t', '1/Other_waste_t']])\n",
    "\n",
    "hainan_normalized = pd.DataFrame(np_scaled)"
   ]
  },
  {
   "cell_type": "markdown",
   "metadata": {},
   "source": [
    "Reset train and test data"
   ]
  },
  {
   "cell_type": "code",
   "execution_count": 48,
   "metadata": {},
   "outputs": [],
   "source": [
    "hainan_normalized_train, hainan_normalized_test = train_test_split(hainan_normalized, test_size=0.2)\n",
    "Xnor_train = hainan_normalized_train.iloc[:, 1:16]    \n",
    "ynor_train = hainan_normalized_train[0]\n",
    "Xnor_test = hainan_normalized_test.iloc[:, 1:16]\n",
    "ynor_test = hainan_normalized_test[0]"
   ]
  },
  {
   "cell_type": "markdown",
   "metadata": {},
   "source": [
    "Run KNN"
   ]
  },
  {
   "cell_type": "code",
   "execution_count": 49,
   "metadata": {},
   "outputs": [
    {
     "name": "stdout",
     "output_type": "stream",
     "text": [
      "Accuracy of kNN on training set: 0.89\n",
      "Accuracy of kNN on test set: 0.87\n"
     ]
    }
   ],
   "source": [
    "knn = KNeighborsRegressor(n_neighbors=7)\n",
    "knn.fit(Xnor_train, ynor_train)\n",
    "\n",
    "print('Accuracy of kNN on training set: {:.2f}'.format(knn.score(Xnor_train, ynor_train)))\n",
    "print('Accuracy of kNN on test set: {:.2f}'.format(knn.score(Xnor_test, ynor_test)))"
   ]
  },
  {
   "cell_type": "markdown",
   "metadata": {},
   "source": [
    "#### Random forest"
   ]
  },
  {
   "cell_type": "code",
   "execution_count": 50,
   "metadata": {},
   "outputs": [
    {
     "name": "stdout",
     "output_type": "stream",
     "text": [
      "Accuracy of Random Forest on train set: 0.97\n",
      "Accuracy of Random Forest on test set: 0.53\n"
     ]
    }
   ],
   "source": [
    "random_forest = RandomForestClassifier(n_estimators = 1000)\n",
    "random_forest.fit(X_train, y_train)\n",
    "\n",
    "print('Accuracy of Random Forest on train set: {:.2f}'.format(random_forest.score(X_train, y_train)))\n",
    "print('Accuracy of Random Forest on test set: {:.2f}'.format(random_forest.score(X_test, y_test)))"
   ]
  }
 ],
 "metadata": {
  "kernelspec": {
   "display_name": "Python 3",
   "language": "python",
   "name": "python3"
  },
  "language_info": {
   "codemirror_mode": {
    "name": "ipython",
    "version": 3
   },
   "file_extension": ".py",
   "mimetype": "text/x-python",
   "name": "python",
   "nbconvert_exporter": "python",
   "pygments_lexer": "ipython3",
   "version": "3.6.4"
  }
 },
 "nbformat": 4,
 "nbformat_minor": 2
}
